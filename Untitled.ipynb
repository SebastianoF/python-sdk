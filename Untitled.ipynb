{
 "cells": [
  {
   "cell_type": "code",
   "execution_count": 1,
   "id": "acf0e3fc",
   "metadata": {},
   "outputs": [],
   "source": [
    "from datetime import datetime\n",
    "from vortexasdk import CargoMovements, Geographies\n",
    "import time\n",
    "from vortexasdk import DestinationBreakdown, Geographies\n",
    "\n"
   ]
  },
  {
   "cell_type": "code",
   "execution_count": 3,
   "id": "fefa567c",
   "metadata": {},
   "outputs": [
    {
     "name": "stdout",
     "output_type": "stream",
     "text": [
      "--------------------------------------\n",
      "{'total': 53866523, 'data': [{'key': '606e73162cfd0492919ef96b04dae1bfddda09d148d03bafc1dc3eab979a9b0a', 'value': 793227, 'count': 14}, {'key': '4813dd7209e85b128cc2fbc7c08fef08d26259550210f28a5c7ff3ccd7b2ba61', 'value': 462978, 'count': 10}, {'key': '844756c877c680ce0ff582a46b5bb1cf34cc33179df977a609b2c10838d9db5d', 'value': 288816, 'count': 11}, {'key': '78fcabe3bb6a47f2aa019ae9948be43c5ebbe08a2d1cba7b113315c85362cb7c', 'value': 118546, 'count': 14}, {'key': '66c26231960e1d1219b89ec02b835e4930ac8a6be88006712dfdafbfa04c010a', 'value': 65620, 'count': 13}], 'reference': {'606e73162cfd0492919ef96b04dae1bfddda09d148d03bafc1dc3eab979a9b0a': {'label': 'SPSE - DPF - G.I.E. Petroleum Terminal', 'type': 'geography', 'record': {'id': '606e73162cfd0492919ef96b04dae1bfddda09d148d03bafc1dc3eab979a9b0a', 'name': 'SPSE - DPF - G.I.E. Petroleum Terminal', 'layer': ['terminal'], 'leaf': True, 'parent': [{'name': 'Fos Sur Mer [FR]', 'layer': ['port', 'storage'], 'id': '6c1eeb0c59ecda62e5b90f4eaa7687c5625b7bc49ab9fe522bf65d0358a9b7aa'}], 'exclusion_rule': [{'name': 'SPSE - DPF - G.I.E. Petroleum Terminal', 'layer': ['terminal'], 'id': '606e73162cfd0492919ef96b04dae1bfddda09d148d03bafc1dc3eab979a9b0a'}], 'ref_type': 'geography', 'hierarchy': [{'label': 'SPSE - DPF - G.I.E. Petroleum Terminal', 'layer': 'terminal', 'id': '606e73162cfd0492919ef96b04dae1bfddda09d148d03bafc1dc3eab979a9b0a'}, {'id': '6c1eeb0c59ecda62e5b90f4eaa7687c5625b7bc49ab9fe522bf65d0358a9b7aa', 'layer': 'port', 'label': 'Fos Sur Mer [FR]'}, {'id': 'e9e556620469f46a4dc171aef71073f5286a288da35c5883cac760446b0ceb46', 'layer': 'country', 'label': 'France'}, {'id': '13092fe26ac4a02e3e3e6b9bef84e3e08400c646ba08672d53176044cbfaccda', 'layer': 'shipping_region', 'label': 'West Med'}, {'id': 'f39d455f5d38907394d6da3a91da4e391f9a34bd6a17e826d6042761067e88f4', 'layer': 'region', 'label': 'Europe'}, {'id': '67c03f20db88b5af01e3f7d3b93f067c09195bb149eaba2d35ce4b0f78527504', 'layer': 'trading_block', 'label': 'Med'}, {'id': '676c3cff1dffd971ae51cd350f231394eeb0ab94eff981432f6ee55c5219b913', 'layer': 'trading_block', 'label': 'UKC-Med region'}, {'id': '956b03529510459d298c4e537d23c6fbb22ffd8414af933b3475310c661f337a', 'layer': 'trading_block', 'label': 'Non-OPEC'}, {'id': '6478105a82fd32e1dabb3d11f0dd3cfe42fc93863a480967e15f5ec72ac10319', 'layer': 'trading_block', 'label': 'West of Suez'}, {'id': '6aa9a4fb76ca378e75eff85f458c90f7fd42778c26c957c417490c097161a3c5', 'layer': 'trading_region', 'label': 'Mediterranean (incl. North Africa)'}, {'id': '58d1f29ea5458427d85e3198dc2633d51bcca98607dfdbe4bad12a000656a1a1', 'layer': 'trading_subregion', 'label': 'France Med'}, {'id': '6c1eeb0c59ecda62e5b90f4eaa7687c5625b7bc49ab9fe522bf65d0358a9b7aa', 'layer': 'storage', 'label': 'Fos Sur Mer [FR]'}, {'id': '3936017f7fea4a2d18998d195fb166dee6a21103a7dac17ce381af73c3c08418', 'layer': 'fragment', 'label': 'France Med (West Med) 0'}], 'pos': [4.8909229038, 43.4147775496]}}, '4813dd7209e85b128cc2fbc7c08fef08d26259550210f28a5c7ff3ccd7b2ba61': {'label': 'Mailiao Industrial Park-Formosa Plastics', 'type': 'geography', 'record': {'id': '4813dd7209e85b128cc2fbc7c08fef08d26259550210f28a5c7ff3ccd7b2ba61', 'name': 'Mailiao Industrial Park-Formosa Plastics', 'layer': ['terminal'], 'leaf': True, 'parent': [{'name': 'Mai Liao - Taiwan [TW]', 'layer': ['port', 'storage'], 'id': '4ab1644eb893f766ec5ca9e8485eb8691140e3ed97fb5a34190ed9e527577f46'}], 'exclusion_rule': [{'name': 'Mailiao Industrial Park-Formosa Plastics', 'layer': ['terminal'], 'id': '4813dd7209e85b128cc2fbc7c08fef08d26259550210f28a5c7ff3ccd7b2ba61'}], 'ref_type': 'geography', 'hierarchy': [{'label': 'Mailiao Industrial Park-Formosa Plastics', 'layer': 'terminal', 'id': '4813dd7209e85b128cc2fbc7c08fef08d26259550210f28a5c7ff3ccd7b2ba61'}, {'id': '4ab1644eb893f766ec5ca9e8485eb8691140e3ed97fb5a34190ed9e527577f46', 'layer': 'port', 'label': 'Mai Liao - Taiwan [TW]'}, {'id': 'b15970adfcd316d11d698d13de23e2291a60e1fb05070feab30957c6645e576e', 'layer': 'country', 'label': 'Taiwan'}, {'id': '212fb4cfc862391faeacc63aa3ceb446a1c5ba6073da2a4e514a496e4c850635', 'layer': 'shipping_region', 'label': 'East Asia'}, {'id': 'e6955a2c59dc90833986fe0894cf6718dddaa7816bb51bc955cdd3eb4470e554', 'layer': 'region', 'label': 'Asia'}, {'id': '07ac020aa082d5d116f829ef28a40e9876c0644aeb4f0480202c1a86bb8adf7f', 'layer': 'trading_block', 'label': 'Far East'}, {'id': 'fc6694742ebce49ff955fffa066898c41686d460ab683ab5c44dc7b799aeac58', 'layer': 'trading_block', 'label': 'East of Suez'}, {'id': '2b394b41a7ff9e48b40b4ba8e6a6b045340261dfc02133d04af13fe754a71a48', 'layer': 'trading_region', 'label': 'East Asia'}, {'id': 'b15970adfcd316d11d698d13de23e2291a60e1fb05070feab30957c6645e576e', 'layer': 'trading_subregion', 'label': 'Taiwan'}, {'id': '4ab1644eb893f766ec5ca9e8485eb8691140e3ed97fb5a34190ed9e527577f46', 'layer': 'storage', 'label': 'Mai Liao - Taiwan [TW]'}], 'pos': [120.1734913884, 23.7875748784]}}, '844756c877c680ce0ff582a46b5bb1cf34cc33179df977a609b2c10838d9db5d': {'label': 'SK Energy (Ulsan)', 'type': 'geography', 'record': {'id': '844756c877c680ce0ff582a46b5bb1cf34cc33179df977a609b2c10838d9db5d', 'name': 'SK Energy (Ulsan)', 'layer': ['terminal'], 'leaf': True, 'parent': [{'name': 'Ulsan, Onsan [KR]', 'layer': ['port', 'storage'], 'id': 'f228b40cec6011a4ab492245623faefef7dc38176b229f3650551ab6c247cf0b'}], 'exclusion_rule': [{'name': 'SK Energy (Ulsan)', 'layer': ['terminal'], 'id': '844756c877c680ce0ff582a46b5bb1cf34cc33179df977a609b2c10838d9db5d'}], 'ref_type': 'geography', 'hierarchy': [{'label': 'SK Energy (Ulsan)', 'layer': 'terminal', 'id': '844756c877c680ce0ff582a46b5bb1cf34cc33179df977a609b2c10838d9db5d'}, {'id': 'f228b40cec6011a4ab492245623faefef7dc38176b229f3650551ab6c247cf0b', 'layer': 'port', 'label': 'Ulsan, Onsan [KR]'}, {'id': 'bcd7dddaf951959ebf6076a3a594b426a246d3bffe13339b10d04e45f222e011', 'layer': 'country', 'label': 'South Korea'}, {'id': '212fb4cfc862391faeacc63aa3ceb446a1c5ba6073da2a4e514a496e4c850635', 'layer': 'shipping_region', 'label': 'East Asia'}, {'id': 'e6955a2c59dc90833986fe0894cf6718dddaa7816bb51bc955cdd3eb4470e554', 'layer': 'region', 'label': 'Asia'}, {'id': '07ac020aa082d5d116f829ef28a40e9876c0644aeb4f0480202c1a86bb8adf7f', 'layer': 'trading_block', 'label': 'Far East'}, {'id': 'fc6694742ebce49ff955fffa066898c41686d460ab683ab5c44dc7b799aeac58', 'layer': 'trading_block', 'label': 'East of Suez'}, {'id': '956b03529510459d298c4e537d23c6fbb22ffd8414af933b3475310c661f337a', 'layer': 'trading_block', 'label': 'Non-OPEC'}, {'id': '2b394b41a7ff9e48b40b4ba8e6a6b045340261dfc02133d04af13fe754a71a48', 'layer': 'trading_region', 'label': 'East Asia'}, {'id': 'bcd7dddaf951959ebf6076a3a594b426a246d3bffe13339b10d04e45f222e011', 'layer': 'trading_subregion', 'label': 'South Korea'}, {'id': 'f228b40cec6011a4ab492245623faefef7dc38176b229f3650551ab6c247cf0b', 'layer': 'storage', 'label': 'Ulsan, Onsan [KR]'}], 'pos': [129.3863401266, 35.4859883567]}}, '78fcabe3bb6a47f2aa019ae9948be43c5ebbe08a2d1cba7b113315c85362cb7c': {'label': 'Kandla Oil Terminal', 'type': 'geography', 'record': {'id': '78fcabe3bb6a47f2aa019ae9948be43c5ebbe08a2d1cba7b113315c85362cb7c', 'name': 'Kandla Oil Terminal', 'layer': ['terminal'], 'leaf': True, 'parent': [{'name': 'Kandla [IN]', 'layer': ['port', 'storage'], 'id': '822c671346d252d865e1583159f2df6e83483857a4fc376d46957f693eb731f1'}], 'exclusion_rule': [{'name': 'Kandla Oil Terminal', 'layer': ['terminal'], 'id': '78fcabe3bb6a47f2aa019ae9948be43c5ebbe08a2d1cba7b113315c85362cb7c'}], 'ref_type': 'geography', 'hierarchy': [{'label': 'Kandla Oil Terminal', 'layer': 'terminal', 'id': '78fcabe3bb6a47f2aa019ae9948be43c5ebbe08a2d1cba7b113315c85362cb7c'}, {'id': '822c671346d252d865e1583159f2df6e83483857a4fc376d46957f693eb731f1', 'layer': 'port', 'label': 'Kandla [IN]'}, {'id': '70425373a1836d6d0390dc6fef838a468717fba7776d66065a5043488f9f041b', 'layer': 'country', 'label': 'India'}, {'id': '2f23421545dabf17bde9534aff766f224229382b9641decf2ec3bbdfbe97a949', 'layer': 'shipping_region', 'label': 'West Coast India'}, {'id': 'e6955a2c59dc90833986fe0894cf6718dddaa7816bb51bc955cdd3eb4470e554', 'layer': 'region', 'label': 'Asia'}, {'id': '956b03529510459d298c4e537d23c6fbb22ffd8414af933b3475310c661f337a', 'layer': 'trading_block', 'label': 'Non-OPEC'}, {'id': 'fc6694742ebce49ff955fffa066898c41686d460ab683ab5c44dc7b799aeac58', 'layer': 'trading_block', 'label': 'East of Suez'}, {'id': '043b3b0acb039514160625a525d76eb8942bd5aa44daa52c4ad1cbd363d52366', 'layer': 'trading_region', 'label': 'Indian Sub-Continent'}, {'id': '4e74c1d252e3921bc7a94091504859c372c8d115d763889b507a95b7fd5e7398', 'layer': 'trading_subregion', 'label': 'West Coast India'}, {'id': '822c671346d252d865e1583159f2df6e83483857a4fc376d46957f693eb731f1', 'layer': 'storage', 'label': 'Kandla [IN]'}, {'id': 'c7feba5c88113a4c3c1420d3c1d847d9b7d000e4312411e157c945a75ee20e78', 'layer': 'fragment', 'label': 'West Coast India (West Coast India) 2'}], 'pos': [70.2217930706, 23.0339162971]}}, '66c26231960e1d1219b89ec02b835e4930ac8a6be88006712dfdafbfa04c010a': {'label': 'Adani Hazira Port Pvt Ltd (AHPPL)', 'type': 'geography', 'record': {'id': '66c26231960e1d1219b89ec02b835e4930ac8a6be88006712dfdafbfa04c010a', 'name': 'Adani Hazira Port Pvt Ltd (AHPPL)', 'layer': ['terminal'], 'leaf': True, 'parent': [{'name': 'Hazira (Magdalla) [IN]', 'layer': ['port'], 'id': '9ff2f78c4c422c7e27d76f48577b676ef55d5109b2ba466c0dfacb304f6785e6'}], 'exclusion_rule': [{'name': 'Adani Hazira Port Pvt Ltd (AHPPL)', 'layer': ['terminal'], 'id': '66c26231960e1d1219b89ec02b835e4930ac8a6be88006712dfdafbfa04c010a'}], 'ref_type': 'geography', 'hierarchy': [{'label': 'Adani Hazira Port Pvt Ltd (AHPPL)', 'layer': 'terminal', 'id': '66c26231960e1d1219b89ec02b835e4930ac8a6be88006712dfdafbfa04c010a'}, {'id': '9ff2f78c4c422c7e27d76f48577b676ef55d5109b2ba466c0dfacb304f6785e6', 'label': 'Hazira (Magdalla) [IN]', 'layer': 'port'}, {'id': '70425373a1836d6d0390dc6fef838a468717fba7776d66065a5043488f9f041b', 'label': 'India', 'layer': 'country'}, {'id': '2f23421545dabf17bde9534aff766f224229382b9641decf2ec3bbdfbe97a949', 'label': 'West Coast India', 'layer': 'shipping_region'}, {'id': 'e6955a2c59dc90833986fe0894cf6718dddaa7816bb51bc955cdd3eb4470e554', 'label': 'Asia', 'layer': 'region'}, {'id': '956b03529510459d298c4e537d23c6fbb22ffd8414af933b3475310c661f337a', 'label': 'Non-OPEC', 'layer': 'trading_block'}, {'id': 'fc6694742ebce49ff955fffa066898c41686d460ab683ab5c44dc7b799aeac58', 'label': 'East of Suez', 'layer': 'trading_block'}, {'id': '043b3b0acb039514160625a525d76eb8942bd5aa44daa52c4ad1cbd363d52366', 'label': 'Indian Sub-Continent', 'layer': 'trading_region'}, {'id': '4e74c1d252e3921bc7a94091504859c372c8d115d763889b507a95b7fd5e7398', 'label': 'West Coast India', 'layer': 'trading_subregion'}, {'id': 'c7feba5c88113a4c3c1420d3c1d847d9b7d000e4312411e157c945a75ee20e78', 'label': 'West Coast India (West Coast India) 2', 'layer': 'fragment'}], 'pos': [72.6274287754, 21.0822245364]}}}}\n",
      "--------------------------------------\n",
      "-----------------------------------\n",
      "-----------------------------------\n",
      "-----------------------------------\n",
      "-----------------------------------\n",
      "{'total': 53866523, 'data': [{'key': '606e73162cfd0492919ef96b04dae1bfddda09d148d03bafc1dc3eab979a9b0a', 'value': 793227, 'count': 14}, {'key': '4813dd7209e85b128cc2fbc7c08fef08d26259550210f28a5c7ff3ccd7b2ba61', 'value': 462978, 'count': 10}, {'key': '844756c877c680ce0ff582a46b5bb1cf34cc33179df977a609b2c10838d9db5d', 'value': 288816, 'count': 11}, {'key': '78fcabe3bb6a47f2aa019ae9948be43c5ebbe08a2d1cba7b113315c85362cb7c', 'value': 118546, 'count': 14}, {'key': '66c26231960e1d1219b89ec02b835e4930ac8a6be88006712dfdafbfa04c010a', 'value': 65620, 'count': 13}], 'reference': {'606e73162cfd0492919ef96b04dae1bfddda09d148d03bafc1dc3eab979a9b0a': {'label': 'SPSE - DPF - G.I.E. Petroleum Terminal', 'type': 'geography', 'record': {'id': '606e73162cfd0492919ef96b04dae1bfddda09d148d03bafc1dc3eab979a9b0a', 'name': 'SPSE - DPF - G.I.E. Petroleum Terminal', 'layer': ['terminal'], 'leaf': True, 'parent': [{'name': 'Fos Sur Mer [FR]', 'layer': ['port', 'storage'], 'id': '6c1eeb0c59ecda62e5b90f4eaa7687c5625b7bc49ab9fe522bf65d0358a9b7aa'}], 'exclusion_rule': [{'name': 'SPSE - DPF - G.I.E. Petroleum Terminal', 'layer': ['terminal'], 'id': '606e73162cfd0492919ef96b04dae1bfddda09d148d03bafc1dc3eab979a9b0a'}], 'ref_type': 'geography', 'hierarchy': [{'label': 'SPSE - DPF - G.I.E. Petroleum Terminal', 'layer': 'terminal', 'id': '606e73162cfd0492919ef96b04dae1bfddda09d148d03bafc1dc3eab979a9b0a'}, {'id': '6c1eeb0c59ecda62e5b90f4eaa7687c5625b7bc49ab9fe522bf65d0358a9b7aa', 'layer': 'port', 'label': 'Fos Sur Mer [FR]'}, {'id': 'e9e556620469f46a4dc171aef71073f5286a288da35c5883cac760446b0ceb46', 'layer': 'country', 'label': 'France'}, {'id': '13092fe26ac4a02e3e3e6b9bef84e3e08400c646ba08672d53176044cbfaccda', 'layer': 'shipping_region', 'label': 'West Med'}, {'id': 'f39d455f5d38907394d6da3a91da4e391f9a34bd6a17e826d6042761067e88f4', 'layer': 'region', 'label': 'Europe'}, {'id': '67c03f20db88b5af01e3f7d3b93f067c09195bb149eaba2d35ce4b0f78527504', 'layer': 'trading_block', 'label': 'Med'}, {'id': '676c3cff1dffd971ae51cd350f231394eeb0ab94eff981432f6ee55c5219b913', 'layer': 'trading_block', 'label': 'UKC-Med region'}, {'id': '956b03529510459d298c4e537d23c6fbb22ffd8414af933b3475310c661f337a', 'layer': 'trading_block', 'label': 'Non-OPEC'}, {'id': '6478105a82fd32e1dabb3d11f0dd3cfe42fc93863a480967e15f5ec72ac10319', 'layer': 'trading_block', 'label': 'West of Suez'}, {'id': '6aa9a4fb76ca378e75eff85f458c90f7fd42778c26c957c417490c097161a3c5', 'layer': 'trading_region', 'label': 'Mediterranean (incl. North Africa)'}, {'id': '58d1f29ea5458427d85e3198dc2633d51bcca98607dfdbe4bad12a000656a1a1', 'layer': 'trading_subregion', 'label': 'France Med'}, {'id': '6c1eeb0c59ecda62e5b90f4eaa7687c5625b7bc49ab9fe522bf65d0358a9b7aa', 'layer': 'storage', 'label': 'Fos Sur Mer [FR]'}, {'id': '3936017f7fea4a2d18998d195fb166dee6a21103a7dac17ce381af73c3c08418', 'layer': 'fragment', 'label': 'France Med (West Med) 0'}], 'pos': [4.8909229038, 43.4147775496]}}, '4813dd7209e85b128cc2fbc7c08fef08d26259550210f28a5c7ff3ccd7b2ba61': {'label': 'Mailiao Industrial Park-Formosa Plastics', 'type': 'geography', 'record': {'id': '4813dd7209e85b128cc2fbc7c08fef08d26259550210f28a5c7ff3ccd7b2ba61', 'name': 'Mailiao Industrial Park-Formosa Plastics', 'layer': ['terminal'], 'leaf': True, 'parent': [{'name': 'Mai Liao - Taiwan [TW]', 'layer': ['port', 'storage'], 'id': '4ab1644eb893f766ec5ca9e8485eb8691140e3ed97fb5a34190ed9e527577f46'}], 'exclusion_rule': [{'name': 'Mailiao Industrial Park-Formosa Plastics', 'layer': ['terminal'], 'id': '4813dd7209e85b128cc2fbc7c08fef08d26259550210f28a5c7ff3ccd7b2ba61'}], 'ref_type': 'geography', 'hierarchy': [{'label': 'Mailiao Industrial Park-Formosa Plastics', 'layer': 'terminal', 'id': '4813dd7209e85b128cc2fbc7c08fef08d26259550210f28a5c7ff3ccd7b2ba61'}, {'id': '4ab1644eb893f766ec5ca9e8485eb8691140e3ed97fb5a34190ed9e527577f46', 'layer': 'port', 'label': 'Mai Liao - Taiwan [TW]'}, {'id': 'b15970adfcd316d11d698d13de23e2291a60e1fb05070feab30957c6645e576e', 'layer': 'country', 'label': 'Taiwan'}, {'id': '212fb4cfc862391faeacc63aa3ceb446a1c5ba6073da2a4e514a496e4c850635', 'layer': 'shipping_region', 'label': 'East Asia'}, {'id': 'e6955a2c59dc90833986fe0894cf6718dddaa7816bb51bc955cdd3eb4470e554', 'layer': 'region', 'label': 'Asia'}, {'id': '07ac020aa082d5d116f829ef28a40e9876c0644aeb4f0480202c1a86bb8adf7f', 'layer': 'trading_block', 'label': 'Far East'}, {'id': 'fc6694742ebce49ff955fffa066898c41686d460ab683ab5c44dc7b799aeac58', 'layer': 'trading_block', 'label': 'East of Suez'}, {'id': '2b394b41a7ff9e48b40b4ba8e6a6b045340261dfc02133d04af13fe754a71a48', 'layer': 'trading_region', 'label': 'East Asia'}, {'id': 'b15970adfcd316d11d698d13de23e2291a60e1fb05070feab30957c6645e576e', 'layer': 'trading_subregion', 'label': 'Taiwan'}, {'id': '4ab1644eb893f766ec5ca9e8485eb8691140e3ed97fb5a34190ed9e527577f46', 'layer': 'storage', 'label': 'Mai Liao - Taiwan [TW]'}], 'pos': [120.1734913884, 23.7875748784]}}, '844756c877c680ce0ff582a46b5bb1cf34cc33179df977a609b2c10838d9db5d': {'label': 'SK Energy (Ulsan)', 'type': 'geography', 'record': {'id': '844756c877c680ce0ff582a46b5bb1cf34cc33179df977a609b2c10838d9db5d', 'name': 'SK Energy (Ulsan)', 'layer': ['terminal'], 'leaf': True, 'parent': [{'name': 'Ulsan, Onsan [KR]', 'layer': ['port', 'storage'], 'id': 'f228b40cec6011a4ab492245623faefef7dc38176b229f3650551ab6c247cf0b'}], 'exclusion_rule': [{'name': 'SK Energy (Ulsan)', 'layer': ['terminal'], 'id': '844756c877c680ce0ff582a46b5bb1cf34cc33179df977a609b2c10838d9db5d'}], 'ref_type': 'geography', 'hierarchy': [{'label': 'SK Energy (Ulsan)', 'layer': 'terminal', 'id': '844756c877c680ce0ff582a46b5bb1cf34cc33179df977a609b2c10838d9db5d'}, {'id': 'f228b40cec6011a4ab492245623faefef7dc38176b229f3650551ab6c247cf0b', 'layer': 'port', 'label': 'Ulsan, Onsan [KR]'}, {'id': 'bcd7dddaf951959ebf6076a3a594b426a246d3bffe13339b10d04e45f222e011', 'layer': 'country', 'label': 'South Korea'}, {'id': '212fb4cfc862391faeacc63aa3ceb446a1c5ba6073da2a4e514a496e4c850635', 'layer': 'shipping_region', 'label': 'East Asia'}, {'id': 'e6955a2c59dc90833986fe0894cf6718dddaa7816bb51bc955cdd3eb4470e554', 'layer': 'region', 'label': 'Asia'}, {'id': '07ac020aa082d5d116f829ef28a40e9876c0644aeb4f0480202c1a86bb8adf7f', 'layer': 'trading_block', 'label': 'Far East'}, {'id': 'fc6694742ebce49ff955fffa066898c41686d460ab683ab5c44dc7b799aeac58', 'layer': 'trading_block', 'label': 'East of Suez'}, {'id': '956b03529510459d298c4e537d23c6fbb22ffd8414af933b3475310c661f337a', 'layer': 'trading_block', 'label': 'Non-OPEC'}, {'id': '2b394b41a7ff9e48b40b4ba8e6a6b045340261dfc02133d04af13fe754a71a48', 'layer': 'trading_region', 'label': 'East Asia'}, {'id': 'bcd7dddaf951959ebf6076a3a594b426a246d3bffe13339b10d04e45f222e011', 'layer': 'trading_subregion', 'label': 'South Korea'}, {'id': 'f228b40cec6011a4ab492245623faefef7dc38176b229f3650551ab6c247cf0b', 'layer': 'storage', 'label': 'Ulsan, Onsan [KR]'}], 'pos': [129.3863401266, 35.4859883567]}}, '78fcabe3bb6a47f2aa019ae9948be43c5ebbe08a2d1cba7b113315c85362cb7c': {'label': 'Kandla Oil Terminal', 'type': 'geography', 'record': {'id': '78fcabe3bb6a47f2aa019ae9948be43c5ebbe08a2d1cba7b113315c85362cb7c', 'name': 'Kandla Oil Terminal', 'layer': ['terminal'], 'leaf': True, 'parent': [{'name': 'Kandla [IN]', 'layer': ['port', 'storage'], 'id': '822c671346d252d865e1583159f2df6e83483857a4fc376d46957f693eb731f1'}], 'exclusion_rule': [{'name': 'Kandla Oil Terminal', 'layer': ['terminal'], 'id': '78fcabe3bb6a47f2aa019ae9948be43c5ebbe08a2d1cba7b113315c85362cb7c'}], 'ref_type': 'geography', 'hierarchy': [{'label': 'Kandla Oil Terminal', 'layer': 'terminal', 'id': '78fcabe3bb6a47f2aa019ae9948be43c5ebbe08a2d1cba7b113315c85362cb7c'}, {'id': '822c671346d252d865e1583159f2df6e83483857a4fc376d46957f693eb731f1', 'layer': 'port', 'label': 'Kandla [IN]'}, {'id': '70425373a1836d6d0390dc6fef838a468717fba7776d66065a5043488f9f041b', 'layer': 'country', 'label': 'India'}, {'id': '2f23421545dabf17bde9534aff766f224229382b9641decf2ec3bbdfbe97a949', 'layer': 'shipping_region', 'label': 'West Coast India'}, {'id': 'e6955a2c59dc90833986fe0894cf6718dddaa7816bb51bc955cdd3eb4470e554', 'layer': 'region', 'label': 'Asia'}, {'id': '956b03529510459d298c4e537d23c6fbb22ffd8414af933b3475310c661f337a', 'layer': 'trading_block', 'label': 'Non-OPEC'}, {'id': 'fc6694742ebce49ff955fffa066898c41686d460ab683ab5c44dc7b799aeac58', 'layer': 'trading_block', 'label': 'East of Suez'}, {'id': '043b3b0acb039514160625a525d76eb8942bd5aa44daa52c4ad1cbd363d52366', 'layer': 'trading_region', 'label': 'Indian Sub-Continent'}, {'id': '4e74c1d252e3921bc7a94091504859c372c8d115d763889b507a95b7fd5e7398', 'layer': 'trading_subregion', 'label': 'West Coast India'}, {'id': '822c671346d252d865e1583159f2df6e83483857a4fc376d46957f693eb731f1', 'layer': 'storage', 'label': 'Kandla [IN]'}, {'id': 'c7feba5c88113a4c3c1420d3c1d847d9b7d000e4312411e157c945a75ee20e78', 'layer': 'fragment', 'label': 'West Coast India (West Coast India) 2'}], 'pos': [70.2217930706, 23.0339162971]}}, '66c26231960e1d1219b89ec02b835e4930ac8a6be88006712dfdafbfa04c010a': {'label': 'Adani Hazira Port Pvt Ltd (AHPPL)', 'type': 'geography', 'record': {'id': '66c26231960e1d1219b89ec02b835e4930ac8a6be88006712dfdafbfa04c010a', 'name': 'Adani Hazira Port Pvt Ltd (AHPPL)', 'layer': ['terminal'], 'leaf': True, 'parent': [{'name': 'Hazira (Magdalla) [IN]', 'layer': ['port'], 'id': '9ff2f78c4c422c7e27d76f48577b676ef55d5109b2ba466c0dfacb304f6785e6'}], 'exclusion_rule': [{'name': 'Adani Hazira Port Pvt Ltd (AHPPL)', 'layer': ['terminal'], 'id': '66c26231960e1d1219b89ec02b835e4930ac8a6be88006712dfdafbfa04c010a'}], 'ref_type': 'geography', 'hierarchy': [{'label': 'Adani Hazira Port Pvt Ltd (AHPPL)', 'layer': 'terminal', 'id': '66c26231960e1d1219b89ec02b835e4930ac8a6be88006712dfdafbfa04c010a'}, {'id': '9ff2f78c4c422c7e27d76f48577b676ef55d5109b2ba466c0dfacb304f6785e6', 'label': 'Hazira (Magdalla) [IN]', 'layer': 'port'}, {'id': '70425373a1836d6d0390dc6fef838a468717fba7776d66065a5043488f9f041b', 'label': 'India', 'layer': 'country'}, {'id': '2f23421545dabf17bde9534aff766f224229382b9641decf2ec3bbdfbe97a949', 'label': 'West Coast India', 'layer': 'shipping_region'}, {'id': 'e6955a2c59dc90833986fe0894cf6718dddaa7816bb51bc955cdd3eb4470e554', 'label': 'Asia', 'layer': 'region'}, {'id': '956b03529510459d298c4e537d23c6fbb22ffd8414af933b3475310c661f337a', 'label': 'Non-OPEC', 'layer': 'trading_block'}, {'id': 'fc6694742ebce49ff955fffa066898c41686d460ab683ab5c44dc7b799aeac58', 'label': 'East of Suez', 'layer': 'trading_block'}, {'id': '043b3b0acb039514160625a525d76eb8942bd5aa44daa52c4ad1cbd363d52366', 'label': 'Indian Sub-Continent', 'layer': 'trading_region'}, {'id': '4e74c1d252e3921bc7a94091504859c372c8d115d763889b507a95b7fd5e7398', 'label': 'West Coast India', 'layer': 'trading_subregion'}, {'id': 'c7feba5c88113a4c3c1420d3c1d847d9b7d000e4312411e157c945a75ee20e78', 'label': 'West Coast India (West Coast India) 2', 'layer': 'fragment'}], 'pos': [72.6274287754, 21.0822245364]}}}}\n"
     ]
    },
    {
     "ename": "ValidationError",
     "evalue": "1 validation error for ReferenceBreakdownResult\nrecords\n  value is not a valid list (type=type_error.list)",
     "output_type": "error",
     "traceback": [
      "\u001b[0;31m---------------------------------------------------------------------------\u001b[0m",
      "\u001b[0;31mValidationError\u001b[0m                           Traceback (most recent call last)",
      "Input \u001b[0;32mIn [3]\u001b[0m, in \u001b[0;36m<cell line: 3>\u001b[0;34m()\u001b[0m\n\u001b[1;32m      1\u001b[0m start \u001b[38;5;241m=\u001b[39m datetime(\u001b[38;5;241m2019\u001b[39m, \u001b[38;5;241m11\u001b[39m, \u001b[38;5;241m10\u001b[39m)\n\u001b[1;32m      2\u001b[0m end \u001b[38;5;241m=\u001b[39m datetime(\u001b[38;5;241m2019\u001b[39m, \u001b[38;5;241m11\u001b[39m, \u001b[38;5;241m15\u001b[39m)\n\u001b[0;32m----> 3\u001b[0m df \u001b[38;5;241m=\u001b[39m \u001b[43mDestinationBreakdown\u001b[49m\u001b[43m(\u001b[49m\u001b[43m)\u001b[49m\u001b[38;5;241;43m.\u001b[39;49m\u001b[43msearch\u001b[49m\u001b[43m(\u001b[49m\n\u001b[1;32m      4\u001b[0m \u001b[43m    \u001b[49m\u001b[43mfilter_activity\u001b[49m\u001b[38;5;241;43m=\u001b[39;49m\u001b[38;5;124;43m\"\u001b[39;49m\u001b[38;5;124;43mloading_end\u001b[39;49m\u001b[38;5;124;43m\"\u001b[39;49m\u001b[43m,\u001b[49m\n\u001b[1;32m      5\u001b[0m \u001b[43m    \u001b[49m\u001b[43mbreakdown_geography\u001b[49m\u001b[38;5;241;43m=\u001b[39;49m\u001b[38;5;124;43m\"\u001b[39;49m\u001b[38;5;124;43mterminal\u001b[39;49m\u001b[38;5;124;43m\"\u001b[39;49m\u001b[43m,\u001b[49m\n\u001b[1;32m      6\u001b[0m \u001b[43m    \u001b[49m\u001b[43mbreakdown_unit\u001b[49m\u001b[38;5;241;43m=\u001b[39;49m\u001b[38;5;124;43m\"\u001b[39;49m\u001b[38;5;124;43mt\u001b[39;49m\u001b[38;5;124;43m\"\u001b[39;49m\u001b[43m,\u001b[49m\n\u001b[1;32m      7\u001b[0m \u001b[43m    \u001b[49m\u001b[43mbreakdown_size\u001b[49m\u001b[38;5;241;43m=\u001b[39;49m\u001b[38;5;241;43m5\u001b[39;49m\u001b[43m,\u001b[49m\n\u001b[1;32m      8\u001b[0m \u001b[43m    \u001b[49m\u001b[43mfilter_time_min\u001b[49m\u001b[38;5;241;43m=\u001b[39;49m\u001b[43mstart\u001b[49m\u001b[43m,\u001b[49m\n\u001b[1;32m      9\u001b[0m \u001b[43m    \u001b[49m\u001b[43mfilter_time_max\u001b[49m\u001b[38;5;241;43m=\u001b[39;49m\u001b[43mend\u001b[49m\n\u001b[1;32m     10\u001b[0m \u001b[43m)\u001b[49m\u001b[38;5;241m.\u001b[39mto_df()\n\u001b[1;32m     11\u001b[0m df\n",
      "File \u001b[0;32m~/dev/contracting/vortexa/python-sdk/vortexasdk/endpoints/destination_breakdown.py:264\u001b[0m, in \u001b[0;36mDestinationBreakdown.search\u001b[0;34m(self, breakdown_geography, breakdown_unit_average_basis, filter_activity, breakdown_unit, disable_geographic_exclusion_rules, breakdown_size, filter_time_min, filter_time_max, filter_products, filter_charterers, filter_vessels, filter_vessel_classes, filter_owners, filter_vessel_flags, filter_vessel_ice_class, filter_vessel_propulsion, filter_origins, filter_destinations, filter_storage_locations, filter_waypoints, filter_ship_to_ship_locations, filter_vessel_age_min, filter_vessel_age_max, filter_vessel_scrubbers, filter_vessel_tags, exclude_products, exclude_vessels, exclude_vessel_classes, exclude_owners, exclude_charterers, exclude_vessel_flags, exclude_destinations, exclude_origins, exclude_waypoints, exclude_storage_locations, exclude_ship_to_ship_locations, exclude_vessel_ice_class, exclude_vessel_propulsion, exclude_vessel_tags)\u001b[0m\n\u001b[1;32m    261\u001b[0m \u001b[38;5;28mprint\u001b[39m(\u001b[38;5;124m\"\u001b[39m\u001b[38;5;124m-----------------------------------\u001b[39m\u001b[38;5;124m\"\u001b[39m)\n\u001b[1;32m    262\u001b[0m \u001b[38;5;28mprint\u001b[39m(data)\n\u001b[0;32m--> 264\u001b[0m \u001b[38;5;28;01mreturn\u001b[39;00m \u001b[43mReferenceBreakdownResult\u001b[49m\u001b[43m(\u001b[49m\u001b[43mdata\u001b[49m\u001b[43m)\u001b[49m\n",
      "File \u001b[0;32m<string>:4\u001b[0m, in \u001b[0;36m__init__\u001b[0;34m(self, records)\u001b[0m\n",
      "File \u001b[0;32m~/dev/contracting/vortexa/python-sdk/venv/lib/python3.8/site-packages/pydantic-1.9.2-py3.8.egg/pydantic/dataclasses.py:100\u001b[0m, in \u001b[0;36m_generate_pydantic_post_init.<locals>._pydantic_post_init\u001b[0;34m(self, *initvars)\u001b[0m\n\u001b[1;32m     98\u001b[0m d, _, validation_error \u001b[38;5;241m=\u001b[39m validate_model(\u001b[38;5;28mself\u001b[39m\u001b[38;5;241m.\u001b[39m__pydantic_model__, input_data, \u001b[38;5;28mcls\u001b[39m\u001b[38;5;241m=\u001b[39m\u001b[38;5;28mself\u001b[39m\u001b[38;5;241m.\u001b[39m\u001b[38;5;18m__class__\u001b[39m)\n\u001b[1;32m     99\u001b[0m \u001b[38;5;28;01mif\u001b[39;00m validation_error:\n\u001b[0;32m--> 100\u001b[0m     \u001b[38;5;28;01mraise\u001b[39;00m validation_error\n\u001b[1;32m    101\u001b[0m \u001b[38;5;28mobject\u001b[39m\u001b[38;5;241m.\u001b[39m\u001b[38;5;21m__setattr__\u001b[39m(\u001b[38;5;28mself\u001b[39m, \u001b[38;5;124m'\u001b[39m\u001b[38;5;124m__dict__\u001b[39m\u001b[38;5;124m'\u001b[39m, {\u001b[38;5;241m*\u001b[39m\u001b[38;5;241m*\u001b[39m\u001b[38;5;28mgetattr\u001b[39m(\u001b[38;5;28mself\u001b[39m, \u001b[38;5;124m'\u001b[39m\u001b[38;5;124m__dict__\u001b[39m\u001b[38;5;124m'\u001b[39m, {}), \u001b[38;5;241m*\u001b[39m\u001b[38;5;241m*\u001b[39md})\n\u001b[1;32m    102\u001b[0m \u001b[38;5;28mobject\u001b[39m\u001b[38;5;241m.\u001b[39m\u001b[38;5;21m__setattr__\u001b[39m(\u001b[38;5;28mself\u001b[39m, \u001b[38;5;124m'\u001b[39m\u001b[38;5;124m__initialised__\u001b[39m\u001b[38;5;124m'\u001b[39m, \u001b[38;5;28;01mTrue\u001b[39;00m)\n",
      "\u001b[0;31mValidationError\u001b[0m: 1 validation error for ReferenceBreakdownResult\nrecords\n  value is not a valid list (type=type_error.list)"
     ]
    }
   ],
   "source": [
    "start = datetime(2019, 11, 10)\n",
    "end = datetime(2019, 11, 15)\n",
    "df = DestinationBreakdown().search(\n",
    "    filter_activity=\"loading_end\",\n",
    "    breakdown_geography=\"terminal\",\n",
    "    breakdown_unit=\"t\",\n",
    "    breakdown_size=5,\n",
    "    filter_time_min=start,\n",
    "    filter_time_max=end\n",
    ").to_df()\n",
    "df"
   ]
  },
  {
   "cell_type": "code",
   "execution_count": 2,
   "id": "e5ce4167",
   "metadata": {},
   "outputs": [
    {
     "name": "stderr",
     "output_type": "stream",
     "text": [
      "Loading from API:  72%|█████████████████▉       | 19500/27150 [00:10<00:04, 1872.59it/s]\n"
     ]
    },
    {
     "ename": "KeyboardInterrupt",
     "evalue": "",
     "output_type": "error",
     "traceback": [
      "\u001b[0;31m---------------------------------------------------------------------------\u001b[0m",
      "\u001b[0;31mKeyboardInterrupt\u001b[0m                         Traceback (most recent call last)",
      "Input \u001b[0;32mIn [2]\u001b[0m, in \u001b[0;36m<cell line: 1>\u001b[0;34m()\u001b[0m\n\u001b[0;32m----> 1\u001b[0m df \u001b[38;5;241m=\u001b[39m \u001b[43mCargoMovements\u001b[49m\u001b[43m(\u001b[49m\u001b[43m)\u001b[49m\u001b[43m\\\u001b[49m\n\u001b[1;32m      2\u001b[0m \u001b[43m        \u001b[49m\u001b[38;5;241;43m.\u001b[39;49m\u001b[43msearch\u001b[49m\u001b[43m(\u001b[49m\u001b[43mfilter_activity\u001b[49m\u001b[38;5;241;43m=\u001b[39;49m\u001b[38;5;124;43m'\u001b[39;49m\u001b[38;5;124;43mloading_state\u001b[39;49m\u001b[38;5;124;43m'\u001b[39;49m\u001b[43m,\u001b[49m\n\u001b[1;32m      3\u001b[0m \u001b[43m            \u001b[49m\u001b[43mfilter_time_min\u001b[49m\u001b[38;5;241;43m=\u001b[39;49m\u001b[43mdatetime\u001b[49m\u001b[43m(\u001b[49m\u001b[38;5;241;43m2022\u001b[39;49m\u001b[43m,\u001b[49m\u001b[43m \u001b[49m\u001b[38;5;241;43m6\u001b[39;49m\u001b[43m,\u001b[49m\u001b[43m \u001b[49m\u001b[38;5;241;43m20\u001b[39;49m\u001b[43m)\u001b[49m\u001b[43m,\u001b[49m\n\u001b[1;32m      4\u001b[0m \u001b[43m            \u001b[49m\u001b[43mfilter_time_max\u001b[49m\u001b[38;5;241;43m=\u001b[39;49m\u001b[43mdatetime\u001b[49m\u001b[43m(\u001b[49m\u001b[38;5;241;43m2022\u001b[39;49m\u001b[43m,\u001b[49m\u001b[43m \u001b[49m\u001b[38;5;241;43m8\u001b[39;49m\u001b[43m,\u001b[49m\u001b[43m \u001b[49m\u001b[38;5;241;43m1\u001b[39;49m\u001b[43m)\u001b[49m\u001b[43m)\u001b[49m\n",
      "File \u001b[0;32m~/dev/contracting/vortexa/python-sdk/vortexasdk/endpoints/cargo_movements.py:271\u001b[0m, in \u001b[0;36mCargoMovements.search\u001b[0;34m(self, filter_activity, filter_time_min, filter_time_max, cm_unit, filter_charterers, filter_destinations, filter_origins, filter_owners, filter_products, filter_vessels, filter_vessel_classes, filter_storage_locations, filter_ship_to_ship_locations, filter_waypoints, filter_vessel_age_min, filter_vessel_age_max, filter_vessel_scrubbers, filter_vessel_flags, filter_vessel_ice_class, filter_vessel_propulsion, exclude_origins, exclude_destinations, exclude_products, exclude_vessels, exclude_vessel_classes, exclude_charterers, exclude_owners, exclude_vessel_flags, exclude_vessel_ice_class, exclude_vessel_propulsion, disable_geographic_exclusion_rules, timeseries_activity_time_span_min, timeseries_activity_time_span_max)\u001b[0m\n\u001b[1;32m    216\u001b[0m exclude_params \u001b[38;5;241m=\u001b[39m {\n\u001b[1;32m    217\u001b[0m     \u001b[38;5;124m\"\u001b[39m\u001b[38;5;124mfilter_origins\u001b[39m\u001b[38;5;124m\"\u001b[39m: convert_to_list(exclude_origins),\n\u001b[1;32m    218\u001b[0m     \u001b[38;5;124m\"\u001b[39m\u001b[38;5;124mfilter_destinations\u001b[39m\u001b[38;5;124m\"\u001b[39m: convert_to_list(exclude_destinations),\n\u001b[0;32m   (...)\u001b[0m\n\u001b[1;32m    230\u001b[0m     ),\n\u001b[1;32m    231\u001b[0m }\n\u001b[1;32m    233\u001b[0m api_params \u001b[38;5;241m=\u001b[39m {\n\u001b[1;32m    234\u001b[0m     \u001b[38;5;124m\"\u001b[39m\u001b[38;5;124mfilter_activity\u001b[39m\u001b[38;5;124m\"\u001b[39m: filter_activity,\n\u001b[1;32m    235\u001b[0m     \u001b[38;5;124m\"\u001b[39m\u001b[38;5;124mfilter_time_min\u001b[39m\u001b[38;5;124m\"\u001b[39m: to_ISODate(filter_time_min),\n\u001b[0;32m   (...)\u001b[0m\n\u001b[1;32m    268\u001b[0m     \u001b[38;5;124m\"\u001b[39m\u001b[38;5;124msize\u001b[39m\u001b[38;5;124m\"\u001b[39m: \u001b[38;5;28mself\u001b[39m\u001b[38;5;241m.\u001b[39m_MAX_PAGE_RESULT_SIZE,\n\u001b[1;32m    269\u001b[0m }\n\u001b[0;32m--> 271\u001b[0m \u001b[38;5;28;01mreturn\u001b[39;00m CargoMovementsResult(\u001b[38;5;28;43msuper\u001b[39;49m\u001b[43m(\u001b[49m\u001b[43m)\u001b[49m\u001b[38;5;241;43m.\u001b[39;49m\u001b[43msearch\u001b[49m\u001b[43m(\u001b[49m\u001b[38;5;241;43m*\u001b[39;49m\u001b[38;5;241;43m*\u001b[39;49m\u001b[43mapi_params\u001b[49m\u001b[43m)\u001b[49m)\n",
      "File \u001b[0;32m~/dev/contracting/vortexa/python-sdk/vortexasdk/operations.py:90\u001b[0m, in \u001b[0;36mSearch.search\u001b[0;34m(self, exact_term_match, response_type, headers, **api_params)\u001b[0m\n\u001b[1;32m     73\u001b[0m \u001b[38;5;124;03m\"\"\"\u001b[39;00m\n\u001b[1;32m     74\u001b[0m \u001b[38;5;124;03mSearch Reference data filtering on `params`.\u001b[39;00m\n\u001b[1;32m     75\u001b[0m \n\u001b[0;32m   (...)\u001b[0m\n\u001b[1;32m     87\u001b[0m \n\u001b[1;32m     88\u001b[0m \u001b[38;5;124;03m\"\"\"\u001b[39;00m\n\u001b[1;32m     89\u001b[0m logger\u001b[38;5;241m.\u001b[39minfo(\u001b[38;5;124mf\u001b[39m\u001b[38;5;124m\"\u001b[39m\u001b[38;5;124mSearching \u001b[39m\u001b[38;5;132;01m{\u001b[39;00m\u001b[38;5;28mself\u001b[39m\u001b[38;5;241m.\u001b[39m\u001b[38;5;18m__class__\u001b[39m\u001b[38;5;241m.\u001b[39m\u001b[38;5;18m__name__\u001b[39m\u001b[38;5;132;01m}\u001b[39;00m\u001b[38;5;124m\"\u001b[39m)\n\u001b[0;32m---> 90\u001b[0m api_result \u001b[38;5;241m=\u001b[39m \u001b[43mdefault_client\u001b[49m\u001b[43m(\u001b[49m\u001b[43m)\u001b[49m\u001b[38;5;241;43m.\u001b[39;49m\u001b[43msearch\u001b[49m\u001b[43m(\u001b[49m\u001b[38;5;28;43mself\u001b[39;49m\u001b[38;5;241;43m.\u001b[39;49m\u001b[43m_resource\u001b[49m\u001b[43m,\u001b[49m\u001b[43m \u001b[49m\u001b[43mresponse_type\u001b[49m\u001b[43m,\u001b[49m\u001b[43m \u001b[49m\u001b[43mheaders\u001b[49m\u001b[38;5;241;43m=\u001b[39;49m\u001b[43mheaders\u001b[49m\u001b[43m,\u001b[49m\u001b[43m \u001b[49m\u001b[38;5;241;43m*\u001b[39;49m\u001b[38;5;241;43m*\u001b[39;49m\u001b[43mapi_params\u001b[49m\u001b[43m)\u001b[49m\n\u001b[1;32m     92\u001b[0m logger\u001b[38;5;241m.\u001b[39mdebug(\n\u001b[1;32m     93\u001b[0m     \u001b[38;5;124mf\u001b[39m\u001b[38;5;124m\"\u001b[39m\u001b[38;5;132;01m{\u001b[39;00m\u001b[38;5;28mlen\u001b[39m(api_result)\u001b[38;5;132;01m}\u001b[39;00m\u001b[38;5;124m results received from \u001b[39m\u001b[38;5;132;01m{\u001b[39;00m\u001b[38;5;28mself\u001b[39m\u001b[38;5;241m.\u001b[39m_resource\u001b[38;5;132;01m}\u001b[39;00m\u001b[38;5;124m\"\u001b[39m\n\u001b[1;32m     94\u001b[0m )\n\u001b[1;32m     96\u001b[0m \u001b[38;5;28;01mif\u001b[39;00m exact_term_match:\n",
      "File \u001b[0;32m~/dev/contracting/vortexa/python-sdk/vortexasdk/client.py:81\u001b[0m, in \u001b[0;36mVortexaClient.search\u001b[0;34m(self, resource, response_type, **data)\u001b[0m\n\u001b[1;32m     78\u001b[0m     \u001b[38;5;28;01mreturn\u001b[39;00m probe_response[\u001b[38;5;124m\"\u001b[39m\u001b[38;5;124mdata\u001b[39m\u001b[38;5;124m\"\u001b[39m]\n\u001b[1;32m     79\u001b[0m \u001b[38;5;28;01melse\u001b[39;00m:\n\u001b[1;32m     80\u001b[0m     \u001b[38;5;66;03m# Multiple pages available, create offsets and fetch all responses\u001b[39;00m\n\u001b[0;32m---> 81\u001b[0m     responses \u001b[38;5;241m=\u001b[39m \u001b[38;5;28;43mself\u001b[39;49m\u001b[38;5;241;43m.\u001b[39;49m\u001b[43m_process_multiple_pages\u001b[49m\u001b[43m(\u001b[49m\n\u001b[1;32m     82\u001b[0m \u001b[43m        \u001b[49m\u001b[43mtotal\u001b[49m\u001b[38;5;241;43m=\u001b[39;49m\u001b[43mtotal\u001b[49m\u001b[43m,\u001b[49m\u001b[43m \u001b[49m\u001b[43murl\u001b[49m\u001b[38;5;241;43m=\u001b[39;49m\u001b[43murl\u001b[49m\u001b[43m,\u001b[49m\u001b[43m \u001b[49m\u001b[43mpayload\u001b[49m\u001b[38;5;241;43m=\u001b[39;49m\u001b[43mpayload\u001b[49m\u001b[43m,\u001b[49m\u001b[43m \u001b[49m\u001b[43mdata\u001b[49m\u001b[38;5;241;43m=\u001b[39;49m\u001b[43mdata\u001b[49m\u001b[43m,\u001b[49m\u001b[43m \u001b[49m\u001b[43mheaders\u001b[49m\u001b[38;5;241;43m=\u001b[39;49m\u001b[43mheaders\u001b[49m\n\u001b[1;32m     83\u001b[0m \u001b[43m    \u001b[49m\u001b[43m)\u001b[49m\n\u001b[1;32m     85\u001b[0m     flattened \u001b[38;5;241m=\u001b[39m \u001b[38;5;28mself\u001b[39m\u001b[38;5;241m.\u001b[39m_flatten_response(responses)\n\u001b[1;32m     86\u001b[0m     \u001b[38;5;28;01massert\u001b[39;00m \u001b[38;5;28mlen\u001b[39m(flattened) \u001b[38;5;241m==\u001b[39m total, (\n\u001b[1;32m     87\u001b[0m         \u001b[38;5;124mf\u001b[39m\u001b[38;5;124m\"\u001b[39m\u001b[38;5;124mIncorrect number of records returned from API. \u001b[39m\u001b[38;5;124m\"\u001b[39m\n\u001b[1;32m     88\u001b[0m         \u001b[38;5;124mf\u001b[39m\u001b[38;5;124m\"\u001b[39m\u001b[38;5;124mActual: \u001b[39m\u001b[38;5;132;01m{\u001b[39;00m\u001b[38;5;28mlen\u001b[39m(flattened)\u001b[38;5;132;01m}\u001b[39;00m\u001b[38;5;124m, expected: \u001b[39m\u001b[38;5;132;01m{\u001b[39;00mtotal\u001b[38;5;132;01m}\u001b[39;00m\u001b[38;5;124m\"\u001b[39m\n\u001b[1;32m     89\u001b[0m     )\n",
      "File \u001b[0;32m~/dev/contracting/vortexa/python-sdk/vortexasdk/client.py:123\u001b[0m, in \u001b[0;36mVortexaClient._process_multiple_pages\u001b[0;34m(self, total, url, payload, data, headers)\u001b[0m\n\u001b[1;32m    108\u001b[0m logger\u001b[38;5;241m.\u001b[39minfo(\n\u001b[1;32m    109\u001b[0m     \u001b[38;5;124mf\u001b[39m\u001b[38;5;124m\"\u001b[39m\u001b[38;5;132;01m{\u001b[39;00mtotal\u001b[38;5;132;01m}\u001b[39;00m\u001b[38;5;124m Results to retrieve.\u001b[39m\u001b[38;5;124m\"\u001b[39m\n\u001b[1;32m    110\u001b[0m     \u001b[38;5;124mf\u001b[39m\u001b[38;5;124m\"\u001b[39m\u001b[38;5;124m Sending \u001b[39m\u001b[38;5;132;01m{\u001b[39;00m\u001b[38;5;28mlen\u001b[39m(offsets)\u001b[38;5;132;01m}\u001b[39;00m\u001b[38;5;124m\"\u001b[39m\n\u001b[1;32m    111\u001b[0m     \u001b[38;5;124mf\u001b[39m\u001b[38;5;124m\"\u001b[39m\u001b[38;5;124m post requests in parallel using \u001b[39m\u001b[38;5;132;01m{\u001b[39;00m\u001b[38;5;28mself\u001b[39m\u001b[38;5;241m.\u001b[39m_N_THREADS\u001b[38;5;132;01m}\u001b[39;00m\u001b[38;5;124m threads.\u001b[39m\u001b[38;5;124m\"\u001b[39m\n\u001b[1;32m    112\u001b[0m )\n\u001b[1;32m    114\u001b[0m func \u001b[38;5;241m=\u001b[39m functools\u001b[38;5;241m.\u001b[39mpartial(\n\u001b[1;32m    115\u001b[0m     _send_post_request_data,\n\u001b[1;32m    116\u001b[0m     url\u001b[38;5;241m=\u001b[39murl,\n\u001b[0;32m   (...)\u001b[0m\n\u001b[1;32m    120\u001b[0m     headers\u001b[38;5;241m=\u001b[39mheaders\n\u001b[1;32m    121\u001b[0m )\n\u001b[0;32m--> 123\u001b[0m \u001b[38;5;28;01mreturn\u001b[39;00m \u001b[43mpool\u001b[49m\u001b[38;5;241;43m.\u001b[39;49m\u001b[43mmap\u001b[49m\u001b[43m(\u001b[49m\u001b[43mfunc\u001b[49m\u001b[43m,\u001b[49m\u001b[43m \u001b[49m\u001b[43moffsets\u001b[49m\u001b[43m)\u001b[49m\n",
      "File \u001b[0;32m~/.pyenv/versions/3.8.12/lib/python3.8/multiprocessing/pool.py:364\u001b[0m, in \u001b[0;36mPool.map\u001b[0;34m(self, func, iterable, chunksize)\u001b[0m\n\u001b[1;32m    359\u001b[0m \u001b[38;5;28;01mdef\u001b[39;00m \u001b[38;5;21mmap\u001b[39m(\u001b[38;5;28mself\u001b[39m, func, iterable, chunksize\u001b[38;5;241m=\u001b[39m\u001b[38;5;28;01mNone\u001b[39;00m):\n\u001b[1;32m    360\u001b[0m     \u001b[38;5;124;03m'''\u001b[39;00m\n\u001b[1;32m    361\u001b[0m \u001b[38;5;124;03m    Apply `func` to each element in `iterable`, collecting the results\u001b[39;00m\n\u001b[1;32m    362\u001b[0m \u001b[38;5;124;03m    in a list that is returned.\u001b[39;00m\n\u001b[1;32m    363\u001b[0m \u001b[38;5;124;03m    '''\u001b[39;00m\n\u001b[0;32m--> 364\u001b[0m     \u001b[38;5;28;01mreturn\u001b[39;00m \u001b[38;5;28;43mself\u001b[39;49m\u001b[38;5;241;43m.\u001b[39;49m\u001b[43m_map_async\u001b[49m\u001b[43m(\u001b[49m\u001b[43mfunc\u001b[49m\u001b[43m,\u001b[49m\u001b[43m \u001b[49m\u001b[43miterable\u001b[49m\u001b[43m,\u001b[49m\u001b[43m \u001b[49m\u001b[43mmapstar\u001b[49m\u001b[43m,\u001b[49m\u001b[43m \u001b[49m\u001b[43mchunksize\u001b[49m\u001b[43m)\u001b[49m\u001b[38;5;241;43m.\u001b[39;49m\u001b[43mget\u001b[49m\u001b[43m(\u001b[49m\u001b[43m)\u001b[49m\n",
      "File \u001b[0;32m~/.pyenv/versions/3.8.12/lib/python3.8/multiprocessing/pool.py:765\u001b[0m, in \u001b[0;36mApplyResult.get\u001b[0;34m(self, timeout)\u001b[0m\n\u001b[1;32m    764\u001b[0m \u001b[38;5;28;01mdef\u001b[39;00m \u001b[38;5;21mget\u001b[39m(\u001b[38;5;28mself\u001b[39m, timeout\u001b[38;5;241m=\u001b[39m\u001b[38;5;28;01mNone\u001b[39;00m):\n\u001b[0;32m--> 765\u001b[0m     \u001b[38;5;28;43mself\u001b[39;49m\u001b[38;5;241;43m.\u001b[39;49m\u001b[43mwait\u001b[49m\u001b[43m(\u001b[49m\u001b[43mtimeout\u001b[49m\u001b[43m)\u001b[49m\n\u001b[1;32m    766\u001b[0m     \u001b[38;5;28;01mif\u001b[39;00m \u001b[38;5;129;01mnot\u001b[39;00m \u001b[38;5;28mself\u001b[39m\u001b[38;5;241m.\u001b[39mready():\n\u001b[1;32m    767\u001b[0m         \u001b[38;5;28;01mraise\u001b[39;00m \u001b[38;5;167;01mTimeoutError\u001b[39;00m\n",
      "File \u001b[0;32m~/.pyenv/versions/3.8.12/lib/python3.8/multiprocessing/pool.py:762\u001b[0m, in \u001b[0;36mApplyResult.wait\u001b[0;34m(self, timeout)\u001b[0m\n\u001b[1;32m    761\u001b[0m \u001b[38;5;28;01mdef\u001b[39;00m \u001b[38;5;21mwait\u001b[39m(\u001b[38;5;28mself\u001b[39m, timeout\u001b[38;5;241m=\u001b[39m\u001b[38;5;28;01mNone\u001b[39;00m):\n\u001b[0;32m--> 762\u001b[0m     \u001b[38;5;28;43mself\u001b[39;49m\u001b[38;5;241;43m.\u001b[39;49m\u001b[43m_event\u001b[49m\u001b[38;5;241;43m.\u001b[39;49m\u001b[43mwait\u001b[49m\u001b[43m(\u001b[49m\u001b[43mtimeout\u001b[49m\u001b[43m)\u001b[49m\n",
      "File \u001b[0;32m~/.pyenv/versions/3.8.12/lib/python3.8/threading.py:558\u001b[0m, in \u001b[0;36mEvent.wait\u001b[0;34m(self, timeout)\u001b[0m\n\u001b[1;32m    556\u001b[0m signaled \u001b[38;5;241m=\u001b[39m \u001b[38;5;28mself\u001b[39m\u001b[38;5;241m.\u001b[39m_flag\n\u001b[1;32m    557\u001b[0m \u001b[38;5;28;01mif\u001b[39;00m \u001b[38;5;129;01mnot\u001b[39;00m signaled:\n\u001b[0;32m--> 558\u001b[0m     signaled \u001b[38;5;241m=\u001b[39m \u001b[38;5;28;43mself\u001b[39;49m\u001b[38;5;241;43m.\u001b[39;49m\u001b[43m_cond\u001b[49m\u001b[38;5;241;43m.\u001b[39;49m\u001b[43mwait\u001b[49m\u001b[43m(\u001b[49m\u001b[43mtimeout\u001b[49m\u001b[43m)\u001b[49m\n\u001b[1;32m    559\u001b[0m \u001b[38;5;28;01mreturn\u001b[39;00m signaled\n",
      "File \u001b[0;32m~/.pyenv/versions/3.8.12/lib/python3.8/threading.py:302\u001b[0m, in \u001b[0;36mCondition.wait\u001b[0;34m(self, timeout)\u001b[0m\n\u001b[1;32m    300\u001b[0m \u001b[38;5;28;01mtry\u001b[39;00m:    \u001b[38;5;66;03m# restore state no matter what (e.g., KeyboardInterrupt)\u001b[39;00m\n\u001b[1;32m    301\u001b[0m     \u001b[38;5;28;01mif\u001b[39;00m timeout \u001b[38;5;129;01mis\u001b[39;00m \u001b[38;5;28;01mNone\u001b[39;00m:\n\u001b[0;32m--> 302\u001b[0m         \u001b[43mwaiter\u001b[49m\u001b[38;5;241;43m.\u001b[39;49m\u001b[43macquire\u001b[49m\u001b[43m(\u001b[49m\u001b[43m)\u001b[49m\n\u001b[1;32m    303\u001b[0m         gotit \u001b[38;5;241m=\u001b[39m \u001b[38;5;28;01mTrue\u001b[39;00m\n\u001b[1;32m    304\u001b[0m     \u001b[38;5;28;01melse\u001b[39;00m:\n",
      "\u001b[0;31mKeyboardInterrupt\u001b[0m: "
     ]
    }
   ],
   "source": [
    "df = CargoMovements()\\\n",
    "        .search(filter_activity='loading_state',\n",
    "            filter_time_min=datetime(2022, 6, 20),\n",
    "            filter_time_max=datetime(2022, 8, 1))"
   ]
  },
  {
   "cell_type": "code",
   "execution_count": 2,
   "id": "fe100f3f",
   "metadata": {},
   "outputs": [
    {
     "name": "stderr",
     "output_type": "stream",
     "text": [
      "Loading from API: 1000it [00:01, 828.50it/s]                                            \n"
     ]
    },
    {
     "ename": "ValidationError",
     "evalue": "3 validation errors for CargoMovement\nvessels -> 0 -> corporate_entities -> 0\n  __init__() got an unexpected keyword argument 'start_timestamp' (type=type_error)\nvessels -> 0 -> corporate_entities -> 1\n  __init__() got an unexpected keyword argument 'start_timestamp' (type=type_error)\nvessels -> 0 -> corporate_entities -> 2\n  __init__() got an unexpected keyword argument 'start_timestamp' (type=type_error)",
     "output_type": "error",
     "traceback": [
      "\u001b[0;31m---------------------------------------------------------------------------\u001b[0m",
      "\u001b[0;31mValidationError\u001b[0m                           Traceback (most recent call last)",
      "Input \u001b[0;32mIn [2]\u001b[0m, in \u001b[0;36m<cell line: 2>\u001b[0;34m()\u001b[0m\n\u001b[1;32m      1\u001b[0m df \u001b[38;5;241m=\u001b[39m (\n\u001b[0;32m----> 2\u001b[0m            \u001b[43mCargoMovements\u001b[49m\u001b[43m(\u001b[49m\u001b[43m)\u001b[49m\n\u001b[1;32m      3\u001b[0m \u001b[43m           \u001b[49m\u001b[38;5;241;43m.\u001b[39;49m\u001b[43msearch\u001b[49m\u001b[43m(\u001b[49m\n\u001b[1;32m      4\u001b[0m \u001b[43m               \u001b[49m\u001b[43mfilter_activity\u001b[49m\u001b[38;5;241;43m=\u001b[39;49m\u001b[38;5;124;43m\"\u001b[39;49m\u001b[38;5;124;43many_activity\u001b[39;49m\u001b[38;5;124;43m\"\u001b[39;49m\u001b[43m,\u001b[49m\n\u001b[1;32m      5\u001b[0m \u001b[43m               \u001b[49m\u001b[43mfilter_waypoints\u001b[49m\u001b[38;5;241;43m=\u001b[39;49m\u001b[43m[\u001b[49m\n\u001b[1;32m      6\u001b[0m \u001b[43m                   \u001b[49m\u001b[43mg\u001b[49m\u001b[38;5;241;43m.\u001b[39;49m\u001b[43mid\u001b[49m\u001b[43m \u001b[49m\u001b[38;5;28;43;01mfor\u001b[39;49;00m\u001b[43m \u001b[49m\u001b[43mg\u001b[49m\u001b[43m \u001b[49m\u001b[38;5;129;43;01min\u001b[39;49;00m\u001b[43m \u001b[49m\u001b[43mGeographies\u001b[49m\u001b[43m(\u001b[49m\u001b[43m)\u001b[49m\u001b[38;5;241;43m.\u001b[39;49m\u001b[43msearch\u001b[49m\u001b[43m(\u001b[49m\u001b[43mterm\u001b[49m\u001b[38;5;241;43m=\u001b[39;49m\u001b[38;5;124;43m\"\u001b[39;49m\u001b[38;5;124;43msuez\u001b[39;49m\u001b[38;5;124;43m\"\u001b[39;49m\u001b[43m)\u001b[49m\u001b[38;5;241;43m.\u001b[39;49m\u001b[43mto_list\u001b[49m\u001b[43m(\u001b[49m\u001b[43m)\u001b[49m\n\u001b[1;32m      7\u001b[0m \u001b[43m               \u001b[49m\u001b[43m]\u001b[49m\u001b[43m,\u001b[49m\n\u001b[1;32m      8\u001b[0m \u001b[43m               \u001b[49m\u001b[43mfilter_time_min\u001b[49m\u001b[38;5;241;43m=\u001b[39;49m\u001b[43mdatetime\u001b[49m\u001b[43m(\u001b[49m\u001b[38;5;241;43m2019\u001b[39;49m\u001b[43m,\u001b[49m\u001b[43m \u001b[49m\u001b[38;5;241;43m8\u001b[39;49m\u001b[43m,\u001b[49m\u001b[43m \u001b[49m\u001b[38;5;241;43m29\u001b[39;49m\u001b[43m)\u001b[49m\u001b[43m,\u001b[49m\n\u001b[1;32m      9\u001b[0m \u001b[43m               \u001b[49m\u001b[43mfilter_time_max\u001b[49m\u001b[38;5;241;43m=\u001b[39;49m\u001b[43mdatetime\u001b[49m\u001b[43m(\u001b[49m\u001b[38;5;241;43m2019\u001b[39;49m\u001b[43m,\u001b[49m\u001b[43m \u001b[49m\u001b[38;5;241;43m8\u001b[39;49m\u001b[43m,\u001b[49m\u001b[43m \u001b[49m\u001b[38;5;241;43m29\u001b[39;49m\u001b[43m,\u001b[49m\u001b[43m \u001b[49m\u001b[38;5;241;43m0\u001b[39;49m\u001b[43m,\u001b[49m\u001b[43m \u001b[49m\u001b[38;5;241;43m10\u001b[39;49m\u001b[43m)\u001b[49m\u001b[43m,\u001b[49m\n\u001b[1;32m     10\u001b[0m \u001b[43m           \u001b[49m\u001b[43m)\u001b[49m\n\u001b[1;32m     11\u001b[0m \u001b[43m           \u001b[49m\u001b[38;5;241;43m.\u001b[39;49m\u001b[43mto_list\u001b[49m\u001b[43m(\u001b[49m\u001b[43m)\u001b[49m\n\u001b[1;32m     12\u001b[0m        )\n\u001b[1;32m     14\u001b[0m df\n",
      "File \u001b[0;32m~/dev/contracting/vortexa/python-sdk/vortexasdk/endpoints/cargo_movements_result.py:30\u001b[0m, in \u001b[0;36mCargoMovementsResult.to_list\u001b[0;34m(self)\u001b[0m\n\u001b[1;32m     28\u001b[0m \u001b[38;5;124;03m\"\"\"Represent cargo movements as a list of `CargoMovementEntity`s.\"\"\"\u001b[39;00m\n\u001b[1;32m     29\u001b[0m \u001b[38;5;66;03m# noinspection PyTypeChecker\u001b[39;00m\n\u001b[0;32m---> 30\u001b[0m \u001b[38;5;28;01mreturn\u001b[39;00m \u001b[43mcreate_list\u001b[49m\u001b[43m(\u001b[49m\u001b[38;5;28;43msuper\u001b[39;49m\u001b[43m(\u001b[49m\u001b[43m)\u001b[49m\u001b[38;5;241;43m.\u001b[39;49m\u001b[43mto_list\u001b[49m\u001b[43m(\u001b[49m\u001b[43m)\u001b[49m\u001b[43m,\u001b[49m\u001b[43m \u001b[49m\u001b[43mCargoMovement\u001b[49m\u001b[43m)\u001b[49m\n",
      "File \u001b[0;32m~/dev/contracting/vortexa/python-sdk/vortexasdk/result_conversions.py:14\u001b[0m, in \u001b[0;36mcreate_list\u001b[0;34m(list_of_dicts, output_class)\u001b[0m\n\u001b[1;32m     11\u001b[0m \u001b[38;5;124;03m\"\"\"Convert each list element into an instance of the output class.\"\"\"\u001b[39;00m\n\u001b[1;32m     12\u001b[0m logger\u001b[38;5;241m.\u001b[39mdebug(\u001b[38;5;124mf\u001b[39m\u001b[38;5;124m\"\u001b[39m\u001b[38;5;124mConverting list of dictionaries to list of \u001b[39m\u001b[38;5;132;01m{\u001b[39;00moutput_class\u001b[38;5;132;01m}\u001b[39;00m\u001b[38;5;124m\"\u001b[39m)\n\u001b[0;32m---> 14\u001b[0m \u001b[38;5;28;01mreturn\u001b[39;00m [output_class(\u001b[38;5;241m*\u001b[39m\u001b[38;5;241m*\u001b[39md) \u001b[38;5;28;01mfor\u001b[39;00m d \u001b[38;5;129;01min\u001b[39;00m list_of_dicts]\n",
      "File \u001b[0;32m~/dev/contracting/vortexa/python-sdk/vortexasdk/result_conversions.py:14\u001b[0m, in \u001b[0;36m<listcomp>\u001b[0;34m(.0)\u001b[0m\n\u001b[1;32m     11\u001b[0m \u001b[38;5;124;03m\"\"\"Convert each list element into an instance of the output class.\"\"\"\u001b[39;00m\n\u001b[1;32m     12\u001b[0m logger\u001b[38;5;241m.\u001b[39mdebug(\u001b[38;5;124mf\u001b[39m\u001b[38;5;124m\"\u001b[39m\u001b[38;5;124mConverting list of dictionaries to list of \u001b[39m\u001b[38;5;132;01m{\u001b[39;00moutput_class\u001b[38;5;132;01m}\u001b[39;00m\u001b[38;5;124m\"\u001b[39m)\n\u001b[0;32m---> 14\u001b[0m \u001b[38;5;28;01mreturn\u001b[39;00m [\u001b[43moutput_class\u001b[49m\u001b[43m(\u001b[49m\u001b[38;5;241;43m*\u001b[39;49m\u001b[38;5;241;43m*\u001b[39;49m\u001b[43md\u001b[49m\u001b[43m)\u001b[49m \u001b[38;5;28;01mfor\u001b[39;00m d \u001b[38;5;129;01min\u001b[39;00m list_of_dicts]\n",
      "File \u001b[0;32m<string>:10\u001b[0m, in \u001b[0;36m__init__\u001b[0;34m(self, cargo_movement_id, quantity, status, vessels, product, events, parent_ids)\u001b[0m\n",
      "File \u001b[0;32m~/dev/contracting/vortexa/python-sdk/venv/lib/python3.8/site-packages/pydantic-1.9.2-py3.8.egg/pydantic/dataclasses.py:100\u001b[0m, in \u001b[0;36m_generate_pydantic_post_init.<locals>._pydantic_post_init\u001b[0;34m(self, *initvars)\u001b[0m\n\u001b[1;32m     98\u001b[0m d, _, validation_error \u001b[38;5;241m=\u001b[39m validate_model(\u001b[38;5;28mself\u001b[39m\u001b[38;5;241m.\u001b[39m__pydantic_model__, input_data, \u001b[38;5;28mcls\u001b[39m\u001b[38;5;241m=\u001b[39m\u001b[38;5;28mself\u001b[39m\u001b[38;5;241m.\u001b[39m\u001b[38;5;18m__class__\u001b[39m)\n\u001b[1;32m     99\u001b[0m \u001b[38;5;28;01mif\u001b[39;00m validation_error:\n\u001b[0;32m--> 100\u001b[0m     \u001b[38;5;28;01mraise\u001b[39;00m validation_error\n\u001b[1;32m    101\u001b[0m \u001b[38;5;28mobject\u001b[39m\u001b[38;5;241m.\u001b[39m\u001b[38;5;21m__setattr__\u001b[39m(\u001b[38;5;28mself\u001b[39m, \u001b[38;5;124m'\u001b[39m\u001b[38;5;124m__dict__\u001b[39m\u001b[38;5;124m'\u001b[39m, {\u001b[38;5;241m*\u001b[39m\u001b[38;5;241m*\u001b[39m\u001b[38;5;28mgetattr\u001b[39m(\u001b[38;5;28mself\u001b[39m, \u001b[38;5;124m'\u001b[39m\u001b[38;5;124m__dict__\u001b[39m\u001b[38;5;124m'\u001b[39m, {}), \u001b[38;5;241m*\u001b[39m\u001b[38;5;241m*\u001b[39md})\n\u001b[1;32m    102\u001b[0m \u001b[38;5;28mobject\u001b[39m\u001b[38;5;241m.\u001b[39m\u001b[38;5;21m__setattr__\u001b[39m(\u001b[38;5;28mself\u001b[39m, \u001b[38;5;124m'\u001b[39m\u001b[38;5;124m__initialised__\u001b[39m\u001b[38;5;124m'\u001b[39m, \u001b[38;5;28;01mTrue\u001b[39;00m)\n",
      "\u001b[0;31mValidationError\u001b[0m: 3 validation errors for CargoMovement\nvessels -> 0 -> corporate_entities -> 0\n  __init__() got an unexpected keyword argument 'start_timestamp' (type=type_error)\nvessels -> 0 -> corporate_entities -> 1\n  __init__() got an unexpected keyword argument 'start_timestamp' (type=type_error)\nvessels -> 0 -> corporate_entities -> 2\n  __init__() got an unexpected keyword argument 'start_timestamp' (type=type_error)"
     ]
    }
   ],
   "source": [
    " df = (\n",
    "            CargoMovements()\n",
    "            .search(\n",
    "                filter_activity=\"any_activity\",\n",
    "                filter_waypoints=[\n",
    "                    g.id for g in Geographies().search(term=\"suez\").to_list()\n",
    "                ],\n",
    "                filter_time_min=datetime(2019, 8, 29),\n",
    "                filter_time_max=datetime(2019, 8, 29, 0, 10),\n",
    "            )\n",
    "            .to_list()\n",
    "        )\n",
    "\n",
    "df"
   ]
  },
  {
   "cell_type": "code",
   "execution_count": 9,
   "id": "68cf1052",
   "metadata": {},
   "outputs": [
    {
     "data": {
      "text/plain": [
       "vortexasdk.endpoints.cargo_movements_result.CargoMovementsResult"
      ]
     },
     "execution_count": 9,
     "metadata": {},
     "output_type": "execute_result"
    }
   ],
   "source": [
    "type(df)"
   ]
  },
  {
   "cell_type": "code",
   "execution_count": 10,
   "id": "a87e4f3b",
   "metadata": {},
   "outputs": [
    {
     "name": "stdout",
     "output_type": "stream",
     "text": [
      "11.252992153167725\n"
     ]
    }
   ],
   "source": [
    "start = time.time()\n",
    "test = df.to_df()\n",
    "end = time.time()\n",
    "print(end - start)\n"
   ]
  },
  {
   "cell_type": "code",
   "execution_count": 11,
   "id": "94d2a0ab",
   "metadata": {},
   "outputs": [
    {
     "name": "stdout",
     "output_type": "stream",
     "text": [
      "0.25383925437927246\n"
     ]
    }
   ],
   "source": [
    "start = time.time()\n",
    "test_two = df.to_list()\n",
    "end = time.time()\n",
    "print(end - start)"
   ]
  },
  {
   "cell_type": "code",
   "execution_count": 7,
   "id": "2a2cebae",
   "metadata": {},
   "outputs": [
    {
     "data": {
      "text/plain": [
       "CargoMovement(cargo_movement_id='7f2f53c61d3c21855776cb88721c28907f2f53c61d3c21855776cb88721c2890', quantity=459004, status='unloaded_state', vessels=[{'id': 'e2e6a284e4ebdc91e9c9ecf94d24e227a3f553e204c5c7bc7b2862a594ef09d4', 'mmsi': 447273000, 'imo': 9849617, 'name': 'GAS AL MUBARAKIAH', 'dwt': 54142, 'cubic_capacity': 83000, 'vessel_class': 'vlgc', 'corporate_entities': [{'id': '631e8f19978cb755b6ceec2ccb6f4d3e22494cf59f2598eeebe84319d653b8b0', 'label': 'Aramco Trading (ATC)', 'layer': 'charterer', 'start_timestamp': None, 'end_timestamp': None, 'probability': 1, 'source': 'external'}], 'start_timestamp': '2022-07-18T23:59:38+0000', 'end_timestamp': '2022-08-07T12:47:16+0000', 'fixture_id': '2f8730b3382507c8dd0e218deefc69ab11f79385ed8897c998e18b67ba9cb69a', 'fixture_fulfilled': True, 'voyage_id': '1f53b2440f4d3e3c1d30b28e1c8c60421f53b2440f4d3e3c1d30b28e1c8c6042', 'tags': [], 'status': '', 'year': 2019, 'scrubber': [], 'flag': [{'flag': 'KW', 'flag_country': '6253047d839a51684f2ab6e3a4fa9956f582c73dfbbb276ebcd51ee01697b024', 'tag': 'vessel_flag_tag'}]}], product=[{'id': 'b68cbb746f8b9098c50e2ba36bcad83001a53bd362e9031fb49085d02c36659c', 'layer': 'group', 'probability': 1, 'source': 'external', 'label': 'Clean Petroleum Products'}, {'id': '364ccbb996c944055b479810a8e74863267885dc1b01407cb0f00ab26dafe1e1', 'layer': 'group_product', 'probability': 1, 'source': 'external', 'label': 'LPG+'}, {'id': 'cc21be96a91946eaac737a64977170c671e69e72f1854731b09c98c68a62129d', 'layer': 'category', 'probability': 1, 'source': 'model', 'label': 'Butane/Propane'}], events=[{'event_type': 'cargo_port_load_event', 'location': [{'id': '43a70ba6b21894cd24165d9d7ee59b012e698cf97e22fd275ccdd05a556e7061', 'layer': 'country', 'label': 'Saudi Arabia', 'source': 'model', 'probability': 1}, {'id': '566d8842586412c83641e2277d198ed93179c352f462baccc252c9c31eb8a214', 'layer': 'port', 'label': 'Yanbu Industrial Port [SA]', 'source': 'model', 'probability': 1}, {'id': '80aa9e4f3014c3d96559c8e642157edbb2b684ea0144ed76cd20b3af75110877', 'layer': 'region', 'label': 'Middle East', 'source': 'model', 'probability': 1}, {'id': '8fa865b21fb2ffa0ae44ddf1d1fd93577d3a37781649380c80c870e5f1d12200', 'layer': 'shipping_region', 'label': 'Red Sea', 'source': 'model', 'probability': 1}, {'id': '1c47e09ebf73cbb0fda6e36ffc125d4be50936d17888e0a7d2acb17a439db108', 'layer': 'trading_block', 'label': 'OPEC+', 'source': 'model', 'probability': 1}, {'id': '5057dafe08229da478858da705209d61d88db8dcaadf8376c266eeabdbe1f0ee', 'layer': 'trading_block', 'label': 'OPEC', 'source': 'model', 'probability': 1}, {'id': 'a7536c48714140c7ba8e8895cdcccc12ebb2c4813720d6712f08c5c03c1e3ecf', 'layer': 'trading_block', 'label': 'OPEC + Russia', 'source': 'model', 'probability': 1}, {'id': 'fc6694742ebce49ff955fffa066898c41686d460ab683ab5c44dc7b799aeac58', 'layer': 'trading_block', 'label': 'East of Suez', 'source': 'model', 'probability': 1}, {'id': '10d73bcc52e974d25ecf464d97e7d1478c841e1c089ca4eddcdc34e4de0a3e01', 'layer': 'trading_region', 'label': 'Red Sea', 'source': 'model', 'probability': 1}, {'id': '9bba49379b2a92cf1b2f08984dae490e5f533267d2828867b3d4218ad3c6da74', 'layer': 'trading_subregion', 'label': 'Saudi Arabia Red Sea', 'source': 'model', 'probability': 1}, {'id': '57a774cd16dd5c211fb3c45f72559ea03b5c32d4536d6c9cde330c596d291492', 'layer': 'terminal', 'label': 'Yanbu NGL Terminal', 'source': 'model', 'probability': 1}], 'probability': 1, 'pos': [38.20482101126758, 23.966734220357182], 'start_timestamp': '2022-07-18T23:59:38+0000', 'end_timestamp': '2022-07-20T08:07:34+0000', 'vessel_id': 'e2e6a284e4ebdc91e9c9ecf94d24e227a3f553e204c5c7bc7b2862a594ef09d4'}, {'event_type': 'cargo_port_unload_event', 'location': [{'id': '7fed43c640957555ddac588be64822538078409a0acdaf22126623203ef9954a', 'layer': 'country', 'label': 'Singapore', 'source': 'model', 'probability': 1}, {'id': '1b79e18416d358d7e07b978abcab3f17e2ca75085a6d70ce1811cf4eaeaea886', 'layer': 'port', 'label': 'Singapore [SG]', 'source': 'model', 'probability': 1}, {'id': 'e6955a2c59dc90833986fe0894cf6718dddaa7816bb51bc955cdd3eb4470e554', 'layer': 'region', 'label': 'Asia', 'source': 'model', 'probability': 1}, {'id': '0e62f0e257232123903546d411a3325cd27e78c9088c6ba0d54bfe26717ee1de', 'layer': 'shipping_region', 'label': 'South East Asia', 'source': 'model', 'probability': 1}, {'id': '07ac020aa082d5d116f829ef28a40e9876c0644aeb4f0480202c1a86bb8adf7f', 'layer': 'trading_block', 'label': 'Far East', 'source': 'model', 'probability': 1}, {'id': '956b03529510459d298c4e537d23c6fbb22ffd8414af933b3475310c661f337a', 'layer': 'trading_block', 'label': 'Non-OPEC', 'source': 'model', 'probability': 1}, {'id': 'fc6694742ebce49ff955fffa066898c41686d460ab683ab5c44dc7b799aeac58', 'layer': 'trading_block', 'label': 'East of Suez', 'source': 'model', 'probability': 1}, {'id': 'a2ca5cb23cfc99e5b355a1b928d16e30cbcdfed1c9ff01ba39b5d4c53ffc1ef3', 'layer': 'trading_region', 'label': 'Southeast Asia', 'source': 'model', 'probability': 1}, {'id': '862df92be4fa8d7b343bfcc36861151fdfb45f6b1f0024d3f2c56d77ef95def6', 'layer': 'terminal', 'label': 'Vopak Singapore - Banyan Terminal (OBV)', 'source': 'model', 'probability': 1}], 'probability': 1, 'pos': [103.7473554076358, 1.2824842511254069], 'raw_locations': [{'location_id': '862df92be4fa8d7b343bfcc36861151fdfb45f6b1f0024d3f2c56d77ef95def6', 'probability': 1}], 'start_timestamp': '2022-08-04T12:47:16+0000', 'end_timestamp': '2022-08-07T12:47:16+0000', 'vessel_id': 'e2e6a284e4ebdc91e9c9ecf94d24e227a3f553e204c5c7bc7b2862a594ef09d4'}, {'event_type': 'cargo_waypoint_event', 'vessel_id': 'e2e6a284e4ebdc91e9c9ecf94d24e227a3f553e204c5c7bc7b2862a594ef09d4', 'location': [{'id': '9ea34bcf7fcd1825e235336ab55edda0b6a39381fa23e4dfe17c17039d51e12c', 'layer': 'waypoint', 'label': 'Dondra Head', 'source': 'model', 'probability': 1}], 'pos': [80.46661787765855, 5.118159439912741], 'probability': 1, 'start_timestamp': '2022-07-30T03:40:27+0000', 'end_timestamp': '2022-07-30T13:35:07+0000'}, {'event_type': 'cargo_waypoint_event', 'vessel_id': 'e2e6a284e4ebdc91e9c9ecf94d24e227a3f553e204c5c7bc7b2862a594ef09d4', 'location': [{'id': '34810d4a19fdf3d1de110ee44732bc8671179c28426b6a29f8585fed8bffec35', 'layer': 'waypoint', 'label': 'Bab-el-Mandeb', 'source': 'model', 'probability': 1}], 'pos': [42.77694502260734, 13.498552263257029], 'probability': 1, 'start_timestamp': '2022-07-22T15:18:53+0000', 'end_timestamp': '2022-07-23T00:15:08+0000'}, {'event_type': 'cargo_waypoint_event', 'vessel_id': 'e2e6a284e4ebdc91e9c9ecf94d24e227a3f553e204c5c7bc7b2862a594ef09d4', 'location': [{'id': '2dbf316be2e6049b35d7ffa169e1d65a47e4c9e8dd25bbda0c6ba387f9251aae', 'layer': 'waypoint', 'label': 'Malacca Strait', 'source': 'model', 'probability': 1}], 'pos': [100.33594912441708, 3.637628160573191], 'probability': 1, 'start_timestamp': '2022-08-02T17:42:19+0000', 'end_timestamp': '2022-08-03T17:35:24+0000'}], parent_ids=[])"
      ]
     },
     "execution_count": 7,
     "metadata": {},
     "output_type": "execute_result"
    }
   ],
   "source": [
    "test_two[0]"
   ]
  },
  {
   "cell_type": "code",
   "execution_count": 11,
   "id": "19691eda",
   "metadata": {},
   "outputs": [
    {
     "name": "stdout",
     "output_type": "stream",
     "text": [
      "         12690448 function calls (11391861 primitive calls) in 15.361 seconds\n",
      "\n",
      "   Ordered by: standard name\n",
      "\n",
      "   ncalls  tottime  percall  cumtime  percall filename:lineno(function)\n",
      "        1    0.010    0.010   15.459   15.459 <string>:1(<module>)\n",
      "      761    0.004    0.000    0.004    0.000 <string>:2(__init__)\n",
      "      810    0.003    0.000    0.003    0.000 <string>:2(__setattr__)\n",
      "        1    0.000    0.000    0.000    0.000 __init__.py:1424(debug)\n",
      "        1    0.000    0.000    0.000    0.000 __init__.py:1689(isEnabledFor)\n",
      "      761    0.003    0.000    0.165    0.000 __init__.py:183(dumps)\n",
      "      761    0.004    0.000    0.103    0.000 __init__.py:299(loads)\n",
      "95455/67547    0.098    0.000    3.006    0.000 _cache.py:22(__call__)\n",
      "     2315    0.021    0.000    0.039    0.000 _cache.py:38(clear)\n",
      "   249775    0.216    0.000    0.216    0.000 _common_impl.py:105(determine_precedence)\n",
      "   115209    0.059    0.000    0.088    0.000 _common_impl.py:121(get_cls_and_meta)\n",
      "     9264    0.034    0.000    0.179    0.000 _common_impl.py:131(can_match_with_none)\n",
      "    82572    0.098    0.000    0.568    0.000 _common_impl.py:152(_get_simple_name)\n",
      "    80104    0.073    0.000    0.102    0.000 _common_impl.py:166(_get_module)\n",
      "   439842    0.713    0.000    2.395    0.000 _common_impl.py:43(get_class_name)\n",
      "   179145    0.033    0.000    0.033    0.000 _common_impl.py:57(<lambda>)\n",
      "   439842    0.276    0.000    0.733    0.000 _common_impl.py:72(_get_special_cases)\n",
      "     6155    0.005    0.000    0.043    0.000 _compatibility_impl.py:51(get_union_params)\n",
      "    29430    0.037    0.000    0.070    0.000 _compatibility_impl.py:58(get_naked_class)\n",
      "     6617    0.012    0.000    0.474    0.000 _compatibility_impl.py:70(get_type_hints)\n",
      "   170187    0.331    0.000    0.469    0.000 _dump_impl.py:106(_check_for_recursion)\n",
      "170187/761    1.016    0.000    4.991    0.007 _dump_impl.py:14(dump)\n",
      "      761    0.009    0.000    5.165    0.007 _dump_impl.py:59(dumps)\n",
      "   170187    0.191    0.000    0.619    0.000 _extra_impl.py:23(announce_class)\n",
      "     9439    0.024    0.000    0.039    0.000 _functions.py:57(get_args)\n",
      "     9439    0.012    0.000    0.012    0.000 _functions.py:65(<listcomp>)\n",
      "    21804    0.026    0.000    0.838    0.000 _lizers_impl.py:100(get_deserializer)\n",
      "   216823    0.341    0.000    3.518    0.000 _lizers_impl.py:115(_get_lizer)\n",
      "    68706    0.124    0.000    1.685    0.000 _lizers_impl.py:131(_get_lizer_by_parents)\n",
      "    68706    0.382    0.000    1.047    0.000 _lizers_impl.py:145(_get_parents)\n",
      "   170187    0.138    0.000    2.033    0.000 _lizers_impl.py:86(get_serializer)\n",
      "115209/761    0.406    0.000   10.083    0.013 _load_impl.py:100(_do_load)\n",
      "      761    0.005    0.000   10.258    0.013 _load_impl.py:120(loads)\n",
      "   115209    0.260    0.000    0.447    0.000 _load_impl.py:180(_check_and_get_cls_and_meta_hints)\n",
      "   225615    0.161    0.000    0.224    0.000 _load_impl.py:202(_should_skip)\n",
      "   228083    0.076    0.000    0.263    0.000 _load_impl.py:206(_check_for_none)\n",
      "228083/761    1.138    0.000   10.150    0.013 _load_impl.py:25(load)\n",
      "    24832    0.030    0.000    0.841    0.000 _validation.py:36(get_validator)\n",
      "   224061    0.292    0.000    1.403    0.000 _validation.py:50(validate)\n",
      "    87748    0.037    0.000    0.091    0.000 abc.py:100(__subclasscheck__)\n",
      "        1    0.000    0.000   15.448   15.448 cargo_movements_result.py:27(to_list)\n",
      "      761    0.006    0.000    0.098    0.000 decoder.py:332(decode)\n",
      "      761    0.087    0.000    0.087    0.000 decoder.py:343(raw_decode)\n",
      "   139835    0.069    0.000    0.110    0.000 default_dict.py:61(_store_cls_info)\n",
      "25518/761    0.517    0.000    4.936    0.006 default_dict.py:8(default_dict_serializer)\n",
      "    11739    0.019    0.000    0.019    0.000 default_iterable.py:15(<dictcomp>)\n",
      "11739/3044    0.061    0.000    4.651    0.002 default_iterable.py:16(<listcomp>)\n",
      "11739/3044    0.034    0.000    4.664    0.002 default_iterable.py:5(default_iterable_serializer)\n",
      "9439/3044    0.015    0.000    9.402    0.003 default_list.py:41(_single_task)\n",
      "9439/3044    0.109    0.000    9.396    0.003 default_list.py:46(<listcomp>)\n",
      "9439/3044    0.049    0.000    9.431    0.003 default_list.py:7(default_list_deserializer)\n",
      "     1554    0.000    0.000    0.000    0.000 default_nonetype.py:4(default_nonetype_deserializer)\n",
      "134566/5327    0.640    0.000    9.809    0.002 default_object.py:115(_get_value_from_obj)\n",
      "    23895    0.039    0.000    0.079    0.000 default_object.py:138(_set_remaining_attrs)\n",
      "    25449    0.009    0.000    0.009    0.000 default_object.py:156(_check_and_transform_keys)\n",
      "25449/761    0.254    0.000   10.042    0.013 default_object.py:16(default_object_deserializer)\n",
      "    23895    0.035    0.000    0.071    0.000 default_object.py:168(_get_remaining_args)\n",
      "    23895    0.036    0.000    0.036    0.000 default_object.py:174(<dictcomp>)\n",
      "25449/761    0.950    0.000   10.022    0.013 default_object.py:47(_get_constructor_args)\n",
      "     6617    0.022    0.000    0.732    0.000 default_object.py:76(_get_signature)\n",
      "137632/5327    0.404    0.000    9.825    0.002 default_object.py:81(_get_value_for_attr)\n",
      "   132930    0.023    0.000    0.023    0.000 default_primitive.py:1(default_primitive_serializer)\n",
      "    19177    0.024    0.000    0.030    0.000 default_primitive.py:5(default_primitive_deserializer)\n",
      "    59590    0.261    0.000    1.479    0.000 default_union.py:8(default_union_deserializer)\n",
      "      761    0.005    0.000    0.162    0.000 encoder.py:182(encode)\n",
      "      761    0.156    0.000    0.156    0.000 encoder.py:204(iterencode)\n",
      "    49900    0.058    0.000    0.079    0.000 enum.py:313(__call__)\n",
      "    49900    0.021    0.000    0.021    0.000 enum.py:631(__new__)\n",
      "     5576    0.008    0.000    0.008    0.000 exceptions.py:12(__init__)\n",
      "     1554    0.004    0.000    0.016    0.000 exceptions.py:123(__init__)\n",
      "     1554    0.006    0.000    0.007    0.000 exceptions.py:36(__init__)\n",
      "     4022    0.008    0.000    0.014    0.000 exceptions.py:59(__init__)\n",
      "    13234    0.008    0.000    0.010    0.000 inspect.py:158(isfunction)\n",
      "     6617    0.193    0.000    0.576    0.000 inspect.py:2124(_signature_from_function)\n",
      "     6617    0.068    0.000    0.688    0.000 inspect.py:2218(_signature_from_callable)\n",
      "    49900    0.132    0.000    0.233    0.000 inspect.py:2489(__init__)\n",
      "    49900    0.011    0.000    0.011    0.000 inspect.py:2539(name)\n",
      "     4578    0.002    0.000    0.002    0.000 inspect.py:2543(default)\n",
      "     1554    0.000    0.000    0.000    0.000 inspect.py:2551(kind)\n",
      "     6617    0.070    0.000    0.119    0.000 inspect.py:2772(__init__)\n",
      "    56517    0.038    0.000    0.049    0.000 inspect.py:2821(<genexpr>)\n",
      "     6617    0.008    0.000    0.696    0.000 inspect.py:2851(from_callable)\n",
      "     6617    0.002    0.000    0.002    0.000 inspect.py:2857(parameters)\n",
      "     6617    0.012    0.000    0.708    0.000 inspect.py:3103(signature)\n",
      "     6617    0.019    0.000    0.030    0.000 inspect.py:493(unwrap)\n",
      "     6617    0.004    0.000    0.007    0.000 inspect.py:513(_is_wrapper)\n",
      "        1    0.000    0.000   15.448   15.448 result_conversions.py:11(create_list)\n",
      "        1    0.002    0.002   15.448   15.448 result_conversions.py:14(<listcomp>)\n",
      "        1    0.000    0.000    0.000    0.000 search_result.py:14(to_list)\n",
      "      761    0.023    0.000   15.446    0.020 serdes.py:16(from_dict)\n",
      "     6617    0.032    0.000    0.034    0.000 typing.py:1160(_get_defaults)\n",
      "     6617    0.121    0.000    0.462    0.000 typing.py:1185(get_type_hints)\n",
      "45856/44334    0.063    0.000    0.109    0.000 typing.py:153(_type_repr)\n",
      "    13436    0.021    0.000    0.069    0.000 typing.py:255(inner)\n",
      "94476/49900    0.133    0.000    0.211    0.000 typing.py:265(_eval_type)\n",
      "69924/68402    0.041    0.000    0.085    0.000 typing.py:272(<genexpr>)\n",
      "    63071    0.034    0.000    0.044    0.000 typing.py:324(__eq__)\n",
      "   229043    0.125    0.000    0.177    0.000 typing.py:329(__hash__)\n",
      "    21395    0.016    0.000    0.016    0.000 typing.py:332(__repr__)\n",
      "     6617    0.021    0.000    0.027    0.000 typing.py:344(__subclasscheck__)\n",
      "    95944    0.094    0.000    0.210    0.000 typing.py:646(_is_dunder)\n",
      "16300/14778    0.069    0.000    0.202    0.000 typing.py:693(__repr__)\n",
      "16300/14778    0.022    0.000    0.066    0.000 typing.py:701(<listcomp>)\n",
      "   132708    0.275    0.000    0.348    0.000 typing.py:711(__eq__)\n",
      "274879/264584    0.411    0.000    0.749    0.000 typing.py:720(__hash__)\n",
      "    95944    0.142    0.000    0.352    0.000 typing.py:755(__getattr__)\n",
      "    94365    0.100    0.000    0.202    0.000 typing.py:771(__subclasscheck__)\n",
      "    87748    0.054    0.000    0.054    0.000 {built-in method _abc._abc_subclasscheck}\n",
      "     6617    0.003    0.000    0.003    0.000 {built-in method builtins.callable}\n",
      "        1    0.000    0.000   15.459   15.459 {built-in method builtins.exec}\n",
      "   279080    0.193    0.000    0.338    0.000 {built-in method builtins.getattr}\n",
      "   477908    0.340    0.000    0.548    0.000 {built-in method builtins.hasattr}\n",
      "503922/288315    0.224    0.000    0.341    0.000 {built-in method builtins.hash}\n",
      "   517178    0.110    0.000    0.110    0.000 {built-in method builtins.id}\n",
      "  1074021    0.274    0.000    0.274    0.000 {built-in method builtins.isinstance}\n",
      "829434/735069    0.278    0.000    0.522    0.000 {built-in method builtins.issubclass}\n",
      "     9458    0.003    0.000    0.003    0.000 {built-in method builtins.len}\n",
      "31078/14778    0.028    0.000    0.219    0.000 {built-in method builtins.repr}\n",
      "     1176    0.003    0.000    0.007    0.000 {built-in method builtins.setattr}\n",
      "     6617    0.002    0.000    0.002    0.000 {built-in method sys.getrecursionlimit}\n",
      "   170187    0.038    0.000    0.038    0.000 {method 'add' of 'set' objects}\n",
      "   156549    0.030    0.000    0.030    0.000 {method 'append' of 'list' objects}\n",
      "    16205    0.018    0.000    0.018    0.000 {method 'cache_clear' of 'functools._lru_cache_wrapper' objects}\n",
      "        1    0.000    0.000    0.000    0.000 {method 'disable' of '_lsprof.Profiler' objects}\n",
      "     1522    0.001    0.000    0.001    0.000 {method 'end' of 're.Match' objects}\n",
      "    95944    0.043    0.000    0.043    0.000 {method 'endswith' of 'str' objects}\n",
      "   212075    0.258    0.000    0.258    0.000 {method 'format' of 'str' objects}\n",
      "   946143    0.231    0.000    0.231    0.000 {method 'get' of 'dict' objects}\n",
      "    49900    0.014    0.000    0.014    0.000 {method 'isidentifier' of 'str' objects}\n",
      "    30512    0.009    0.000    0.009    0.000 {method 'items' of 'dict' objects}\n",
      "    25449    0.019    0.000    0.019    0.000 {method 'items' of 'mappingproxy' objects}\n",
      "    17061    0.009    0.000    0.009    0.000 {method 'join' of 'str' objects}\n",
      "   269655    0.078    0.000    0.078    0.000 {method 'lower' of 'str' objects}\n",
      "     1522    0.004    0.000    0.004    0.000 {method 'match' of 're.Pattern' objects}\n",
      "   170187    0.052    0.000    0.052    0.000 {method 'remove' of 'set' objects}\n",
      "    44334    0.024    0.000    0.024    0.000 {method 'split' of 'str' objects}\n",
      "    96705    0.075    0.000    0.075    0.000 {method 'startswith' of 'str' objects}\n",
      "\n",
      "\n"
     ]
    }
   ],
   "source": [
    "import cProfile\n",
    "\n",
    "cProfile.run('df.to_list()')"
   ]
  },
  {
   "cell_type": "code",
   "execution_count": null,
   "id": "b6fd4a05",
   "metadata": {},
   "outputs": [],
   "source": []
  }
 ],
 "metadata": {
  "kernelspec": {
   "display_name": "Python 3 (ipykernel)",
   "language": "python",
   "name": "python3"
  },
  "language_info": {
   "codemirror_mode": {
    "name": "ipython",
    "version": 3
   },
   "file_extension": ".py",
   "mimetype": "text/x-python",
   "name": "python",
   "nbconvert_exporter": "python",
   "pygments_lexer": "ipython3",
   "version": "3.8.12"
  }
 },
 "nbformat": 4,
 "nbformat_minor": 5
}
