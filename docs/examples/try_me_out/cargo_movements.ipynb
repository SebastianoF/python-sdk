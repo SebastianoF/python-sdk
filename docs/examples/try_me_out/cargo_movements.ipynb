{
 "cells": [
  {
   "cell_type": "markdown",
   "metadata": {},
   "source": [
    "### Try out the VortexaSDK"
   ]
  },
  {
   "cell_type": "markdown",
   "metadata": {},
   "source": [
    "First let's import our requirements"
   ]
  },
  {
   "cell_type": "code",
   "execution_count": 8,
   "metadata": {},
   "outputs": [],
   "source": [
    "from datetime import datetime\n",
    "import vortexasdk as v"
   ]
  },
  {
   "cell_type": "markdown",
   "metadata": {},
   "source": [
    "Now let's load a dataframe of cargo movements that loaded at the start of August, 2017."
   ]
  },
  {
   "cell_type": "markdown",
   "metadata": {},
   "source": [
    "You'll need to enter your Vortexa API key when prompted."
   ]
  },
  {
   "cell_type": "code",
   "execution_count": 15,
   "metadata": {},
   "outputs": [
    {
     "name": "stderr",
     "output_type": "stream",
     "text": [
      "Loading from API: 1500it [00:01, 910.66it/s]              \n"
     ]
    }
   ],
   "source": [
    "df = v.CargoMovements()\\\n",
    "    .search(filter_activity='loading_state',\n",
    "        filter_time_min=datetime(2017, 8, 1),\n",
    "        filter_time_max=datetime(2017, 8, 2))\\\n",
    "    .to_df()"
   ]
  },
  {
   "cell_type": "code",
   "execution_count": 16,
   "metadata": {},
   "outputs": [
    {
     "data": {
      "text/html": [
       "<div>\n",
       "<style scoped>\n",
       "    .dataframe tbody tr th:only-of-type {\n",
       "        vertical-align: middle;\n",
       "    }\n",
       "\n",
       "    .dataframe tbody tr th {\n",
       "        vertical-align: top;\n",
       "    }\n",
       "\n",
       "    .dataframe thead th {\n",
       "        text-align: right;\n",
       "    }\n",
       "</style>\n",
       "<table border=\"1\" class=\"dataframe\">\n",
       "  <thead>\n",
       "    <tr style=\"text-align: right;\">\n",
       "      <th></th>\n",
       "      <th>events.cargo_port_load_event.0.location.port.label</th>\n",
       "      <th>events.cargo_port_unload_event.0.location.port.label</th>\n",
       "      <th>product.group.label</th>\n",
       "      <th>product.grade.label</th>\n",
       "      <th>quantity</th>\n",
       "      <th>vessels.0.name</th>\n",
       "      <th>events.cargo_port_load_event.0.end_timestamp</th>\n",
       "      <th>events.cargo_port_unload_event.0.start_timestamp</th>\n",
       "    </tr>\n",
       "  </thead>\n",
       "  <tbody>\n",
       "    <tr>\n",
       "      <th>0</th>\n",
       "      <td>Sikka [IN]</td>\n",
       "      <td>Dahej [IN]</td>\n",
       "      <td>Clean Petroleum Products</td>\n",
       "      <td>NaN</td>\n",
       "      <td>136557</td>\n",
       "      <td>MARITIME RIYAL</td>\n",
       "      <td>2017-08-03 04:12:48+00:00</td>\n",
       "      <td>2017-08-07 10:06:57+00:00</td>\n",
       "    </tr>\n",
       "    <tr>\n",
       "      <th>1</th>\n",
       "      <td>Mina Al Ahmadi [KW]</td>\n",
       "      <td>Kawasaki [JP]</td>\n",
       "      <td>Crude/Condensates</td>\n",
       "      <td>Kuwait Export</td>\n",
       "      <td>660535</td>\n",
       "      <td>TOSA</td>\n",
       "      <td>2017-08-02 13:39:38+00:00</td>\n",
       "      <td>2017-08-23 03:00:31+00:00</td>\n",
       "    </tr>\n",
       "    <tr>\n",
       "      <th>2</th>\n",
       "      <td>Zhuhai [CN]</td>\n",
       "      <td>Hong Kong [CN]</td>\n",
       "      <td>Clean Petroleum Products</td>\n",
       "      <td>NaN</td>\n",
       "      <td>7088</td>\n",
       "      <td>RUN XIANG</td>\n",
       "      <td>2017-08-02 03:51:22+00:00</td>\n",
       "      <td>2017-08-03 06:17:54+00:00</td>\n",
       "    </tr>\n",
       "    <tr>\n",
       "      <th>3</th>\n",
       "      <td>Ghent [BE]</td>\n",
       "      <td>Montreal [CA]</td>\n",
       "      <td>Clean Petroleum Products</td>\n",
       "      <td>NaN</td>\n",
       "      <td>297922</td>\n",
       "      <td>JAL UPASANA</td>\n",
       "      <td>2017-08-06 06:25:05+00:00</td>\n",
       "      <td>2017-08-17 07:10:17+00:00</td>\n",
       "    </tr>\n",
       "    <tr>\n",
       "      <th>4</th>\n",
       "      <td>Yeosu (Yosu), Gwangyang [KR]</td>\n",
       "      <td>Sriracha [TH]</td>\n",
       "      <td>Crude/Condensates</td>\n",
       "      <td>NaN</td>\n",
       "      <td>736007</td>\n",
       "      <td>PACIFIC DAWN</td>\n",
       "      <td>2017-08-03 01:14:55+00:00</td>\n",
       "      <td>2017-08-12 02:43:58+00:00</td>\n",
       "    </tr>\n",
       "  </tbody>\n",
       "</table>\n",
       "</div>"
      ],
      "text/plain": [
       "  events.cargo_port_load_event.0.location.port.label  \\\n",
       "0                                         Sikka [IN]   \n",
       "1                                Mina Al Ahmadi [KW]   \n",
       "2                                        Zhuhai [CN]   \n",
       "3                                         Ghent [BE]   \n",
       "4                       Yeosu (Yosu), Gwangyang [KR]   \n",
       "\n",
       "  events.cargo_port_unload_event.0.location.port.label  \\\n",
       "0                                         Dahej [IN]     \n",
       "1                                      Kawasaki [JP]     \n",
       "2                                     Hong Kong [CN]     \n",
       "3                                      Montreal [CA]     \n",
       "4                                      Sriracha [TH]     \n",
       "\n",
       "        product.group.label product.grade.label  quantity  vessels.0.name  \\\n",
       "0  Clean Petroleum Products                 NaN    136557  MARITIME RIYAL   \n",
       "1         Crude/Condensates       Kuwait Export    660535            TOSA   \n",
       "2  Clean Petroleum Products                 NaN      7088       RUN XIANG   \n",
       "3  Clean Petroleum Products                 NaN    297922     JAL UPASANA   \n",
       "4         Crude/Condensates                 NaN    736007    PACIFIC DAWN   \n",
       "\n",
       "  events.cargo_port_load_event.0.end_timestamp  \\\n",
       "0                    2017-08-03 04:12:48+00:00   \n",
       "1                    2017-08-02 13:39:38+00:00   \n",
       "2                    2017-08-02 03:51:22+00:00   \n",
       "3                    2017-08-06 06:25:05+00:00   \n",
       "4                    2017-08-03 01:14:55+00:00   \n",
       "\n",
       "  events.cargo_port_unload_event.0.start_timestamp  \n",
       "0                        2017-08-07 10:06:57+00:00  \n",
       "1                        2017-08-23 03:00:31+00:00  \n",
       "2                        2017-08-03 06:17:54+00:00  \n",
       "3                        2017-08-17 07:10:17+00:00  \n",
       "4                        2017-08-12 02:43:58+00:00  "
      ]
     },
     "execution_count": 16,
     "metadata": {},
     "output_type": "execute_result"
    }
   ],
   "source": [
    "df.head()"
   ]
  },
  {
   "cell_type": "markdown",
   "metadata": {},
   "source": [
    "That's it! You've successfully loaded data using the Vortexa SDK. Check out https://vortechsa.github.io/python-sdk/ for more examples"
   ]
  }
 ],
 "metadata": {
  "kernelspec": {
   "display_name": "Python 3",
   "language": "python",
   "name": "python3"
  },
  "language_info": {
   "codemirror_mode": {
    "name": "ipython",
    "version": 3
   },
   "file_extension": ".py",
   "mimetype": "text/x-python",
   "name": "python",
   "nbconvert_exporter": "python",
   "pygments_lexer": "ipython3",
   "version": "3.7.9"
  }
 },
 "nbformat": 4,
 "nbformat_minor": 4
}
