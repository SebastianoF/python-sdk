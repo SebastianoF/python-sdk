{
 "cells": [
  {
   "cell_type": "markdown",
   "metadata": {},
   "source": [
    "### Try out the VortexaSDK"
   ]
  },
  {
   "cell_type": "markdown",
   "metadata": {},
   "source": [
    "First let's import our requirements"
   ]
  },
  {
   "cell_type": "code",
   "execution_count": 1,
   "metadata": {},
   "outputs": [],
   "source": [
    "import vortexasdk as v"
   ]
  },
  {
   "cell_type": "markdown",
   "metadata": {},
   "source": [
    "You'll need to enter your Vortexa API key when prompted."
   ]
  },
  {
   "cell_type": "code",
   "execution_count": 9,
   "metadata": {},
   "outputs": [],
   "source": [
    "# Let's load some sample products with 'gasoil in the name'\n",
    "products = v.Products().search(\"gasoil\").to_df()"
   ]
  },
  {
   "cell_type": "code",
   "execution_count": 8,
   "metadata": {},
   "outputs": [
    {
     "data": {
      "text/html": [
       "<div>\n",
       "<style scoped>\n",
       "    .dataframe tbody tr th:only-of-type {\n",
       "        vertical-align: middle;\n",
       "    }\n",
       "\n",
       "    .dataframe tbody tr th {\n",
       "        vertical-align: top;\n",
       "    }\n",
       "\n",
       "    .dataframe thead th {\n",
       "        text-align: right;\n",
       "    }\n",
       "</style>\n",
       "<table border=\"1\" class=\"dataframe\">\n",
       "  <thead>\n",
       "    <tr style=\"text-align: right;\">\n",
       "      <th></th>\n",
       "      <th>id</th>\n",
       "      <th>name</th>\n",
       "      <th>layer.0</th>\n",
       "      <th>parent.0.name</th>\n",
       "    </tr>\n",
       "  </thead>\n",
       "  <tbody>\n",
       "    <tr>\n",
       "      <th>0</th>\n",
       "      <td>b2034f1ad3a4ac269e962f00b9914d6b909923cf904d99...</td>\n",
       "      <td>Gasoil</td>\n",
       "      <td>category</td>\n",
       "      <td>Diesel/Gasoil</td>\n",
       "    </tr>\n",
       "    <tr>\n",
       "      <th>1</th>\n",
       "      <td>6962fd47bdd92dc246910ff54bd00ce78c12db58179c0c...</td>\n",
       "      <td>Gasoil (Koke)</td>\n",
       "      <td>grade</td>\n",
       "      <td>Gasoil</td>\n",
       "    </tr>\n",
       "    <tr>\n",
       "      <th>2</th>\n",
       "      <td>e06296595e1d554008a70172440d5582c923bdb8182af5...</td>\n",
       "      <td>Coker Gasoil</td>\n",
       "      <td>grade</td>\n",
       "      <td>Dirty Feedstocks</td>\n",
       "    </tr>\n",
       "    <tr>\n",
       "      <th>3</th>\n",
       "      <td>35c76e1202a56500f43a367d4200af6d95935e48bd6c82...</td>\n",
       "      <td>Gasoil 0.4pc</td>\n",
       "      <td>grade</td>\n",
       "      <td>Gasoil</td>\n",
       "    </tr>\n",
       "    <tr>\n",
       "      <th>4</th>\n",
       "      <td>8949d1423b66f68bf208ba64d01e55391cac5ae3a8bae6...</td>\n",
       "      <td>Gasoil E</td>\n",
       "      <td>grade</td>\n",
       "      <td>Gasoil</td>\n",
       "    </tr>\n",
       "  </tbody>\n",
       "</table>\n",
       "</div>"
      ],
      "text/plain": [
       "                                                  id           name   layer.0  \\\n",
       "0  b2034f1ad3a4ac269e962f00b9914d6b909923cf904d99...         Gasoil  category   \n",
       "1  6962fd47bdd92dc246910ff54bd00ce78c12db58179c0c...  Gasoil (Koke)     grade   \n",
       "2  e06296595e1d554008a70172440d5582c923bdb8182af5...   Coker Gasoil     grade   \n",
       "3  35c76e1202a56500f43a367d4200af6d95935e48bd6c82...   Gasoil 0.4pc     grade   \n",
       "4  8949d1423b66f68bf208ba64d01e55391cac5ae3a8bae6...       Gasoil E     grade   \n",
       "\n",
       "      parent.0.name  \n",
       "0     Diesel/Gasoil  \n",
       "1            Gasoil  \n",
       "2  Dirty Feedstocks  \n",
       "3            Gasoil  \n",
       "4            Gasoil  "
      ]
     },
     "execution_count": 8,
     "metadata": {},
     "output_type": "execute_result"
    }
   ],
   "source": [
    "products.head()"
   ]
  },
  {
   "cell_type": "markdown",
   "metadata": {},
   "source": [
    "That's it! You've successfully loaded data using the Vortexa SDK. Check out https://vortechsa.github.io/python-sdk/ for more examples"
   ]
  }
 ],
 "metadata": {
  "kernelspec": {
   "display_name": "Python 3",
   "language": "python",
   "name": "python3"
  },
  "language_info": {
   "codemirror_mode": {
    "name": "ipython",
    "version": 3
   },
   "file_extension": ".py",
   "mimetype": "text/x-python",
   "name": "python",
   "nbconvert_exporter": "python",
   "pygments_lexer": "ipython3",
   "version": "3.7.9"
  }
 },
 "nbformat": 4,
 "nbformat_minor": 4
}
