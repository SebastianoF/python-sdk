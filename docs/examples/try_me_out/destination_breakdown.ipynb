{
 "cells": [
  {
   "cell_type": "markdown",
   "source": [
    "### This notebook gives a 30 second introduction to the Vortexa SDK"
   ],
   "metadata": {}
  },
  {
   "cell_type": "markdown",
   "source": [
    "First let's import our requirements"
   ],
   "metadata": {}
  },
  {
   "cell_type": "code",
   "execution_count": 1,
   "source": [
    "from datetime import datetime\n",
    "import vortexasdk as v"
   ],
   "outputs": [],
   "metadata": {
    "execution": {
     "iopub.execute_input": "2021-07-14T15:55:18.067903Z",
     "iopub.status.busy": "2021-07-14T15:55:18.066636Z",
     "iopub.status.idle": "2021-07-14T15:55:18.510526Z",
     "shell.execute_reply": "2021-07-14T15:55:18.510915Z"
    }
   }
  },
  {
   "cell_type": "markdown",
   "source": [
    "Now let's look at the breakdown by destination terminal of cargoes departing from the port of origin over the last 5 days, in tonnes.\n"
   ],
   "metadata": {}
  },
  {
   "cell_type": "markdown",
   "source": [
    "You'll need to enter your Vortexa API key when prompted."
   ],
   "metadata": {}
  },
  {
   "cell_type": "code",
   "execution_count": 2,
   "source": [
    "df = v.DestinationBreakdown()\\\n",
    "    .search(filter_activity=\"loading_end\",\n",
    "        breakdown_geography=\"terminal\",\n",
    "        breakdown_unit=\"t\",\n",
    "        breakdown_size=5,\n",
    "        filter_time_min=datetime(2019, 11, 10),\n",
    "        filter_time_max=datetime(2019, 11, 15)\n",
    "    ).to_df()"
   ],
   "outputs": [],
   "metadata": {
    "execution": {
     "iopub.execute_input": "2021-07-14T15:55:18.515504Z",
     "iopub.status.busy": "2021-07-14T15:55:18.514846Z",
     "iopub.status.idle": "2021-07-14T15:55:19.577779Z",
     "shell.execute_reply": "2021-07-14T15:55:19.578265Z"
    }
   }
  },
  {
   "cell_type": "code",
   "execution_count": 3,
   "source": [
    "df.head()"
   ],
   "outputs": [
    {
     "output_type": "execute_result",
     "data": {
      "text/plain": [
       "                                                 key  \\\n",
       "0  606e73162cfd0492919ef96b04dae1bfddda09d148d03b...   \n",
       "1  844756c877c680ce0ff582a46b5bb1cf34cc33179df977...   \n",
       "2  a5269f5a20759b3a120af66a298fa2385a2b81d8b248ae...   \n",
       "3  78fcabe3bb6a47f2aa019ae9948be43c5ebbe08a2d1cba...   \n",
       "4  15db6ca55a3b13d3c4b135afcaf87f5d605680ac751774...   \n",
       "\n",
       "                                          label   value  count  \n",
       "0        SPSE - DPF - G.I.E. Petroleum Terminal  785819     12  \n",
       "1                             SK Energy (Ulsan)  288529     11  \n",
       "2  Dongying CNOOC Oil & Petrochemicals Shandong  201283     11  \n",
       "3                           Kandla Oil Terminal  121762     15  \n",
       "4                                 Pirpau Island   62933     12  "
      ],
      "text/html": [
       "<div>\n",
       "<style scoped>\n",
       "    .dataframe tbody tr th:only-of-type {\n",
       "        vertical-align: middle;\n",
       "    }\n",
       "\n",
       "    .dataframe tbody tr th {\n",
       "        vertical-align: top;\n",
       "    }\n",
       "\n",
       "    .dataframe thead th {\n",
       "        text-align: right;\n",
       "    }\n",
       "</style>\n",
       "<table border=\"1\" class=\"dataframe\">\n",
       "  <thead>\n",
       "    <tr style=\"text-align: right;\">\n",
       "      <th></th>\n",
       "      <th>key</th>\n",
       "      <th>label</th>\n",
       "      <th>value</th>\n",
       "      <th>count</th>\n",
       "    </tr>\n",
       "  </thead>\n",
       "  <tbody>\n",
       "    <tr>\n",
       "      <th>0</th>\n",
       "      <td>606e73162cfd0492919ef96b04dae1bfddda09d148d03b...</td>\n",
       "      <td>SPSE - DPF - G.I.E. Petroleum Terminal</td>\n",
       "      <td>785819</td>\n",
       "      <td>12</td>\n",
       "    </tr>\n",
       "    <tr>\n",
       "      <th>1</th>\n",
       "      <td>844756c877c680ce0ff582a46b5bb1cf34cc33179df977...</td>\n",
       "      <td>SK Energy (Ulsan)</td>\n",
       "      <td>288529</td>\n",
       "      <td>11</td>\n",
       "    </tr>\n",
       "    <tr>\n",
       "      <th>2</th>\n",
       "      <td>a5269f5a20759b3a120af66a298fa2385a2b81d8b248ae...</td>\n",
       "      <td>Dongying CNOOC Oil &amp; Petrochemicals Shandong</td>\n",
       "      <td>201283</td>\n",
       "      <td>11</td>\n",
       "    </tr>\n",
       "    <tr>\n",
       "      <th>3</th>\n",
       "      <td>78fcabe3bb6a47f2aa019ae9948be43c5ebbe08a2d1cba...</td>\n",
       "      <td>Kandla Oil Terminal</td>\n",
       "      <td>121762</td>\n",
       "      <td>15</td>\n",
       "    </tr>\n",
       "    <tr>\n",
       "      <th>4</th>\n",
       "      <td>15db6ca55a3b13d3c4b135afcaf87f5d605680ac751774...</td>\n",
       "      <td>Pirpau Island</td>\n",
       "      <td>62933</td>\n",
       "      <td>12</td>\n",
       "    </tr>\n",
       "  </tbody>\n",
       "</table>\n",
       "</div>"
      ]
     },
     "metadata": {},
     "execution_count": 3
    }
   ],
   "metadata": {
    "execution": {
     "iopub.execute_input": "2021-07-14T15:55:19.589776Z",
     "iopub.status.busy": "2021-07-14T15:55:19.589153Z",
     "iopub.status.idle": "2021-07-14T15:55:19.597632Z",
     "shell.execute_reply": "2021-07-14T15:55:19.598108Z"
    }
   }
  },
  {
   "cell_type": "markdown",
   "source": [
    "That's it! You've successfully loaded data using the Vortexa SDK. Check out https://vortechsa.github.io/python-sdk/ for more examples"
   ],
   "metadata": {}
  }
 ],
 "metadata": {
  "kernelspec": {
   "display_name": "Python 3",
   "language": "python",
   "name": "python3"
  },
  "language_info": {
   "codemirror_mode": {
    "name": "ipython",
    "version": 3
   },
   "file_extension": ".py",
   "mimetype": "text/x-python",
   "name": "python",
   "nbconvert_exporter": "python",
   "pygments_lexer": "ipython3",
   "version": "3.7.6"
  }
 },
 "nbformat": 4,
 "nbformat_minor": 4
}