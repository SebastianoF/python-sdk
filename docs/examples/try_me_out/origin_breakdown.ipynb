{
 "cells": [
  {
   "cell_type": "markdown",
   "metadata": {},
   "source": [
    "### Try out the VortexaSDK"
   ]
  },
  {
   "cell_type": "markdown",
   "metadata": {},
   "source": [
    "First let's import our requirements"
   ]
  },
  {
   "cell_type": "code",
   "execution_count": null,
   "metadata": {
    "execution": {
     "iopub.execute_input": "2021-07-14T15:54:31.300472Z",
     "iopub.status.busy": "2021-07-14T15:54:31.299713Z",
     "iopub.status.idle": "2021-07-14T15:54:31.693705Z",
     "shell.execute_reply": "2021-07-14T15:54:31.694114Z"
    }
   },
   "outputs": [],
   "source": [
    "from datetime import datetime\n",
    "import vortexasdk as v"
   ]
  },
  {
   "cell_type": "markdown",
   "metadata": {},
   "source": [
    "Now let's look at the breakdown by origin terminal of cargoes departing from the port of origin over the last 5 days, in tonnes.\n"
   ]
  },
  {
   "cell_type": "markdown",
   "metadata": {},
   "source": [
    "You'll need to enter your Vortexa API key when prompted."
   ]
  },
  {
   "cell_type": "code",
   "execution_count": null,
   "metadata": {
    "execution": {
     "iopub.execute_input": "2021-07-14T15:54:31.698339Z",
     "iopub.status.busy": "2021-07-14T15:54:31.697666Z",
     "iopub.status.idle": "2021-07-14T15:54:32.228216Z",
     "shell.execute_reply": "2021-07-14T15:54:32.228892Z"
    }
   },
   "outputs": [],
   "source": [
    "df = v.OriginBreakdown()\\\n",
    "    .search(filter_activity=\"loading_end\",\n",
    "        breakdown_geography=\"terminal\",\n",
    "        breakdown_unit=\"t\",\n",
    "        breakdown_size=5,\n",
    "        filter_time_min=datetime(2019, 11, 10),\n",
    "        filter_time_max=datetime(2019, 11, 15)\n",
    "    ).to_df()"
   ]
  },
  {
   "cell_type": "code",
   "execution_count": 3,
   "metadata": {
    "execution": {
     "iopub.execute_input": "2021-07-14T15:54:32.238760Z",
     "iopub.status.busy": "2021-07-14T15:54:32.238022Z",
     "iopub.status.idle": "2021-07-14T15:54:32.246506Z",
     "shell.execute_reply": "2021-07-14T15:54:32.246935Z"
    }
   },
   "outputs": [
    {
     "data": {
      "text/html": [
       "<div>\n",
       "<style scoped>\n",
       "    .dataframe tbody tr th:only-of-type {\n",
       "        vertical-align: middle;\n",
       "    }\n",
       "\n",
       "    .dataframe tbody tr th {\n",
       "        vertical-align: top;\n",
       "    }\n",
       "\n",
       "    .dataframe thead th {\n",
       "        text-align: right;\n",
       "    }\n",
       "</style>\n",
       "<table border=\"1\" class=\"dataframe\">\n",
       "  <thead>\n",
       "    <tr style=\"text-align: right;\">\n",
       "      <th></th>\n",
       "      <th>key</th>\n",
       "      <th>label</th>\n",
       "      <th>value</th>\n",
       "      <th>count</th>\n",
       "    </tr>\n",
       "  </thead>\n",
       "  <tbody>\n",
       "    <tr>\n",
       "      <th>0</th>\n",
       "      <td>c3daea3cc9c5b3bd91c90882d42c2a418c4cf17b90ff12...</td>\n",
       "      <td>Juaymah Crude Oil Terminal</td>\n",
       "      <td>3115171</td>\n",
       "      <td>29</td>\n",
       "    </tr>\n",
       "    <tr>\n",
       "      <th>1</th>\n",
       "      <td>2aa9f0324e8effd35537bb2e4b15a629bf8c364b7a77d4...</td>\n",
       "      <td>Jamnagar Reliance Marine Terminal</td>\n",
       "      <td>486496</td>\n",
       "      <td>22</td>\n",
       "    </tr>\n",
       "    <tr>\n",
       "      <th>2</th>\n",
       "      <td>9dfa3be1b42d1f5e80361b6f442b5217b486876ad0c25e...</td>\n",
       "      <td>SabTank (PCQ-1) Al Jubail</td>\n",
       "      <td>211779</td>\n",
       "      <td>22</td>\n",
       "    </tr>\n",
       "    <tr>\n",
       "      <th>3</th>\n",
       "      <td>36948dc07540a08eb494c3f28753e87f48336c7a6a9f58...</td>\n",
       "      <td>Irving Oil - Courtenay Bay</td>\n",
       "      <td>183537</td>\n",
       "      <td>23</td>\n",
       "    </tr>\n",
       "    <tr>\n",
       "      <th>4</th>\n",
       "      <td>4813dd7209e85b128cc2fbc7c08fef08d26259550210f2...</td>\n",
       "      <td>Mailiao Industrial Park-Formosa Plastics</td>\n",
       "      <td>155300</td>\n",
       "      <td>20</td>\n",
       "    </tr>\n",
       "  </tbody>\n",
       "</table>\n",
       "</div>"
      ],
      "text/plain": [
       "                                                 key  \\\n",
       "0  c3daea3cc9c5b3bd91c90882d42c2a418c4cf17b90ff12...   \n",
       "1  2aa9f0324e8effd35537bb2e4b15a629bf8c364b7a77d4...   \n",
       "2  9dfa3be1b42d1f5e80361b6f442b5217b486876ad0c25e...   \n",
       "3  36948dc07540a08eb494c3f28753e87f48336c7a6a9f58...   \n",
       "4  4813dd7209e85b128cc2fbc7c08fef08d26259550210f2...   \n",
       "\n",
       "                                      label    value  count  \n",
       "0                Juaymah Crude Oil Terminal  3115171     29  \n",
       "1         Jamnagar Reliance Marine Terminal   486496     22  \n",
       "2                 SabTank (PCQ-1) Al Jubail   211779     22  \n",
       "3                Irving Oil - Courtenay Bay   183537     23  \n",
       "4  Mailiao Industrial Park-Formosa Plastics   155300     20  "
      ]
     },
     "execution_count": 3,
     "metadata": {},
     "output_type": "execute_result"
    }
   ],
   "source": [
    "df.head()"
   ]
  },
  {
   "cell_type": "markdown",
   "metadata": {},
   "source": [
    "That's it! You've successfully loaded data using the Vortexa SDK. Check out https://vortechsa.github.io/python-sdk/ for more examples"
   ]
  }
 ],
 "metadata": {
  "kernelspec": {
   "display_name": "Python 3",
   "language": "python",
   "name": "python3"
  },
  "language_info": {
   "codemirror_mode": {
    "name": "ipython",
    "version": 3
   },
   "file_extension": ".py",
   "mimetype": "text/x-python",
   "name": "python",
   "nbconvert_exporter": "python",
   "pygments_lexer": "ipython3",
   "version": "3.9.6"
  }
 },
 "nbformat": 4,
 "nbformat_minor": 4
}
