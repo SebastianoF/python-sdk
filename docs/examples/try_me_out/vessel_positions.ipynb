{
 "cells": [
  {
   "cell_type": "markdown",
   "metadata": {},
   "source": [
    "### Try out the VortexaSDK"
   ]
  },
  {
   "cell_type": "markdown",
   "metadata": {},
   "source": [
    "First let's import our requirements"
   ]
  },
  {
   "cell_type": "code",
   "execution_count": 1,
   "metadata": {
    "execution": {
     "iopub.execute_input": "2020-12-29T16:42:11.927414Z",
     "iopub.status.busy": "2020-12-29T16:42:11.926692Z",
     "iopub.status.idle": "2020-12-29T16:42:12.355913Z",
     "shell.execute_reply": "2020-12-29T16:42:12.356392Z"
    }
   },
   "outputs": [
    {
     "name": "stderr",
     "output_type": "stream",
     "text": [
      "/Users/hilarykitz/Library/Python/3.9/lib/python/site-packages/urllib3/__init__.py:34: NotOpenSSLWarning: urllib3 v2.0 only supports OpenSSL 1.1.1+, currently the 'ssl' module is compiled with 'LibreSSL 2.8.3'. See: https://github.com/urllib3/urllib3/issues/3020\n",
      "  warnings.warn(\n"
     ]
    }
   ],
   "source": [
    "import vortexasdk as v"
   ]
  },
  {
   "cell_type": "markdown",
   "metadata": {},
   "source": [
    "You'll need to enter your Vortexa API key when prompted."
   ]
  },
  {
   "cell_type": "code",
   "execution_count": 2,
   "metadata": {
    "execution": {
     "iopub.execute_input": "2020-12-29T16:42:12.360255Z",
     "iopub.status.busy": "2020-12-29T16:42:12.359593Z",
     "iopub.status.idle": "2020-12-29T16:42:13.517351Z",
     "shell.execute_reply": "2020-12-29T16:42:13.518050Z"
    }
   },
   "outputs": [
    {
     "ename": "AttributeError",
     "evalue": "module 'vortexasdk' has no attribute 'VesselPositions'",
     "output_type": "error",
     "traceback": [
      "\u001b[0;31m---------------------------------------------------------------------------\u001b[0m",
      "\u001b[0;31mAttributeError\u001b[0m                            Traceback (most recent call last)",
      "Cell \u001b[0;32mIn[2], line 2\u001b[0m\n\u001b[1;32m      1\u001b[0m \u001b[38;5;66;03m# Let's load some positions for vessels with class \"lng\"\u001b[39;00m\n\u001b[0;32m----> 2\u001b[0m vesselPositions \u001b[38;5;241m=\u001b[39m \u001b[43mv\u001b[49m\u001b[38;5;241;43m.\u001b[39;49m\u001b[43mVesselPositions\u001b[49m()\u001b[38;5;241m.\u001b[39msearch(vessel_class\u001b[38;5;241m=\u001b[39m\u001b[38;5;124m\"\u001b[39m\u001b[38;5;124mlng\u001b[39m\u001b[38;5;124m\"\u001b[39m)\u001b[38;5;241m.\u001b[39mto_df()\n",
      "\u001b[0;31mAttributeError\u001b[0m: module 'vortexasdk' has no attribute 'VesselPositions'"
     ]
    }
   ],
   "source": [
    "# Let's load some positions for vessels with class \"lng\"\n",
    "vesselPositions = v.VesselPositions().search(vessel_class=\"lng\").to_df()"
   ]
  },
  {
   "cell_type": "code",
   "execution_count": null,
   "metadata": {
    "execution": {
     "iopub.execute_input": "2020-12-29T16:42:13.527868Z",
     "iopub.status.busy": "2020-12-29T16:42:13.527239Z",
     "iopub.status.idle": "2020-12-29T16:42:13.537019Z",
     "shell.execute_reply": "2020-12-29T16:42:13.537470Z"
    }
   },
   "outputs": [],
   "source": [
    "vesselPositions.head()"
   ]
  },
  {
   "cell_type": "markdown",
   "metadata": {},
   "source": [
    "That's it! You've successfully loaded AIS vessel positions data using the Vortexa SDK. Check out https://vortechsa.github.io/python-sdk/ for more examples"
   ]
  }
 ],
 "metadata": {
  "kernelspec": {
   "display_name": "Python 3",
   "language": "python",
   "name": "python3"
  },
  "language_info": {
   "codemirror_mode": {
    "name": "ipython",
    "version": 3
   },
   "file_extension": ".py",
   "mimetype": "text/x-python",
   "name": "python",
   "nbconvert_exporter": "python",
   "pygments_lexer": "ipython3",
   "version": "3.9.6"
  }
 },
 "nbformat": 4,
 "nbformat_minor": 4
}
