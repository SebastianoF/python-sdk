{
 "cells": [
  {
   "cell_type": "markdown",
   "metadata": {},
   "source": [
    "# Module 6\n",
    "\n",
    "## Video 29: Working with Aggregated Cargo Movements Data\n",
    "**Python for the Energy Industry**\n",
    "\n",
    "In this lesson, we will be working with the data from the previous lesson. We will practice visualising this data. \n",
    "\n",
    "[Cargo Movements documentation](https://vortechsa.github.io/python-sdk/endpoints/cargo_movements/)\n",
    "\n",
    "To start we follow the steps to get our Cargo Movements DataFrame:"
   ]
  },
  {
   "cell_type": "code",
   "execution_count": null,
   "metadata": {
    "execution": {
     "iopub.execute_input": "2021-07-12T16:03:33.663901Z",
     "iopub.status.busy": "2021-07-12T16:03:33.663223Z",
     "iopub.status.idle": "2021-07-12T16:03:34.144127Z",
     "shell.execute_reply": "2021-07-12T16:03:34.144496Z"
    }
   },
   "outputs": [],
   "source": [
    "# initial imports\n",
    "import pandas as pd\n",
    "import numpy as np\n",
    "from datetime import datetime\n",
    "from dateutil.relativedelta import relativedelta\n",
    "import vortexasdk as v\n",
    "\n",
    "# datetimes to access last 7 weeks of data\n",
    "now = datetime.utcnow()\n",
    "seven_weeks_ago = now - relativedelta(weeks=7)"
   ]
  },
  {
   "cell_type": "code",
   "execution_count": null,
   "metadata": {
    "execution": {
     "iopub.execute_input": "2021-07-12T16:03:34.150615Z",
     "iopub.status.busy": "2021-07-12T16:03:34.150003Z",
     "iopub.status.idle": "2021-07-12T16:03:37.038354Z",
     "shell.execute_reply": "2021-07-12T16:03:37.038833Z"
    }
   },
   "outputs": [],
   "source": [
    "# Find US ID\n",
    "us = [g.id for g in v.Geographies().search('united states').to_list() if 'country' in g.layer]\n",
    "assert len(us) == 1\n",
    "\n",
    "# Find crude ID\n",
    "crude = [p.id for p in v.Products().search('crude').to_list() if p.name=='Crude']\n",
    "assert len(crude) == 1\n",
    "\n",
    "# Columns to pull out, and shortened names\n",
    "required_columns = [\"vessels.0.name\",\"vessels.0.vessel_class\",\"product.group.label\",\"product.category.label\",\"quantity\",\n",
    "    \"status\",\"events.cargo_port_load_event.0.location.port.label\",\"events.cargo_port_load_event.0.end_timestamp\",\n",
    "    \"events.cargo_port_unload_event.0.location.port.label\",\"events.cargo_port_unload_event.0.location.country.label\",\n",
    "    \"events.cargo_port_unload_event.0.end_timestamp\"]\n",
    "\n",
    "new_labels = [\"vessel_name\",\"vessel_class\",\"product_group\",\"product_category\",\"quantity\",\"status\",\n",
    "    \"loading_port\",\"loading_finish\",\"unloading_port\",\"unloading_country\",\"unloading_finish\"]\n",
    "\n",
    "relabel = dict(zip(required_columns,new_labels))\n",
    "\n",
    "cms = v.CargoMovements().search(\n",
    "        filter_activity = 'loading_end',\n",
    "        filter_origins = us,\n",
    "        exclude_destinations = us,\n",
    "        filter_products = crude,\n",
    "        filter_time_min = seven_weeks_ago,\n",
    "        filter_time_max = now,\n",
    "        cm_unit = 'b'\n",
    "    ).to_df(columns=required_columns).rename(relabel,axis=1)\n",
    "\n",
    "cms['loading_week'] = cms['loading_finish'].dt.isocalendar().week"
   ]
  },
  {
   "cell_type": "markdown",
   "metadata": {},
   "source": [
    "Let's start by making a bar chart of weekly exports:"
   ]
  },
  {
   "cell_type": "code",
   "execution_count": null,
   "metadata": {
    "execution": {
     "iopub.execute_input": "2021-07-12T16:03:37.046300Z",
     "iopub.status.busy": "2021-07-12T16:03:37.045720Z",
     "iopub.status.idle": "2021-07-12T16:03:37.381388Z",
     "shell.execute_reply": "2021-07-12T16:03:37.381731Z"
    }
   },
   "outputs": [],
   "source": [
    "weekly_quantity = cms.groupby('loading_week').sum()\n",
    "\n",
    "ax = weekly_quantity.plot.bar(y='quantity',legend=False,figsize=(8,6))\n",
    "ax.set_xlabel('Week')\n",
    "ax.set_ylabel('US exports (bbl)')"
   ]
  },
  {
   "cell_type": "markdown",
   "metadata": {},
   "source": [
    "By assigning the plot to the variable `ax` we can make some further tweaks, like setting the x and y axis labels.\n",
    "\n",
    "What if we wanted to represent the breakdown by product category? These can be plotted with bars side-by-side:"
   ]
  },
  {
   "cell_type": "code",
   "execution_count": null,
   "metadata": {
    "execution": {
     "iopub.execute_input": "2021-07-12T16:03:37.387420Z",
     "iopub.status.busy": "2021-07-12T16:03:37.386907Z",
     "iopub.status.idle": "2021-07-12T16:03:37.593681Z",
     "shell.execute_reply": "2021-07-12T16:03:37.594018Z"
    }
   },
   "outputs": [],
   "source": [
    "quantity_by_category = cms.groupby(by = ['loading_week','product_category']).sum().reset_index()\n",
    "quantity_by_category = quantity_by_category.pivot(index = 'loading_week',columns = 'product_category',values = 'quantity')\n",
    "quantity_by_category = quantity_by_category.fillna(0)\n",
    "\n",
    "ax = quantity_by_category.plot.bar(figsize=(8,6))\n",
    "ax.set_xlabel('Week')\n",
    "ax.set_ylabel('US exports (bbl)')"
   ]
  },
  {
   "cell_type": "markdown",
   "metadata": {},
   "source": [
    "As there are many products with zero exports, this leaves a lot of holes in the plot. A better way to represent this is 'stacked':"
   ]
  },
  {
   "cell_type": "code",
   "execution_count": null,
   "metadata": {
    "execution": {
     "iopub.execute_input": "2021-07-12T16:03:37.636839Z",
     "iopub.status.busy": "2021-07-12T16:03:37.599196Z",
     "iopub.status.idle": "2021-07-12T16:03:37.800697Z",
     "shell.execute_reply": "2021-07-12T16:03:37.801104Z"
    }
   },
   "outputs": [],
   "source": [
    "ax = quantity_by_category.plot.bar(stacked=True,figsize=(8,6))\n",
    "ax.set_xlabel('Week')\n",
    "ax.set_ylabel('US exports (bbl)')"
   ]
  },
  {
   "cell_type": "markdown",
   "metadata": {},
   "source": [
    "What about visualising the share of exports to destination countries? A pie chart would be suitable for this."
   ]
  },
  {
   "cell_type": "code",
   "execution_count": null,
   "metadata": {
    "execution": {
     "iopub.execute_input": "2021-07-12T16:03:37.837693Z",
     "iopub.status.busy": "2021-07-12T16:03:37.807401Z",
     "iopub.status.idle": "2021-07-12T16:03:37.947320Z",
     "shell.execute_reply": "2021-07-12T16:03:37.947706Z"
    }
   },
   "outputs": [],
   "source": [
    "quantity_by_destination = cms.groupby('unloading_country').sum()[['quantity']]\n",
    "quantity_by_destination.sort_values(by='quantity',ascending = False, inplace=True)\n",
    "\n",
    "top_destination_countries = quantity_by_destination.head(10)\n",
    "rest = pd.DataFrame(index = ['Other'], columns = ['quantity'])\n",
    "rest.loc['Other'] = quantity_by_destination[10:].sum().values\n",
    "top_destination_countries = pd.concat([top_destination_countries, rest]).astype(int)\n",
    "top_destination_countries['%'] = round(top_destination_countries['quantity']*100 / top_destination_countries['quantity'].sum(),2)\n",
    "\n",
    "top_destination_countries.plot.pie(y='%',figsize=(6,6),legend=False,autopct='%.0f')"
   ]
  },
  {
   "cell_type": "markdown",
   "metadata": {},
   "source": [
    "Another type of plot we can make is the histogram, which shows the distribution of values in a column. Here's the distribution of quantity:"
   ]
  },
  {
   "cell_type": "code",
   "execution_count": null,
   "metadata": {
    "execution": {
     "iopub.execute_input": "2021-07-12T16:03:37.952158Z",
     "iopub.status.busy": "2021-07-12T16:03:37.951055Z",
     "iopub.status.idle": "2021-07-12T16:03:38.108540Z",
     "shell.execute_reply": "2021-07-12T16:03:38.108937Z"
    }
   },
   "outputs": [],
   "source": [
    "cms.plot.hist(y='quantity',bins=30)"
   ]
  },
  {
   "cell_type": "markdown",
   "metadata": {},
   "source": [
    "Do we think this distribution is different for different products? We can test by pivoting."
   ]
  },
  {
   "cell_type": "code",
   "execution_count": null,
   "metadata": {
    "execution": {
     "iopub.execute_input": "2021-07-12T16:03:38.114469Z",
     "iopub.status.busy": "2021-07-12T16:03:38.113948Z",
     "iopub.status.idle": "2021-07-12T16:03:38.371305Z",
     "shell.execute_reply": "2021-07-12T16:03:38.371886Z"
    }
   },
   "outputs": [],
   "source": [
    "cms_product = cms.pivot(columns = 'product_category',values = 'quantity')[['Light-Sour','Light-Sweet','Medium-Sour']]\n",
    "cms_product.plot.hist(bins=30)"
   ]
  },
  {
   "cell_type": "markdown",
   "metadata": {},
   "source": [
    "### Exercise\n",
    "\n",
    "Instead of US crude exports, pick a different dataset to examine. Say, Saudi Arabian exports, or Chinese imports. Follow the steps of the last 2 lessons to aggregate and visualise different aspects of this data."
   ]
  },
  {
   "cell_type": "code",
   "execution_count": null,
   "metadata": {},
   "outputs": [],
   "source": []
  }
 ],
 "metadata": {
  "interpreter": {
   "hash": "d0a480ee27f8d5367d468be4cf8e618aff62fff37975ed624adc4f23b43958cc"
  },
  "kernelspec": {
   "display_name": "Python 3.7.6 64-bit ('base': conda)",
   "name": "python3"
  },
  "language_info": {
   "codemirror_mode": {
    "name": "ipython",
    "version": 3
   },
   "file_extension": ".py",
   "mimetype": "text/x-python",
   "name": "python",
   "nbconvert_exporter": "python",
   "pygments_lexer": "ipython3",
   "version": "3.7.6"
  }
 },
 "nbformat": 4,
 "nbformat_minor": 4
}
