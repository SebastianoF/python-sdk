{
 "cells": [
  {
   "cell_type": "markdown",
   "metadata": {},
   "source": [
    "# Module 6\n",
    "\n",
    "## Video 27: Multiple Vessels in a Movement\n",
    "**Python for the Energy Industry**\n",
    "\n",
    "Sometimes, a Cargo Movement will contain information on multiple vessels. There are two reasons this might happen:\n",
    "- The cargo is loaded to, or unloaded from, a floating storage vessel\n",
    "- A ship to ship transfer (STS) occurs\n",
    "\n",
    "Let's find some example Cargo Movements where this is the case.\n",
    "\n",
    "[Cargo Movements documentation](https://vortechsa.github.io/python-sdk/endpoints/cargo_movements/)"
   ]
  },
  {
   "cell_type": "code",
   "execution_count": 1,
   "metadata": {},
   "outputs": [],
   "source": [
    "from datetime import datetime\n",
    "from dateutil.relativedelta import relativedelta\n",
    "import pandas as pd\n",
    "import vortexasdk as v\n",
    "now = datetime.utcnow()"
   ]
  },
  {
   "cell_type": "markdown",
   "metadata": {},
   "source": [
    "We start as before with a simple query:"
   ]
  },
  {
   "cell_type": "code",
   "execution_count": 2,
   "metadata": {},
   "outputs": [
    {
     "name": "stdout",
     "output_type": "stream",
     "text": [
      "2020-12-10 19:14:42,421 vortexasdk.client — WARNING — You are using vortexasdk version 0.26.0, however version 0.27.1 is available.\n",
      "You should consider upgrading via the 'pip install vortexasdk --upgrade' command.\n"
     ]
    },
    {
     "name": "stderr",
     "output_type": "stream",
     "text": [
      "Loading from API: 1000it [00:01, 770.21it/s]             "
     ]
    },
    {
     "name": "stdout",
     "output_type": "stream",
     "text": [
      "782\n"
     ]
    },
    {
     "name": "stderr",
     "output_type": "stream",
     "text": [
      "\n"
     ]
    }
   ],
   "source": [
    "cm_query = v.CargoMovements().search(\n",
    "    filter_activity=\"loading_state\",\n",
    "    filter_time_min=now,\n",
    "    filter_time_max=now)\n",
    "\n",
    "print(len(cm_query))"
   ]
  },
  {
   "cell_type": "markdown",
   "metadata": {},
   "source": [
    "We can find Cargo Movements with STS events by getting those there multiple vessels are detailed:"
   ]
  },
  {
   "cell_type": "code",
   "execution_count": 3,
   "metadata": {},
   "outputs": [
    {
     "name": "stdout",
     "output_type": "stream",
     "text": [
      "31\n"
     ]
    }
   ],
   "source": [
    "multi_vessel = [q for q in cm_query if len(q['vessels']) > 1]\n",
    "print(len(multi_vessel))"
   ]
  },
  {
   "cell_type": "markdown",
   "metadata": {
    "scrolled": true
   },
   "source": [
    "Let's take a look at the types of event happening in each of these:"
   ]
  },
  {
   "cell_type": "code",
   "execution_count": 4,
   "metadata": {},
   "outputs": [
    {
     "name": "stdout",
     "output_type": "stream",
     "text": [
      "['cargo_port_load_event', 'cargo_port_unload_event', 'cargo_sts_event']\n",
      "['cargo_port_load_event', 'cargo_port_unload_event', 'cargo_sts_event']\n",
      "['cargo_port_load_event', 'cargo_fso_unload_event']\n",
      "['cargo_port_load_event', 'cargo_port_unload_event', 'cargo_sts_event', 'cargo_storage_event']\n",
      "['cargo_port_load_event', 'cargo_fso_unload_event']\n",
      "['cargo_port_load_event', 'cargo_port_unload_event', 'cargo_sts_event']\n",
      "['cargo_port_load_event', 'cargo_port_unload_event', 'cargo_sts_event']\n",
      "['cargo_port_load_event', 'cargo_port_unload_event', 'cargo_sts_event']\n",
      "['cargo_port_load_event', 'cargo_port_unload_event', 'cargo_sts_event', 'cargo_storage_event']\n",
      "['cargo_port_load_event', 'cargo_sts_event']\n",
      "['cargo_port_load_event', 'cargo_port_unload_event', 'cargo_sts_event']\n",
      "['cargo_port_load_event', 'cargo_sts_event', 'cargo_storage_event']\n",
      "['cargo_port_load_event', 'cargo_port_unload_event', 'cargo_sts_event']\n",
      "['cargo_port_load_event', 'cargo_port_unload_event', 'cargo_sts_event']\n",
      "['cargo_port_load_event', 'cargo_port_unload_event', 'cargo_sts_event']\n",
      "['cargo_port_load_event', 'cargo_port_unload_event', 'cargo_sts_event']\n",
      "['cargo_port_load_event', 'cargo_sts_event', 'cargo_storage_event']\n",
      "['cargo_port_load_event', 'cargo_fso_unload_event']\n",
      "['cargo_port_load_event', 'cargo_port_unload_event', 'cargo_sts_event']\n",
      "['cargo_port_load_event', 'cargo_fso_unload_event']\n",
      "['cargo_port_load_event', 'cargo_port_unload_event', 'cargo_sts_event']\n",
      "['cargo_port_load_event', 'cargo_fso_unload_event']\n",
      "['cargo_port_load_event', 'cargo_port_unload_event', 'cargo_sts_event']\n",
      "['cargo_port_load_event', 'cargo_port_unload_event', 'cargo_sts_event', 'cargo_sts_event']\n",
      "['cargo_port_load_event', 'cargo_port_unload_event', 'cargo_sts_event']\n",
      "['cargo_port_load_event', 'cargo_port_unload_event', 'cargo_sts_event']\n",
      "['cargo_port_load_event', 'cargo_sts_event', 'cargo_storage_event', 'cargo_storage_event']\n",
      "['cargo_port_load_event', 'cargo_port_unload_event', 'cargo_sts_event']\n",
      "['cargo_port_load_event', 'cargo_fso_unload_event']\n",
      "['cargo_port_unload_event', 'cargo_fso_load_event']\n",
      "['cargo_port_load_event', 'cargo_port_unload_event', 'cargo_sts_event']\n"
     ]
    }
   ],
   "source": [
    "for cm in multi_vessel:\n",
    "    event_types = [e['event_type'] for e in cm['events']]\n",
    "    print(event_types)"
   ]
  },
  {
   "cell_type": "markdown",
   "metadata": {},
   "source": [
    "## STS Events\n",
    "\n",
    "We'll look in more detail at those Cargo Movements with STS events."
   ]
  },
  {
   "cell_type": "code",
   "execution_count": 5,
   "metadata": {},
   "outputs": [
    {
     "name": "stdout",
     "output_type": "stream",
     "text": [
      "24\n"
     ]
    }
   ],
   "source": [
    "sts_movements = [cm for cm in multi_vessel if 'cargo_sts_event' in [e['event_type'] for e in cm['events']]]\n",
    "print(len(sts_movements))"
   ]
  },
  {
   "cell_type": "markdown",
   "metadata": {},
   "source": [
    "Let's take a look at the vessels in one of them:"
   ]
  },
  {
   "cell_type": "code",
   "execution_count": 6,
   "metadata": {},
   "outputs": [
    {
     "data": {
      "text/plain": [
       "{'id': 'accd8fb1c8273f0005615e8906d0377d1f411da72cd7299d1545a8635bdf267c',\n",
       " 'mmsi': 248108000,\n",
       " 'imo': 9773478,\n",
       " 'name': 'MARFA',\n",
       " 'dwt': 159513,\n",
       " 'cubic_capacity': 167100,\n",
       " 'vessel_class': 'suezmax',\n",
       " 'corporate_entities': [{'id': '018fca8c06e4ab32a0250c1f888023903bf4debdf4b94c592c07483b50b821cd',\n",
       "   'label': 'CARDIFF MARINE',\n",
       "   'layer': 'commercial_owner',\n",
       "   'probability': 1,\n",
       "   'source': 'external'}],\n",
       " 'start_timestamp': '2020-10-31T14:49:25+0000',\n",
       " 'end_timestamp': '2020-11-13T18:17:23+0000',\n",
       " 'fixture_fulfilled': False,\n",
       " 'voyage_id': '3765abac1a9690ccf470af2460b464146580e7f303c71ebdcfac7e0d528b819b',\n",
       " 'tags': [],\n",
       " 'status': 'vessel_status_laden_known',\n",
       " 'year': 2017,\n",
       " 'scrubber': [{'tag': 'vessel_scrubber_tag',\n",
       "   'scrubber': 'da4495540c2cee36',\n",
       "   'planned': False}],\n",
       " 'flag': [{'tag': 'vessel_flag_tag',\n",
       "   'flag': 'MT',\n",
       "   'flag_country': '80dd61da7ce1edccaa43d2d60207c482e397bdd7f7efe7ad2a222d35dde2bc8c'}]}"
      ]
     },
     "execution_count": 6,
     "metadata": {},
     "output_type": "execute_result"
    }
   ],
   "source": [
    "sts_movements[0]['vessels'][0]"
   ]
  },
  {
   "cell_type": "code",
   "execution_count": 7,
   "metadata": {},
   "outputs": [
    {
     "data": {
      "text/plain": [
       "{'id': '28d362261f980497d701e30991fdb9ed72b62335932666039b900ef16bef6ecc',\n",
       " 'mmsi': 563553000,\n",
       " 'imo': 9253064,\n",
       " 'name': 'EAGLE TUCSON',\n",
       " 'dwt': 107123,\n",
       " 'cubic_capacity': 120330,\n",
       " 'vessel_class': 'aframax',\n",
       " 'corporate_entities': [{'id': 'b63335a112fa31c048322c1556cfb336ef6268d0a6d3fe48319e0b6f99c3e377',\n",
       "   'label': 'AET',\n",
       "   'layer': 'commercial_owner',\n",
       "   'probability': 1,\n",
       "   'source': 'external'}],\n",
       " 'start_timestamp': '2020-11-12T22:54:05+0000',\n",
       " 'end_timestamp': '2020-11-19T02:59:33+0000',\n",
       " 'voyage_id': '35b62c9a624a5b802fdb8e8f62b289049095a080b3bc8cee1c4b35184bd5a3dc',\n",
       " 'tags': [],\n",
       " 'status': 'vessel_status_laden_known',\n",
       " 'year': 2003,\n",
       " 'scrubber': [],\n",
       " 'flag': [{'tag': 'vessel_flag_tag',\n",
       "   'flag': 'SG',\n",
       "   'flag_country': '7fed43c640957555ddac588be64822538078409a0acdaf22126623203ef9954a'}]}"
      ]
     },
     "execution_count": 7,
     "metadata": {},
     "output_type": "execute_result"
    }
   ],
   "source": [
    "sts_movements[0]['vessels'][1]"
   ]
  },
  {
   "cell_type": "markdown",
   "metadata": {},
   "source": [
    " And also the STS event:"
   ]
  },
  {
   "cell_type": "code",
   "execution_count": 8,
   "metadata": {},
   "outputs": [
    {
     "data": {
      "text/plain": [
       "{'event_type': 'cargo_sts_event',\n",
       " 'from_vessel_id': 'accd8fb1c8273f0005615e8906d0377d1f411da72cd7299d1545a8635bdf267c',\n",
       " 'from_vessel_name': 'MARFA',\n",
       " 'to_vessel_id': '28d362261f980497d701e30991fdb9ed72b62335932666039b900ef16bef6ecc',\n",
       " 'to_vessel_name': 'EAGLE TUCSON',\n",
       " 'location': [{'id': '2d92cc08f22524dba59f6a7e340f132a9da0ce9573cca968eb8e3752ef17a963',\n",
       "   'layer': 'country',\n",
       "   'label': 'United States',\n",
       "   'source': 'model',\n",
       "   'probability': 0.9840425},\n",
       "  {'id': 'ae06d7e47d6ca2a5bcd7625b8ad402d39e5e92fcc740157dc3301a6d2a6bb207',\n",
       "   'layer': 'region',\n",
       "   'label': 'North America',\n",
       "   'source': 'model',\n",
       "   'probability': 0.9840425},\n",
       "  {'id': '3f0a65d97728cdd1aaa5830d2de018d4378f2c453a89bc53c3c7009d8c02355a',\n",
       "   'layer': 'shipping_region',\n",
       "   'label': 'Gulf of Mexico',\n",
       "   'source': 'model',\n",
       "   'probability': 0.9840425},\n",
       "  {'id': '4e79eb8e84d26f5c3c0006283bc1aa52c170b58d667be9848e136afea91a57e9',\n",
       "   'layer': 'shipping_region',\n",
       "   'label': 'PADD 3 (US Gulf Coast)',\n",
       "   'source': 'model',\n",
       "   'probability': 0.9840425},\n",
       "  {'id': 'f3828f390df90583a5e5c1cc1f70870342b43a95c2d58f5df85a64e8892cc7b9',\n",
       "   'layer': 'shipping_region',\n",
       "   'label': 'USAC/USGC',\n",
       "   'source': 'model',\n",
       "   'probability': 0.9840425},\n",
       "  {'id': '956b03529510459d298c4e537d23c6fbb22ffd8414af933b3475310c661f337a',\n",
       "   'layer': 'trading_block',\n",
       "   'label': 'Non-OPEC',\n",
       "   'source': 'model',\n",
       "   'probability': 0.9840425},\n",
       "  {'id': '4e79eb8e84d26f5c3c0006283bc1aa52c170b58d667be9848e136afea91a57e9',\n",
       "   'layer': 'trading_region',\n",
       "   'label': 'PADD 3 (US Gulf Coast)',\n",
       "   'source': 'model',\n",
       "   'probability': 0.9840425},\n",
       "  {'id': '3663536da3c85053556bc0d1a803481aa137a854da8bc835f614e84e810b1bb7',\n",
       "   'layer': 'trading_subregion',\n",
       "   'label': 'Texas',\n",
       "   'source': 'model',\n",
       "   'probability': 0.9840425},\n",
       "  {'id': 'b404a7c4c7da11d44f2eab42b8daecf69ce40a2916220c494271a8dca9a088b6',\n",
       "   'layer': 'sts_zone',\n",
       "   'label': 'Southtex Lightering/STS Zone [US]',\n",
       "   'source': 'model',\n",
       "   'probability': 0.9840425}],\n",
       " 'pos': [-94.71589163980916, 28.563392161212914],\n",
       " 'start_timestamp': '2020-11-12T22:54:05+0000',\n",
       " 'end_timestamp': '2020-11-13T18:17:23+0000'}"
      ]
     },
     "execution_count": 8,
     "metadata": {},
     "output_type": "execute_result"
    }
   ],
   "source": [
    "sts_movements[0]['events'][2]"
   ]
  },
  {
   "cell_type": "markdown",
   "metadata": {},
   "source": [
    "Let's view the data on movements with STS transfers in a DataFrame. The easiest way to do this is to convert our initial search into a DataFrame using the `to_df()` function, and then drop all movements with no STS event."
   ]
  },
  {
   "cell_type": "code",
   "execution_count": 9,
   "metadata": {},
   "outputs": [],
   "source": [
    "required_columns = [\"vessels.0.name\",\"vessels.0.vessel_class\",\"vessels.1.name\",\"vessels.1.vessel_class\",\"product.group.label\",\"quantity\",\n",
    "                    \"events.cargo_port_load_event.0.location.port.label\",\"events.cargo_sts_event.0.location.sts_zone.label\",\n",
    "                    \"events.cargo_port_unload_event.0.location.port.label\"]\n",
    "\n",
    "new_labels = [\"vessel0\",\"vessel0_class\",\"vessel1\",\"vessel1_class\",\"product_group\",\"quantity\",\"loading_port\",\"sts_location\",\"unloading_port\"]\n",
    "\n",
    "relabel = dict(zip(required_columns,new_labels))"
   ]
  },
  {
   "cell_type": "code",
   "execution_count": 10,
   "metadata": {},
   "outputs": [],
   "source": [
    "cm_df = cm_query.to_df(columns=required_columns).rename(relabel,axis=1)"
   ]
  },
  {
   "cell_type": "code",
   "execution_count": 11,
   "metadata": {},
   "outputs": [],
   "source": [
    "cm_df_multi = cm_df.dropna(subset=['loading_port','sts_location','unloading_port'])"
   ]
  },
  {
   "cell_type": "code",
   "execution_count": 12,
   "metadata": {},
   "outputs": [
    {
     "data": {
      "text/html": [
       "<div>\n",
       "<style scoped>\n",
       "    .dataframe tbody tr th:only-of-type {\n",
       "        vertical-align: middle;\n",
       "    }\n",
       "\n",
       "    .dataframe tbody tr th {\n",
       "        vertical-align: top;\n",
       "    }\n",
       "\n",
       "    .dataframe thead th {\n",
       "        text-align: right;\n",
       "    }\n",
       "</style>\n",
       "<table border=\"1\" class=\"dataframe\">\n",
       "  <thead>\n",
       "    <tr style=\"text-align: right;\">\n",
       "      <th></th>\n",
       "      <th>vessel0</th>\n",
       "      <th>vessel0_class</th>\n",
       "      <th>vessel1</th>\n",
       "      <th>vessel1_class</th>\n",
       "      <th>product_group</th>\n",
       "      <th>quantity</th>\n",
       "      <th>loading_port</th>\n",
       "      <th>sts_location</th>\n",
       "      <th>unloading_port</th>\n",
       "    </tr>\n",
       "  </thead>\n",
       "  <tbody>\n",
       "    <tr>\n",
       "      <th>54</th>\n",
       "      <td>MARFA</td>\n",
       "      <td>suezmax</td>\n",
       "      <td>EAGLE TUCSON</td>\n",
       "      <td>aframax</td>\n",
       "      <td>Crude/Condensates</td>\n",
       "      <td>629149</td>\n",
       "      <td>Liza Field [GY]</td>\n",
       "      <td>Southtex Lightering/STS Zone [US]</td>\n",
       "      <td>Houston, TX [US]</td>\n",
       "    </tr>\n",
       "    <tr>\n",
       "      <th>96</th>\n",
       "      <td>DHONOUSSA</td>\n",
       "      <td>panamax</td>\n",
       "      <td>NS AFRICA</td>\n",
       "      <td>aframax</td>\n",
       "      <td>Dirty Petroleum Products</td>\n",
       "      <td>174409</td>\n",
       "      <td>Suez [EG]</td>\n",
       "      <td>Malta STS [MT]</td>\n",
       "      <td>Pascagoula, MS [US]</td>\n",
       "    </tr>\n",
       "    <tr>\n",
       "      <th>158</th>\n",
       "      <td>MARFA</td>\n",
       "      <td>suezmax</td>\n",
       "      <td>EAGLE TURIN</td>\n",
       "      <td>aframax</td>\n",
       "      <td>Crude/Condensates</td>\n",
       "      <td>472842</td>\n",
       "      <td>Liza Field [GY]</td>\n",
       "      <td>Southtex Lightering/STS Zone [US]</td>\n",
       "      <td>Port Allen, LA [US]</td>\n",
       "    </tr>\n",
       "    <tr>\n",
       "      <th>246</th>\n",
       "      <td>LOVINA</td>\n",
       "      <td>aframax</td>\n",
       "      <td>NISSOS RHENIA</td>\n",
       "      <td>vlcc_plus</td>\n",
       "      <td>Crude/Condensates</td>\n",
       "      <td>233144</td>\n",
       "      <td>Marsa Bashayer [SD]</td>\n",
       "      <td>Fujairah STS [AE]</td>\n",
       "      <td>Singapore [SG]</td>\n",
       "    </tr>\n",
       "    <tr>\n",
       "      <th>321</th>\n",
       "      <td>EAGLE BLANE</td>\n",
       "      <td>suezmax</td>\n",
       "      <td>APOLLONAS</td>\n",
       "      <td>vlcc_plus</td>\n",
       "      <td>Crude/Condensates</td>\n",
       "      <td>535941</td>\n",
       "      <td>Heidrun Field [NO]</td>\n",
       "      <td>Scapa Flow STS [GB]</td>\n",
       "      <td>Qingdao [CN]</td>\n",
       "    </tr>\n",
       "    <tr>\n",
       "      <th>331</th>\n",
       "      <td>SEAVIOLET</td>\n",
       "      <td>suezmax</td>\n",
       "      <td>OCEANA RIVER</td>\n",
       "      <td>aframax</td>\n",
       "      <td>Crude/Condensates</td>\n",
       "      <td>582806</td>\n",
       "      <td>Arzew [DZ]</td>\n",
       "      <td>Linggi STS [MY]</td>\n",
       "      <td>Singapore [SG]</td>\n",
       "    </tr>\n",
       "    <tr>\n",
       "      <th>448</th>\n",
       "      <td>RIO 2016</td>\n",
       "      <td>suezmax</td>\n",
       "      <td>CAP PHILIPPE</td>\n",
       "      <td>suezmax</td>\n",
       "      <td>Crude/Condensates</td>\n",
       "      <td>1013871</td>\n",
       "      <td>Sururu-Berbigao Field [BR]</td>\n",
       "      <td>Acu Petroleo T1/T-OIL (Prumo, Oiltanking)</td>\n",
       "      <td>Sines [PT]</td>\n",
       "    </tr>\n",
       "    <tr>\n",
       "      <th>482</th>\n",
       "      <td>VITIS</td>\n",
       "      <td>tiny_tanker</td>\n",
       "      <td>CHEMSTAR STELLAR</td>\n",
       "      <td>general_purpose</td>\n",
       "      <td>Clean Petroleum Products</td>\n",
       "      <td>24398</td>\n",
       "      <td>Palermo [IT]</td>\n",
       "      <td>Suape STS [BR]</td>\n",
       "      <td>Yenikoy-Autoport [TR]</td>\n",
       "    </tr>\n",
       "    <tr>\n",
       "      <th>572</th>\n",
       "      <td>LOVINA</td>\n",
       "      <td>aframax</td>\n",
       "      <td>NISSOS RHENIA</td>\n",
       "      <td>vlcc_plus</td>\n",
       "      <td>Crude/Condensates</td>\n",
       "      <td>436480</td>\n",
       "      <td>Marsa Bashayer [SD]</td>\n",
       "      <td>Fujairah STS [AE]</td>\n",
       "      <td>Singapore [SG]</td>\n",
       "    </tr>\n",
       "    <tr>\n",
       "      <th>619</th>\n",
       "      <td>FRONT SIRIUS</td>\n",
       "      <td>aframax</td>\n",
       "      <td>STI KINGSWAY</td>\n",
       "      <td>aframax</td>\n",
       "      <td>Crude/Condensates</td>\n",
       "      <td>575120</td>\n",
       "      <td>Oguendjo Terminal [GA]</td>\n",
       "      <td>Sikka Anchorage STS</td>\n",
       "      <td>Botany Bay Nsw [AU]</td>\n",
       "    </tr>\n",
       "    <tr>\n",
       "      <th>666</th>\n",
       "      <td>SEAVIOLET</td>\n",
       "      <td>suezmax</td>\n",
       "      <td>NEW SPRING</td>\n",
       "      <td>vlcc_plus</td>\n",
       "      <td>Crude/Condensates</td>\n",
       "      <td>52790</td>\n",
       "      <td>Arzew [DZ]</td>\n",
       "      <td>Linggi STS [MY]</td>\n",
       "      <td>Singapore [SG]</td>\n",
       "    </tr>\n",
       "    <tr>\n",
       "      <th>714</th>\n",
       "      <td>STEALTH HARALAMBOS</td>\n",
       "      <td>aframax</td>\n",
       "      <td>NECTAR SEA</td>\n",
       "      <td>aframax</td>\n",
       "      <td>Dirty Petroleum Products</td>\n",
       "      <td>95454</td>\n",
       "      <td>Rotterdam [NL]</td>\n",
       "      <td>Suez Gulf STS [EG]</td>\n",
       "      <td>Ain Sukhna [EG]</td>\n",
       "    </tr>\n",
       "    <tr>\n",
       "      <th>731</th>\n",
       "      <td>LAURENTIA DESGAGNES</td>\n",
       "      <td>panamax</td>\n",
       "      <td>KERALA</td>\n",
       "      <td>panamax</td>\n",
       "      <td>Dirty Petroleum Products</td>\n",
       "      <td>237691</td>\n",
       "      <td>Quebec [CA]</td>\n",
       "      <td>SW Pass STS [US]</td>\n",
       "      <td>Melones Oil Terminal [PA]</td>\n",
       "    </tr>\n",
       "    <tr>\n",
       "      <th>771</th>\n",
       "      <td>V.L.20</td>\n",
       "      <td>tiny_tanker</td>\n",
       "      <td>SMOOTH SEA 18</td>\n",
       "      <td>tiny_tanker</td>\n",
       "      <td>Clean Petroleum Products</td>\n",
       "      <td>5151</td>\n",
       "      <td>Sriracha [TH]</td>\n",
       "      <td>Ko Sichang STS [TH]</td>\n",
       "      <td>Bangkok [TH]</td>\n",
       "    </tr>\n",
       "  </tbody>\n",
       "</table>\n",
       "</div>"
      ],
      "text/plain": [
       "                 vessel0 vessel0_class           vessel1    vessel1_class  \\\n",
       "54                 MARFA       suezmax      EAGLE TUCSON          aframax   \n",
       "96             DHONOUSSA       panamax         NS AFRICA          aframax   \n",
       "158                MARFA       suezmax       EAGLE TURIN          aframax   \n",
       "246               LOVINA       aframax     NISSOS RHENIA        vlcc_plus   \n",
       "321          EAGLE BLANE       suezmax         APOLLONAS        vlcc_plus   \n",
       "331            SEAVIOLET       suezmax      OCEANA RIVER          aframax   \n",
       "448             RIO 2016       suezmax      CAP PHILIPPE          suezmax   \n",
       "482                VITIS   tiny_tanker  CHEMSTAR STELLAR  general_purpose   \n",
       "572               LOVINA       aframax     NISSOS RHENIA        vlcc_plus   \n",
       "619         FRONT SIRIUS       aframax      STI KINGSWAY          aframax   \n",
       "666            SEAVIOLET       suezmax        NEW SPRING        vlcc_plus   \n",
       "714   STEALTH HARALAMBOS       aframax        NECTAR SEA          aframax   \n",
       "731  LAURENTIA DESGAGNES       panamax            KERALA          panamax   \n",
       "771               V.L.20   tiny_tanker     SMOOTH SEA 18      tiny_tanker   \n",
       "\n",
       "                product_group  quantity                loading_port  \\\n",
       "54          Crude/Condensates    629149             Liza Field [GY]   \n",
       "96   Dirty Petroleum Products    174409                   Suez [EG]   \n",
       "158         Crude/Condensates    472842             Liza Field [GY]   \n",
       "246         Crude/Condensates    233144         Marsa Bashayer [SD]   \n",
       "321         Crude/Condensates    535941          Heidrun Field [NO]   \n",
       "331         Crude/Condensates    582806                  Arzew [DZ]   \n",
       "448         Crude/Condensates   1013871  Sururu-Berbigao Field [BR]   \n",
       "482  Clean Petroleum Products     24398                Palermo [IT]   \n",
       "572         Crude/Condensates    436480         Marsa Bashayer [SD]   \n",
       "619         Crude/Condensates    575120      Oguendjo Terminal [GA]   \n",
       "666         Crude/Condensates     52790                  Arzew [DZ]   \n",
       "714  Dirty Petroleum Products     95454              Rotterdam [NL]   \n",
       "731  Dirty Petroleum Products    237691                 Quebec [CA]   \n",
       "771  Clean Petroleum Products      5151               Sriracha [TH]   \n",
       "\n",
       "                                  sts_location             unloading_port  \n",
       "54           Southtex Lightering/STS Zone [US]           Houston, TX [US]  \n",
       "96                              Malta STS [MT]        Pascagoula, MS [US]  \n",
       "158          Southtex Lightering/STS Zone [US]        Port Allen, LA [US]  \n",
       "246                          Fujairah STS [AE]             Singapore [SG]  \n",
       "321                        Scapa Flow STS [GB]               Qingdao [CN]  \n",
       "331                            Linggi STS [MY]             Singapore [SG]  \n",
       "448  Acu Petroleo T1/T-OIL (Prumo, Oiltanking)                 Sines [PT]  \n",
       "482                             Suape STS [BR]      Yenikoy-Autoport [TR]  \n",
       "572                          Fujairah STS [AE]             Singapore [SG]  \n",
       "619                        Sikka Anchorage STS        Botany Bay Nsw [AU]  \n",
       "666                            Linggi STS [MY]             Singapore [SG]  \n",
       "714                         Suez Gulf STS [EG]            Ain Sukhna [EG]  \n",
       "731                           SW Pass STS [US]  Melones Oil Terminal [PA]  \n",
       "771                        Ko Sichang STS [TH]               Bangkok [TH]  "
      ]
     },
     "execution_count": 12,
     "metadata": {},
     "output_type": "execute_result"
    }
   ],
   "source": [
    "cm_df_multi"
   ]
  },
  {
   "cell_type": "markdown",
   "metadata": {},
   "source": [
    "### Exercise\n",
    "\n",
    "Expand the range of the Cargo Movements - say to a ~2 week period. Can you find any movements involving 3 or more vessels? If so, isolate and have a look at these."
   ]
  },
  {
   "cell_type": "code",
   "execution_count": null,
   "metadata": {},
   "outputs": [],
   "source": []
  }
 ],
 "metadata": {
  "kernelspec": {
   "display_name": "Python 3",
   "language": "python",
   "name": "python3"
  },
  "language_info": {
   "codemirror_mode": {
    "name": "ipython",
    "version": 3
   },
   "file_extension": ".py",
   "mimetype": "text/x-python",
   "name": "python",
   "nbconvert_exporter": "python",
   "pygments_lexer": "ipython3",
   "version": "3.7.9"
  }
 },
 "nbformat": 4,
 "nbformat_minor": 4
}
