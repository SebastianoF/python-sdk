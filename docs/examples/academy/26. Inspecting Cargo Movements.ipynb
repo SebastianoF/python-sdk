{
 "cells": [
  {
   "cell_type": "markdown",
   "metadata": {},
   "source": [
    "# Module 6\n",
    "\n",
    "## Video 26: Inspecting Cargo Movements\n",
    "**Python for the Energy Industry**\n",
    "\n",
    "In this lesson, we take a closer look at the structure of a Cargo Movement. \n",
    "\n",
    "[Cargo movements documentation.](https://vortechsa.github.io/python-sdk/endpoints/cargo_movements/)"
   ]
  },
  {
   "cell_type": "code",
   "execution_count": 1,
   "metadata": {},
   "outputs": [],
   "source": [
    "# imports\n",
    "from datetime import datetime\n",
    "from dateutil.relativedelta import relativedelta\n",
    "import pandas as pd\n",
    "import vortexasdk as v\n",
    "now = datetime.utcnow()"
   ]
  },
  {
   "cell_type": "markdown",
   "metadata": {},
   "source": [
    "Let's start with a basic query to the SDK, for all Cargo Movements that are currently loading. We then look at one of these:"
   ]
  },
  {
   "cell_type": "code",
   "execution_count": 2,
   "metadata": {},
   "outputs": [
    {
     "name": "stdout",
     "output_type": "stream",
     "text": [
      "2020-12-10 17:17:54,405 vortexasdk.client — WARNING — You are using vortexasdk version 0.26.0, however version 0.27.1 is available.\n",
      "You should consider upgrading via the 'pip install vortexasdk --upgrade' command.\n"
     ]
    },
    {
     "name": "stderr",
     "output_type": "stream",
     "text": [
      "Loading from API: 1000it [00:01, 888.43it/s]             \n"
     ]
    },
    {
     "data": {
      "text/plain": [
       "{'cargo_movement_id': 'a50ce7fdb701c258b74ad260bf946146a50ce7fdb701c258b74ad260bf946146',\n",
       " 'quantity': 154106,\n",
       " 'status': 'unloaded_state',\n",
       " 'vessels': [{'id': 'd7a6983fded96c41c2118ca08a3a29b6c601a3e29b4ceb8b5bafe529345de59d',\n",
       "   'mmsi': 538007372,\n",
       "   'imo': 9364588,\n",
       "   'name': 'JANE',\n",
       "   'dwt': 51506,\n",
       "   'cubic_capacity': 53511,\n",
       "   'vessel_class': 'handymax',\n",
       "   'corporate_entities': [{'id': '40692347e32537124e6458690fcff72bc7deb01606409e9bc9ad198ed003ad32',\n",
       "     'label': 'Product Shipping & Trading',\n",
       "     'layer': 'commercial_owner',\n",
       "     'probability': 1,\n",
       "     'source': 'external'}],\n",
       "   'start_timestamp': '2020-10-31T12:05:29+0000',\n",
       "   'end_timestamp': '2020-11-14T22:31:32+0000',\n",
       "   'fixture_fulfilled': False,\n",
       "   'voyage_id': '524edfdabdeb742d06589ce41cfe434db1ce1c6f7ae23cd2a0eee11387c2e745',\n",
       "   'tags': [{'tag': 'vessel_coated_tag'}],\n",
       "   'status': 'vessel_status_laden_unknown',\n",
       "   'year': 2008,\n",
       "   'scrubber': [],\n",
       "   'flag': [{'tag': 'vessel_flag_tag',\n",
       "     'flag': 'MH',\n",
       "     'flag_country': 'e084d7507dab6604894c203b3834cd7ce8f16385daeae56e202cd9e930f788d2'}]},\n",
       "  {'id': '401120783eaf637b667a59dc3ad7f4da130ef6acd401ddb99ecc296e8c85ac68',\n",
       "   'mmsi': 657176800,\n",
       "   'imo': 9239654,\n",
       "   'name': 'MATRIX S. ILU',\n",
       "   'dwt': 40232,\n",
       "   'cubic_capacity': 45369,\n",
       "   'vessel_class': 'handysize',\n",
       "   'corporate_entities': [{'id': '13950f16a48f0e4e3351f5af729a048f50e572c9a24c306377f4899773b41045',\n",
       "     'label': 'MATRIX ENERGY',\n",
       "     'layer': 'commercial_owner',\n",
       "     'probability': 1,\n",
       "     'source': 'external'}],\n",
       "   'start_timestamp': '2020-11-13T14:40:59+0000',\n",
       "   'end_timestamp': '2020-11-29T19:13:35+0000',\n",
       "   'voyage_id': '3e0f2dd9e1ea80738d55fd8f5472bade222490e0306605df3f78cd062efaa1f7',\n",
       "   'tags': [{'tag': 'vessel_coated_tag'}],\n",
       "   'status': 'vessel_status_ballast',\n",
       "   'year': 2003,\n",
       "   'scrubber': [],\n",
       "   'flag': [{'tag': 'vessel_flag_tag',\n",
       "     'flag': 'NG',\n",
       "     'flag_country': '430f0e467f3a408f997f6f71d3c4d410eea157949cef76b3d3200229584b6b6b'}]}],\n",
       " 'product': [{'id': 'b68cbb746f8b9098c50e2ba36bcad83001a53bd362e9031fb49085d02c36659c',\n",
       "   'layer': 'group',\n",
       "   'probability': 0.60255617,\n",
       "   'source': 'model',\n",
       "   'label': 'Clean Petroleum Products'},\n",
       "  {'id': '9256907ba7e4ed11ff03aa297a7e62e14484ce5a85c8118c7495b9120ad0e268',\n",
       "   'layer': 'group_product',\n",
       "   'probability': 0.60255617,\n",
       "   'source': 'model',\n",
       "   'label': 'Gasoline/Blending Components'},\n",
       "  {'id': 'c76d43ed46524d628a16be1b63019719631a5c2dcbf54af5a94e90ebe2c37a4f',\n",
       "   'layer': 'category',\n",
       "   'probability': 0.60255617,\n",
       "   'source': 'model',\n",
       "   'label': 'Finished Gasoline'}],\n",
       " 'events': [{'event_type': 'cargo_port_load_event',\n",
       "   'location': [{'id': 'c1698979b983b265490545013156924518af07faf7f25905a78a1813054860d8',\n",
       "     'layer': 'country',\n",
       "     'label': 'Spain',\n",
       "     'source': 'model',\n",
       "     'probability': 1},\n",
       "    {'id': 'a3b6e8606bd3688bd6b2ccc115b2e856c30a904af19746e8f734c53006d27d3c',\n",
       "     'layer': 'port',\n",
       "     'label': 'Las Palmas [ES]',\n",
       "     'source': 'model',\n",
       "     'probability': 1},\n",
       "    {'id': 'c4a371acd7c3df8bd70e49805e76cb39b1309ccac3d0f4289120079a9ad68bcd',\n",
       "     'layer': 'region',\n",
       "     'label': 'Africa',\n",
       "     'source': 'model',\n",
       "     'probability': 1},\n",
       "    {'id': 'f39d455f5d38907394d6da3a91da4e391f9a34bd6a17e826d6042761067e88f4',\n",
       "     'layer': 'region',\n",
       "     'label': 'Europe',\n",
       "     'source': 'model',\n",
       "     'probability': 1},\n",
       "    {'id': '676c3cff1dffd971ae51cd350f231394eeb0ab94eff981432f6ee55c5219b913',\n",
       "     'layer': 'shipping_region',\n",
       "     'label': 'UKC-Med region',\n",
       "     'source': 'model',\n",
       "     'probability': 1},\n",
       "    {'id': 'b30fcbd6cb0ff81c3361218e31a75b825770aa2015faeabc7e370d89c2f5781e',\n",
       "     'layer': 'shipping_region',\n",
       "     'label': 'North Africa',\n",
       "     'source': 'model',\n",
       "     'probability': 1},\n",
       "    {'id': '6aa9a4fb76ca378e75eff85f458c90f7fd42778c26c957c417490c097161a3c5',\n",
       "     'layer': 'trading_region',\n",
       "     'label': 'Mediterranean (incl. North Africa)',\n",
       "     'source': 'model',\n",
       "     'probability': 1},\n",
       "    {'id': 'ba1c9704a00c9ddc3e0639e0ff301e08e3f895b29a0ad6bfb88f7918baa8bdb9',\n",
       "     'layer': 'trading_subregion',\n",
       "     'label': 'Canary Islands',\n",
       "     'source': 'model',\n",
       "     'probability': 1},\n",
       "    {'id': 'd6f4fce2d38d7b59a51fb04f790b649b68fb0f9ad1ba9f86592697cdecefae6d',\n",
       "     'layer': 'terminal',\n",
       "     'label': 'Reina Sofia -Duques De Alba (Oil Bunker Discharge)',\n",
       "     'source': 'model',\n",
       "     'probability': 1}],\n",
       "   'probability': 1,\n",
       "   'pos': [-15.407936046466082, 28.146310173897387],\n",
       "   'start_timestamp': '2020-10-31T12:05:29+0000',\n",
       "   'end_timestamp': '2020-11-02T13:26:03+0000'},\n",
       "  {'event_type': 'cargo_port_unload_event',\n",
       "   'location': [{'id': '430f0e467f3a408f997f6f71d3c4d410eea157949cef76b3d3200229584b6b6b',\n",
       "     'layer': 'country',\n",
       "     'label': 'Nigeria',\n",
       "     'source': 'model',\n",
       "     'probability': 1},\n",
       "    {'id': 'c4a371acd7c3df8bd70e49805e76cb39b1309ccac3d0f4289120079a9ad68bcd',\n",
       "     'layer': 'region',\n",
       "     'label': 'Africa',\n",
       "     'source': 'model',\n",
       "     'probability': 1},\n",
       "    {'id': '5e0cb0b66780a00576309aecff1b65934fc580d775bab29ac2a79397d8544e04',\n",
       "     'layer': 'shipping_region',\n",
       "     'label': 'West Africa',\n",
       "     'source': 'model',\n",
       "     'probability': 1},\n",
       "    {'id': '5057dafe08229da478858da705209d61d88db8dcaadf8376c266eeabdbe1f0ee',\n",
       "     'layer': 'trading_block',\n",
       "     'label': 'OPEC',\n",
       "     'source': 'model',\n",
       "     'probability': 1},\n",
       "    {'id': 'a7536c48714140c7ba8e8895cdcccc12ebb2c4813720d6712f08c5c03c1e3ecf',\n",
       "     'layer': 'trading_block',\n",
       "     'label': 'OPEC + Russia',\n",
       "     'source': 'model',\n",
       "     'probability': 1},\n",
       "    {'id': '5e0cb0b66780a00576309aecff1b65934fc580d775bab29ac2a79397d8544e04',\n",
       "     'layer': 'trading_region',\n",
       "     'label': 'West Africa',\n",
       "     'source': 'model',\n",
       "     'probability': 1}],\n",
       "   'probability': 1,\n",
       "   'pos': [7.569242945652775, 8.698523208007263],\n",
       "   'start_timestamp': '2020-11-28T07:50:45+0000',\n",
       "   'end_timestamp': '2020-11-29T19:13:35+0000'},\n",
       "  {'event_type': 'cargo_sts_event',\n",
       "   'from_vessel_id': 'd7a6983fded96c41c2118ca08a3a29b6c601a3e29b4ceb8b5bafe529345de59d',\n",
       "   'from_vessel_name': 'JANE',\n",
       "   'to_vessel_id': '401120783eaf637b667a59dc3ad7f4da130ef6acd401ddb99ecc296e8c85ac68',\n",
       "   'to_vessel_name': 'MATRIX S. ILU',\n",
       "   'location': [{'id': '430f0e467f3a408f997f6f71d3c4d410eea157949cef76b3d3200229584b6b6b',\n",
       "     'layer': 'country',\n",
       "     'label': 'Nigeria',\n",
       "     'source': 'model',\n",
       "     'probability': 0.9840425},\n",
       "    {'id': 'c4a371acd7c3df8bd70e49805e76cb39b1309ccac3d0f4289120079a9ad68bcd',\n",
       "     'layer': 'region',\n",
       "     'label': 'Africa',\n",
       "     'source': 'model',\n",
       "     'probability': 0.9840425},\n",
       "    {'id': '5e0cb0b66780a00576309aecff1b65934fc580d775bab29ac2a79397d8544e04',\n",
       "     'layer': 'shipping_region',\n",
       "     'label': 'West Africa',\n",
       "     'source': 'model',\n",
       "     'probability': 0.9840425},\n",
       "    {'id': '5057dafe08229da478858da705209d61d88db8dcaadf8376c266eeabdbe1f0ee',\n",
       "     'layer': 'trading_block',\n",
       "     'label': 'OPEC',\n",
       "     'source': 'model',\n",
       "     'probability': 0.9840425},\n",
       "    {'id': 'a7536c48714140c7ba8e8895cdcccc12ebb2c4813720d6712f08c5c03c1e3ecf',\n",
       "     'layer': 'trading_block',\n",
       "     'label': 'OPEC + Russia',\n",
       "     'source': 'model',\n",
       "     'probability': 0.9840425},\n",
       "    {'id': '5e0cb0b66780a00576309aecff1b65934fc580d775bab29ac2a79397d8544e04',\n",
       "     'layer': 'trading_region',\n",
       "     'label': 'West Africa',\n",
       "     'source': 'model',\n",
       "     'probability': 0.9840425},\n",
       "    {'id': '9dc9cb305b9636b0c28792339e0f33bf0ee446342afdeb256ec73a8546154bcc',\n",
       "     'layer': 'sts_zone',\n",
       "     'label': 'Lagos STS [NG]',\n",
       "     'source': 'model',\n",
       "     'probability': 0.9840425}],\n",
       "   'pos': [3.3667470194902767, 6.320231099311987],\n",
       "   'start_timestamp': '2020-11-13T14:40:59+0000',\n",
       "   'end_timestamp': '2020-11-14T22:31:32+0000'}],\n",
       " 'parent_ids': []}"
      ]
     },
     "execution_count": 2,
     "metadata": {},
     "output_type": "execute_result"
    }
   ],
   "source": [
    "# basic query\n",
    "cm_query = v.CargoMovements().search(\n",
    "    filter_activity=\"loading_state\",\n",
    "    filter_time_min=now,\n",
    "    filter_time_max=now)\n",
    "\n",
    "# remember - cm_query is a *list* of cargo movements\n",
    "\n",
    "# taking a look at a single Cargo Movement\n",
    "cm_query[0]"
   ]
  },
  {
   "cell_type": "markdown",
   "metadata": {},
   "source": [
    "There's a lot of information here. Note that this is a 'dictionary' structure, so we can put out the top level keys, and their type:"
   ]
  },
  {
   "cell_type": "code",
   "execution_count": 3,
   "metadata": {},
   "outputs": [
    {
     "data": {
      "text/plain": [
       "dict_keys(['cargo_movement_id', 'quantity', 'status', 'vessels', 'product', 'events', 'parent_ids'])"
      ]
     },
     "execution_count": 3,
     "metadata": {},
     "output_type": "execute_result"
    }
   ],
   "source": [
    "cm_query[0].keys()"
   ]
  },
  {
   "cell_type": "code",
   "execution_count": 4,
   "metadata": {},
   "outputs": [
    {
     "name": "stdout",
     "output_type": "stream",
     "text": [
      "[<class 'str'>, <class 'int'>, <class 'str'>, <class 'list'>, <class 'list'>, <class 'list'>, <class 'list'>]\n"
     ]
    }
   ],
   "source": [
    "print([type(cm_query[0][cmk]) for cmk in cm_query[0]])"
   ]
  },
  {
   "cell_type": "markdown",
   "metadata": {},
   "source": [
    "Three of these keys correspond to individual vales which we can print out:"
   ]
  },
  {
   "cell_type": "code",
   "execution_count": 5,
   "metadata": {},
   "outputs": [
    {
     "name": "stdout",
     "output_type": "stream",
     "text": [
      "cargo_movement_id: a50ce7fdb701c258b74ad260bf946146a50ce7fdb701c258b74ad260bf946146\n",
      "quantity: 154106\n",
      "status: unloaded_state\n"
     ]
    }
   ],
   "source": [
    "print('cargo_movement_id:', cm_query[0]['cargo_movement_id'])\n",
    "print('quantity:', cm_query[0]['quantity'])\n",
    "print('status:', cm_query[0]['status'])"
   ]
  },
  {
   "cell_type": "markdown",
   "metadata": {},
   "source": [
    "The remaning keys are lists, which we now now describe in turn.\n",
    "\n",
    "`vessels` contains a `VesselEntity` for each vessel involved in the Cargo Movement. In general, there can be multiple vessels, but we shall touch on this later. The Cargo Movement we're looking only contains one `VesselEntity`:"
   ]
  },
  {
   "cell_type": "code",
   "execution_count": 8,
   "metadata": {},
   "outputs": [
    {
     "data": {
      "text/plain": [
       "1"
      ]
     },
     "execution_count": 8,
     "metadata": {},
     "output_type": "execute_result"
    }
   ],
   "source": [
    "vessels = cm_query[1]['vessels']\n",
    "len(vessels)"
   ]
  },
  {
   "cell_type": "code",
   "execution_count": 9,
   "metadata": {},
   "outputs": [
    {
     "data": {
      "text/plain": [
       "{'id': 'c66166bc9f07fa8c88dc6ea248afd3597cc758f65497f7b220ca54d00921c38c',\n",
       " 'mmsi': 258682000,\n",
       " 'imo': 9321689,\n",
       " 'name': 'SOLVIKEN',\n",
       " 'dwt': 114523,\n",
       " 'cubic_capacity': 127731,\n",
       " 'vessel_class': 'aframax',\n",
       " 'corporate_entities': [{'id': '409dd25aeff466583e8d738f2972ab7d6032622b07c2722f6459edd1be32e1de',\n",
       "   'label': 'BP',\n",
       "   'layer': 'charterer',\n",
       "   'probability': 1,\n",
       "   'source': 'external'},\n",
       "  {'id': '19b1bf392f474ca942b7b25ddcba363638516b2e40268ea7a70888021575a4dd',\n",
       "   'label': 'VITOL',\n",
       "   'layer': 'commercial_owner',\n",
       "   'probability': 1,\n",
       "   'source': 'external'}],\n",
       " 'start_timestamp': '2020-10-31T08:46:01+0000',\n",
       " 'end_timestamp': '2020-11-27T22:05:13+0000',\n",
       " 'fixture_id': 'e572fa21bb5b48d4b1bdc956bc008cb50b919502e47ecc9aaab2705f23367b40',\n",
       " 'fixture_fulfilled': False,\n",
       " 'voyage_id': '6a05f4e387884086072fc56ab4736e1402b3acc6f3f7a69b0381153e359166aa',\n",
       " 'tags': [],\n",
       " 'status': 'vessel_status_laden_known',\n",
       " 'year': 2007,\n",
       " 'scrubber': [],\n",
       " 'flag': [{'tag': 'vessel_flag_tag',\n",
       "   'flag': 'NO',\n",
       "   'flag_country': '459d056652a0b7aa7f630bd2a26c97d192a61154e4c2c7afeaa06ce2880fc91f'}]}"
      ]
     },
     "execution_count": 9,
     "metadata": {},
     "output_type": "execute_result"
    }
   ],
   "source": [
    "vessels[0]"
   ]
  },
  {
   "cell_type": "markdown",
   "metadata": {},
   "source": [
    "`products` contains Product Entries, which each describe one layer of the product tree (Group, Group Product, Category, and Grade). Not all products specify a Grade. We can view the Product Entries in a DataFrame:"
   ]
  },
  {
   "cell_type": "code",
   "execution_count": 10,
   "metadata": {},
   "outputs": [
    {
     "data": {
      "text/html": [
       "<div>\n",
       "<style scoped>\n",
       "    .dataframe tbody tr th:only-of-type {\n",
       "        vertical-align: middle;\n",
       "    }\n",
       "\n",
       "    .dataframe tbody tr th {\n",
       "        vertical-align: top;\n",
       "    }\n",
       "\n",
       "    .dataframe thead th {\n",
       "        text-align: right;\n",
       "    }\n",
       "</style>\n",
       "<table border=\"1\" class=\"dataframe\">\n",
       "  <thead>\n",
       "    <tr style=\"text-align: right;\">\n",
       "      <th></th>\n",
       "      <th>id</th>\n",
       "      <th>layer</th>\n",
       "      <th>probability</th>\n",
       "      <th>source</th>\n",
       "      <th>label</th>\n",
       "    </tr>\n",
       "  </thead>\n",
       "  <tbody>\n",
       "    <tr>\n",
       "      <th>0</th>\n",
       "      <td>b68cbb746f8b9098c50e2ba36bcad83001a53bd362e903...</td>\n",
       "      <td>group</td>\n",
       "      <td>0.602556</td>\n",
       "      <td>model</td>\n",
       "      <td>Clean Petroleum Products</td>\n",
       "    </tr>\n",
       "    <tr>\n",
       "      <th>1</th>\n",
       "      <td>9256907ba7e4ed11ff03aa297a7e62e14484ce5a85c811...</td>\n",
       "      <td>group_product</td>\n",
       "      <td>0.602556</td>\n",
       "      <td>model</td>\n",
       "      <td>Gasoline/Blending Components</td>\n",
       "    </tr>\n",
       "    <tr>\n",
       "      <th>2</th>\n",
       "      <td>c76d43ed46524d628a16be1b63019719631a5c2dcbf54a...</td>\n",
       "      <td>category</td>\n",
       "      <td>0.602556</td>\n",
       "      <td>model</td>\n",
       "      <td>Finished Gasoline</td>\n",
       "    </tr>\n",
       "  </tbody>\n",
       "</table>\n",
       "</div>"
      ],
      "text/plain": [
       "                                                  id          layer  \\\n",
       "0  b68cbb746f8b9098c50e2ba36bcad83001a53bd362e903...          group   \n",
       "1  9256907ba7e4ed11ff03aa297a7e62e14484ce5a85c811...  group_product   \n",
       "2  c76d43ed46524d628a16be1b63019719631a5c2dcbf54a...       category   \n",
       "\n",
       "   probability source                         label  \n",
       "0     0.602556  model      Clean Petroleum Products  \n",
       "1     0.602556  model  Gasoline/Blending Components  \n",
       "2     0.602556  model             Finished Gasoline  "
      ]
     },
     "execution_count": 10,
     "metadata": {},
     "output_type": "execute_result"
    }
   ],
   "source": [
    "products = cm_query[0]['product']\n",
    "pd.DataFrame(products)"
   ]
  },
  {
   "cell_type": "markdown",
   "metadata": {},
   "source": [
    "`events` contains Cargo Events, which each describe a specific event happening to the cargo at a specific time. These can be:\n",
    "- cargo_port_load_event\n",
    "- cargo_port_unload_event\n",
    "- cargo_fso_load_event\n",
    "- cargo_fso_unload_event\n",
    "- cargo_sts_event\n",
    "- cargo_fixture_event\n",
    "- cargo_storage_event\n",
    "\n",
    "In our example, the two events are:"
   ]
  },
  {
   "cell_type": "code",
   "execution_count": 12,
   "metadata": {},
   "outputs": [
    {
     "data": {
      "text/plain": [
       "['cargo_port_load_event', 'cargo_port_unload_event']"
      ]
     },
     "execution_count": 12,
     "metadata": {},
     "output_type": "execute_result"
    }
   ],
   "source": [
    "events = cm_query[1]['events']\n",
    "[e['event_type'] for e in events]"
   ]
  },
  {
   "cell_type": "markdown",
   "metadata": {},
   "source": [
    "We can see some high level information about these events by putting them into a DataFrame:"
   ]
  },
  {
   "cell_type": "code",
   "execution_count": 13,
   "metadata": {},
   "outputs": [
    {
     "data": {
      "text/html": [
       "<div>\n",
       "<style scoped>\n",
       "    .dataframe tbody tr th:only-of-type {\n",
       "        vertical-align: middle;\n",
       "    }\n",
       "\n",
       "    .dataframe tbody tr th {\n",
       "        vertical-align: top;\n",
       "    }\n",
       "\n",
       "    .dataframe thead th {\n",
       "        text-align: right;\n",
       "    }\n",
       "</style>\n",
       "<table border=\"1\" class=\"dataframe\">\n",
       "  <thead>\n",
       "    <tr style=\"text-align: right;\">\n",
       "      <th></th>\n",
       "      <th>event_type</th>\n",
       "      <th>location</th>\n",
       "      <th>probability</th>\n",
       "      <th>pos</th>\n",
       "      <th>start_timestamp</th>\n",
       "      <th>end_timestamp</th>\n",
       "    </tr>\n",
       "  </thead>\n",
       "  <tbody>\n",
       "    <tr>\n",
       "      <th>0</th>\n",
       "      <td>cargo_port_load_event</td>\n",
       "      <td>[{'id': '2d92cc08f22524dba59f6a7e340f132a9da0c...</td>\n",
       "      <td>1</td>\n",
       "      <td>[-95.12550820901582, 29.73760530405836]</td>\n",
       "      <td>2020-10-31T08:46:01+0000</td>\n",
       "      <td>2020-11-01T19:10:20+0000</td>\n",
       "    </tr>\n",
       "    <tr>\n",
       "      <th>1</th>\n",
       "      <td>cargo_port_unload_event</td>\n",
       "      <td>[{'id': 'ee1de4914cc26e8f1326b49793b089131870d...</td>\n",
       "      <td>1</td>\n",
       "      <td>[13.777823781603512, 45.610871763346225]</td>\n",
       "      <td>2020-11-26T09:43:47+0000</td>\n",
       "      <td>2020-11-27T22:05:13+0000</td>\n",
       "    </tr>\n",
       "  </tbody>\n",
       "</table>\n",
       "</div>"
      ],
      "text/plain": [
       "                event_type                                           location  \\\n",
       "0    cargo_port_load_event  [{'id': '2d92cc08f22524dba59f6a7e340f132a9da0c...   \n",
       "1  cargo_port_unload_event  [{'id': 'ee1de4914cc26e8f1326b49793b089131870d...   \n",
       "\n",
       "   probability                                       pos  \\\n",
       "0            1   [-95.12550820901582, 29.73760530405836]   \n",
       "1            1  [13.777823781603512, 45.610871763346225]   \n",
       "\n",
       "            start_timestamp             end_timestamp  \n",
       "0  2020-10-31T08:46:01+0000  2020-11-01T19:10:20+0000  \n",
       "1  2020-11-26T09:43:47+0000  2020-11-27T22:05:13+0000  "
      ]
     },
     "execution_count": 13,
     "metadata": {},
     "output_type": "execute_result"
    }
   ],
   "source": [
    "pd.DataFrame(events)"
   ]
  },
  {
   "cell_type": "markdown",
   "metadata": {},
   "source": [
    "The 'location' entries are themselves dictionaries, which we can expand into a DataFrame to see the different layers:"
   ]
  },
  {
   "cell_type": "code",
   "execution_count": 14,
   "metadata": {
    "scrolled": true
   },
   "outputs": [
    {
     "data": {
      "text/html": [
       "<div>\n",
       "<style scoped>\n",
       "    .dataframe tbody tr th:only-of-type {\n",
       "        vertical-align: middle;\n",
       "    }\n",
       "\n",
       "    .dataframe tbody tr th {\n",
       "        vertical-align: top;\n",
       "    }\n",
       "\n",
       "    .dataframe thead th {\n",
       "        text-align: right;\n",
       "    }\n",
       "</style>\n",
       "<table border=\"1\" class=\"dataframe\">\n",
       "  <thead>\n",
       "    <tr style=\"text-align: right;\">\n",
       "      <th></th>\n",
       "      <th>id</th>\n",
       "      <th>layer</th>\n",
       "      <th>label</th>\n",
       "      <th>source</th>\n",
       "      <th>probability</th>\n",
       "    </tr>\n",
       "  </thead>\n",
       "  <tbody>\n",
       "    <tr>\n",
       "      <th>0</th>\n",
       "      <td>2d92cc08f22524dba59f6a7e340f132a9da0ce9573cca9...</td>\n",
       "      <td>country</td>\n",
       "      <td>United States</td>\n",
       "      <td>model</td>\n",
       "      <td>1</td>\n",
       "    </tr>\n",
       "    <tr>\n",
       "      <th>1</th>\n",
       "      <td>7f314ba0a498c36359b1c88781e94a73e19dcc9bbb030e...</td>\n",
       "      <td>port</td>\n",
       "      <td>Houston, TX [US]</td>\n",
       "      <td>model</td>\n",
       "      <td>1</td>\n",
       "    </tr>\n",
       "    <tr>\n",
       "      <th>2</th>\n",
       "      <td>ae06d7e47d6ca2a5bcd7625b8ad402d39e5e92fcc74015...</td>\n",
       "      <td>region</td>\n",
       "      <td>North America</td>\n",
       "      <td>model</td>\n",
       "      <td>1</td>\n",
       "    </tr>\n",
       "    <tr>\n",
       "      <th>3</th>\n",
       "      <td>3f0a65d97728cdd1aaa5830d2de018d4378f2c453a89bc...</td>\n",
       "      <td>shipping_region</td>\n",
       "      <td>Gulf of Mexico</td>\n",
       "      <td>model</td>\n",
       "      <td>1</td>\n",
       "    </tr>\n",
       "    <tr>\n",
       "      <th>4</th>\n",
       "      <td>4e79eb8e84d26f5c3c0006283bc1aa52c170b58d667be9...</td>\n",
       "      <td>shipping_region</td>\n",
       "      <td>PADD 3 (US Gulf Coast)</td>\n",
       "      <td>model</td>\n",
       "      <td>1</td>\n",
       "    </tr>\n",
       "    <tr>\n",
       "      <th>5</th>\n",
       "      <td>f3828f390df90583a5e5c1cc1f70870342b43a95c2d58f...</td>\n",
       "      <td>shipping_region</td>\n",
       "      <td>USAC/USGC</td>\n",
       "      <td>model</td>\n",
       "      <td>1</td>\n",
       "    </tr>\n",
       "    <tr>\n",
       "      <th>6</th>\n",
       "      <td>956b03529510459d298c4e537d23c6fbb22ffd8414af93...</td>\n",
       "      <td>trading_block</td>\n",
       "      <td>Non-OPEC</td>\n",
       "      <td>model</td>\n",
       "      <td>1</td>\n",
       "    </tr>\n",
       "    <tr>\n",
       "      <th>7</th>\n",
       "      <td>4e79eb8e84d26f5c3c0006283bc1aa52c170b58d667be9...</td>\n",
       "      <td>trading_region</td>\n",
       "      <td>PADD 3 (US Gulf Coast)</td>\n",
       "      <td>model</td>\n",
       "      <td>1</td>\n",
       "    </tr>\n",
       "    <tr>\n",
       "      <th>8</th>\n",
       "      <td>3663536da3c85053556bc0d1a803481aa137a854da8bc8...</td>\n",
       "      <td>trading_subregion</td>\n",
       "      <td>Texas</td>\n",
       "      <td>model</td>\n",
       "      <td>1</td>\n",
       "    </tr>\n",
       "    <tr>\n",
       "      <th>9</th>\n",
       "      <td>3a39cf841ece0c7cb879f72af01cb634191142e0de8010...</td>\n",
       "      <td>terminal</td>\n",
       "      <td>Houston Enterprise Terminal</td>\n",
       "      <td>model</td>\n",
       "      <td>1</td>\n",
       "    </tr>\n",
       "  </tbody>\n",
       "</table>\n",
       "</div>"
      ],
      "text/plain": [
       "                                                  id              layer  \\\n",
       "0  2d92cc08f22524dba59f6a7e340f132a9da0ce9573cca9...            country   \n",
       "1  7f314ba0a498c36359b1c88781e94a73e19dcc9bbb030e...               port   \n",
       "2  ae06d7e47d6ca2a5bcd7625b8ad402d39e5e92fcc74015...             region   \n",
       "3  3f0a65d97728cdd1aaa5830d2de018d4378f2c453a89bc...    shipping_region   \n",
       "4  4e79eb8e84d26f5c3c0006283bc1aa52c170b58d667be9...    shipping_region   \n",
       "5  f3828f390df90583a5e5c1cc1f70870342b43a95c2d58f...    shipping_region   \n",
       "6  956b03529510459d298c4e537d23c6fbb22ffd8414af93...      trading_block   \n",
       "7  4e79eb8e84d26f5c3c0006283bc1aa52c170b58d667be9...     trading_region   \n",
       "8  3663536da3c85053556bc0d1a803481aa137a854da8bc8...  trading_subregion   \n",
       "9  3a39cf841ece0c7cb879f72af01cb634191142e0de8010...           terminal   \n",
       "\n",
       "                         label source  probability  \n",
       "0                United States  model            1  \n",
       "1             Houston, TX [US]  model            1  \n",
       "2                North America  model            1  \n",
       "3               Gulf of Mexico  model            1  \n",
       "4       PADD 3 (US Gulf Coast)  model            1  \n",
       "5                    USAC/USGC  model            1  \n",
       "6                     Non-OPEC  model            1  \n",
       "7       PADD 3 (US Gulf Coast)  model            1  \n",
       "8                        Texas  model            1  \n",
       "9  Houston Enterprise Terminal  model            1  "
      ]
     },
     "execution_count": 14,
     "metadata": {},
     "output_type": "execute_result"
    }
   ],
   "source": [
    "pd.DataFrame(events[0]['location'])"
   ]
  },
  {
   "cell_type": "markdown",
   "metadata": {},
   "source": [
    "**A point to keep in mind**\n",
    "\n",
    "In this lesson we have dived into the structure of a Cargo Movement. While important for understanding, in practice it is often simpler to just use cm_query.to_df('all') to convert all these records to a familiar tabular form, without paying attention to the structure. This is true of other endpoints as well."
   ]
  },
  {
   "cell_type": "markdown",
   "metadata": {},
   "source": [
    "### Exercise\n",
    "\n",
    "The Vortexa SDK also offers a `VesselMovements` endpoint. Vessel Movements can be searched for in a similar way to Cargo Movements, but they have some differences. Do a query for Vessel Movements, and inspect the structure of a Vessel Movement to identify the differences.\n",
    "\n",
    "[Vessel Movements documentation.](https://vortechsa.github.io/python-sdk/endpoints/vessel_movements/)"
   ]
  },
  {
   "cell_type": "code",
   "execution_count": null,
   "metadata": {},
   "outputs": [],
   "source": []
  }
 ],
 "metadata": {
  "kernelspec": {
   "display_name": "Python 3",
   "language": "python",
   "name": "python3"
  },
  "language_info": {
   "codemirror_mode": {
    "name": "ipython",
    "version": 3
   },
   "file_extension": ".py",
   "mimetype": "text/x-python",
   "name": "python",
   "nbconvert_exporter": "python",
   "pygments_lexer": "ipython3",
   "version": "3.7.9"
  }
 },
 "nbformat": 4,
 "nbformat_minor": 4
}
