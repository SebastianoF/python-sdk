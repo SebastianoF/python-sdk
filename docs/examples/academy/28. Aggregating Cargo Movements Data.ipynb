{
 "cells": [
  {
   "cell_type": "markdown",
   "metadata": {},
   "source": [
    "# Module 6\n",
    "\n",
    "## Video 28: Aggregating Cargo Movements Data\n",
    "**Python for the Energy Industry**\n",
    "\n",
    "The CargoMovements endpoint provides granular data about individual cargoes. We can convert this data into 'macro' data about the flows of products by 'aggregating' this data. That is the subject of this lesson. \n",
    "\n",
    "[Cargo Movements documentation](https://vortechsa.github.io/python-sdk/endpoints/cargo_movements/)"
   ]
  },
  {
   "cell_type": "code",
   "execution_count": null,
   "metadata": {
    "execution": {
     "iopub.execute_input": "2021-07-12T16:02:54.500887Z",
     "iopub.status.busy": "2021-07-12T16:02:54.500083Z",
     "iopub.status.idle": "2021-07-12T16:02:54.947364Z",
     "shell.execute_reply": "2021-07-12T16:02:54.946796Z"
    }
   },
   "outputs": [],
   "source": [
    "# initial imports\n",
    "import pandas as pd\n",
    "import numpy as np\n",
    "from datetime import datetime\n",
    "from dateutil.relativedelta import relativedelta\n",
    "import vortexasdk as v"
   ]
  },
  {
   "cell_type": "markdown",
   "metadata": {},
   "source": [
    "We start by storing the datetimes and IDs needed to filter for crude flows out of the US in the last 7 weeks."
   ]
  },
  {
   "cell_type": "code",
   "execution_count": null,
   "metadata": {
    "execution": {
     "iopub.execute_input": "2021-07-12T16:02:54.950901Z",
     "iopub.status.busy": "2021-07-12T16:02:54.950386Z",
     "iopub.status.idle": "2021-07-12T16:02:54.952253Z",
     "shell.execute_reply": "2021-07-12T16:02:54.952871Z"
    }
   },
   "outputs": [],
   "source": [
    "# datetimes to access last 7 weeks of data\n",
    "now = datetime.utcnow()\n",
    "seven_weeks_ago = now - relativedelta(weeks=7)"
   ]
  },
  {
   "cell_type": "code",
   "execution_count": null,
   "metadata": {
    "execution": {
     "iopub.execute_input": "2021-07-12T16:02:54.956414Z",
     "iopub.status.busy": "2021-07-12T16:02:54.955831Z",
     "iopub.status.idle": "2021-07-12T16:02:55.782270Z",
     "shell.execute_reply": "2021-07-12T16:02:55.782877Z"
    }
   },
   "outputs": [],
   "source": [
    "# Find US ID\n",
    "us = [g.id for g in v.Geographies().search('united states').to_list() if 'country' in g.layer]\n",
    "assert len(us) == 1"
   ]
  },
  {
   "cell_type": "code",
   "execution_count": null,
   "metadata": {
    "execution": {
     "iopub.execute_input": "2021-07-12T16:02:55.787510Z",
     "iopub.status.busy": "2021-07-12T16:02:55.786600Z",
     "iopub.status.idle": "2021-07-12T16:02:56.489547Z",
     "shell.execute_reply": "2021-07-12T16:02:56.489934Z"
    }
   },
   "outputs": [],
   "source": [
    "# Find crude ID\n",
    "crude = [p.id for p in v.Products().search('crude').to_list() if p.name=='Crude']\n",
    "assert len(crude) == 1"
   ]
  },
  {
   "cell_type": "code",
   "execution_count": null,
   "metadata": {
    "execution": {
     "iopub.execute_input": "2021-07-12T16:02:56.494920Z",
     "iopub.status.busy": "2021-07-12T16:02:56.494307Z",
     "iopub.status.idle": "2021-07-12T16:02:56.496145Z",
     "shell.execute_reply": "2021-07-12T16:02:56.496506Z"
    }
   },
   "outputs": [],
   "source": [
    "# Columns to pull out, and shortened names\n",
    "required_columns = [\n",
    "    # primary vessel info\n",
    "    \"vessels.0.name\",\n",
    "    \"vessels.0.vessel_class\",\n",
    "    # product information and quantity\n",
    "    \"product.group.label\",\n",
    "    \"product.category.label\",\n",
    "    \"quantity\",\n",
    "    \"status\",\n",
    "    # loading info\n",
    "    \"events.cargo_port_load_event.0.location.port.label\",\n",
    "    \"events.cargo_port_load_event.0.end_timestamp\",\n",
    "    # unloading info\n",
    "    \"events.cargo_port_unload_event.0.location.port.label\",\n",
    "    \"events.cargo_port_unload_event.0.location.country.label\",\n",
    "    \"events.cargo_port_unload_event.0.end_timestamp\",\n",
    "]\n",
    "\n",
    "new_labels = [\n",
    "    \"vessel_name\",\n",
    "    \"vessel_class\",\n",
    "    \"product_group\",\n",
    "    \"product_category\",\n",
    "    \"quantity\",\n",
    "    \"status\",\n",
    "    \"loading_port\",\n",
    "    \"loading_finish\",\n",
    "    \"unloading_port\",\n",
    "    \"unloading_country\",\n",
    "    \"unloading_finish\",\n",
    "]\n",
    "\n",
    "relabel = dict(zip(required_columns,new_labels))"
   ]
  },
  {
   "cell_type": "markdown",
   "metadata": {},
   "source": [
    "Do the search for crude flows out of the US (and not destined for another US location) in the last 7 weeks. Convert this to a DataFrame."
   ]
  },
  {
   "cell_type": "code",
   "execution_count": null,
   "metadata": {
    "execution": {
     "iopub.execute_input": "2021-07-12T16:02:56.501738Z",
     "iopub.status.busy": "2021-07-12T16:02:56.500657Z",
     "iopub.status.idle": "2021-07-12T16:02:59.221333Z",
     "shell.execute_reply": "2021-07-12T16:02:59.221751Z"
    }
   },
   "outputs": [],
   "source": [
    "cms = v.CargoMovements().search(\n",
    "        filter_activity = 'loading_end',\n",
    "        filter_origins = us,\n",
    "        exclude_destinations = us,\n",
    "        filter_products = crude,\n",
    "        filter_time_min = seven_weeks_ago,\n",
    "        filter_time_max = now,\n",
    "        cm_unit = 'b'\n",
    "    ).to_df(columns=required_columns).rename(relabel,axis=1)"
   ]
  },
  {
   "cell_type": "code",
   "execution_count": null,
   "metadata": {
    "execution": {
     "iopub.execute_input": "2021-07-12T16:02:59.231203Z",
     "iopub.status.busy": "2021-07-12T16:02:59.230559Z",
     "iopub.status.idle": "2021-07-12T16:02:59.233576Z",
     "shell.execute_reply": "2021-07-12T16:02:59.233977Z"
    }
   },
   "outputs": [],
   "source": [
    "# How many associated movements?\n",
    "len(cms)"
   ]
  },
  {
   "cell_type": "markdown",
   "metadata": {},
   "source": [
    "We add a new column to the DataFrame which gets the week of the year in which loading was completed:"
   ]
  },
  {
   "cell_type": "code",
   "execution_count": null,
   "metadata": {
    "execution": {
     "iopub.execute_input": "2021-07-12T16:02:59.239721Z",
     "iopub.status.busy": "2021-07-12T16:02:59.237656Z",
     "iopub.status.idle": "2021-07-12T16:02:59.241564Z",
     "shell.execute_reply": "2021-07-12T16:02:59.241968Z"
    }
   },
   "outputs": [],
   "source": [
    "cms['loading_week'] = cms['loading_finish'].dt.isocalendar().week"
   ]
  },
  {
   "cell_type": "markdown",
   "metadata": {},
   "source": [
    "We then use `groupby` to aggregate the data by week, and sum over the numeric data. This shows the total volume (in # of barrels) exported each week."
   ]
  },
  {
   "cell_type": "code",
   "execution_count": null,
   "metadata": {
    "execution": {
     "iopub.execute_input": "2021-07-12T16:02:59.250019Z",
     "iopub.status.busy": "2021-07-12T16:02:59.249426Z",
     "iopub.status.idle": "2021-07-12T16:02:59.255653Z",
     "shell.execute_reply": "2021-07-12T16:02:59.256085Z"
    }
   },
   "outputs": [],
   "source": [
    "weekly_quantity = cms.groupby('loading_week').sum()\n",
    "weekly_quantity"
   ]
  },
  {
   "cell_type": "markdown",
   "metadata": {},
   "source": [
    "We could also break this information down further. Let's say we wanted to know the weekly exported quantities of each category of crude separately. It's possible to group by multiple categories:"
   ]
  },
  {
   "cell_type": "code",
   "execution_count": null,
   "metadata": {
    "execution": {
     "iopub.execute_input": "2021-07-12T16:02:59.261965Z",
     "iopub.status.busy": "2021-07-12T16:02:59.260221Z",
     "iopub.status.idle": "2021-07-12T16:02:59.269061Z",
     "shell.execute_reply": "2021-07-12T16:02:59.269488Z"
    }
   },
   "outputs": [],
   "source": [
    "quantity_by_category = cms.groupby(by = ['loading_week','product_category']).sum().reset_index()\n",
    "quantity_by_category"
   ]
  },
  {
   "cell_type": "markdown",
   "metadata": {},
   "source": [
    "This is not the most intuitive way of displaying the data. We can 'pivot' the table, so that each product category gets its own column:"
   ]
  },
  {
   "cell_type": "code",
   "execution_count": null,
   "metadata": {
    "execution": {
     "iopub.execute_input": "2021-07-12T16:02:59.281660Z",
     "iopub.status.busy": "2021-07-12T16:02:59.274063Z",
     "iopub.status.idle": "2021-07-12T16:02:59.283935Z",
     "shell.execute_reply": "2021-07-12T16:02:59.284456Z"
    }
   },
   "outputs": [],
   "source": [
    "quantity_by_category = quantity_by_category.pivot(index = 'loading_week', \n",
    "                                                  columns = 'product_category',\n",
    "                                                  values = 'quantity')\n",
    "quantity_by_category"
   ]
  },
  {
   "cell_type": "markdown",
   "metadata": {},
   "source": [
    "This is better. However, a number of elements are 'NaN'. Clearly, these represent an absence of any exports of that category in that week - so we replace these with zeroes."
   ]
  },
  {
   "cell_type": "code",
   "execution_count": null,
   "metadata": {
    "execution": {
     "iopub.execute_input": "2021-07-12T16:02:59.294484Z",
     "iopub.status.busy": "2021-07-12T16:02:59.293771Z",
     "iopub.status.idle": "2021-07-12T16:02:59.296259Z",
     "shell.execute_reply": "2021-07-12T16:02:59.296685Z"
    }
   },
   "outputs": [],
   "source": [
    "quantity_by_category = quantity_by_category.fillna(0)\n",
    "quantity_by_category"
   ]
  },
  {
   "cell_type": "markdown",
   "metadata": {},
   "source": [
    "Another way of breaking down the exports data is by receiving country. "
   ]
  },
  {
   "cell_type": "code",
   "execution_count": null,
   "metadata": {
    "execution": {
     "iopub.execute_input": "2021-07-12T16:02:59.303605Z",
     "iopub.status.busy": "2021-07-12T16:02:59.302930Z",
     "iopub.status.idle": "2021-07-12T16:02:59.304985Z",
     "shell.execute_reply": "2021-07-12T16:02:59.305403Z"
    }
   },
   "outputs": [],
   "source": [
    "quantity_by_destination = cms.groupby('unloading_country').sum()[['quantity']]\n",
    "quantity_by_destination.sort_values(by='quantity',ascending = False, inplace=True)"
   ]
  },
  {
   "cell_type": "code",
   "execution_count": null,
   "metadata": {
    "execution": {
     "iopub.execute_input": "2021-07-12T16:02:59.311054Z",
     "iopub.status.busy": "2021-07-12T16:02:59.310418Z",
     "iopub.status.idle": "2021-07-12T16:02:59.313433Z",
     "shell.execute_reply": "2021-07-12T16:02:59.312754Z"
    }
   },
   "outputs": [],
   "source": [
    "quantity_by_destination.head()"
   ]
  },
  {
   "cell_type": "markdown",
   "metadata": {},
   "source": [
    "We might not want data for all recipient countries in our data, so we can collect those besides the top 10 in an 'other' category."
   ]
  },
  {
   "cell_type": "code",
   "execution_count": null,
   "metadata": {
    "execution": {
     "iopub.execute_input": "2021-07-12T16:02:59.320127Z",
     "iopub.status.busy": "2021-07-12T16:02:59.319535Z",
     "iopub.status.idle": "2021-07-12T16:02:59.321683Z",
     "shell.execute_reply": "2021-07-12T16:02:59.322202Z"
    }
   },
   "outputs": [],
   "source": [
    "# grab the top 10\n",
    "top_destination_countries = quantity_by_destination.head(10)\n",
    "\n",
    "# grab the bottom, sum their quantities and put into a DataFrame\n",
    "rest = pd.DataFrame(index = ['Other'], columns = ['quantity'])\n",
    "rest.loc['Other'] = quantity_by_destination[10:].sum().values\n",
    "\n",
    "#  join the two DataFrames\n",
    "top_destination_countries = pd.concat([top_destination_countries, rest]).astype(int)"
   ]
  },
  {
   "cell_type": "markdown",
   "metadata": {},
   "source": [
    "Finally, we can add a new column containing the percentage of total exports represented by exports to that country:"
   ]
  },
  {
   "cell_type": "code",
   "execution_count": null,
   "metadata": {
    "execution": {
     "iopub.execute_input": "2021-07-12T16:02:59.330220Z",
     "iopub.status.busy": "2021-07-12T16:02:59.329633Z",
     "iopub.status.idle": "2021-07-12T16:02:59.332585Z",
     "shell.execute_reply": "2021-07-12T16:02:59.332072Z"
    }
   },
   "outputs": [],
   "source": [
    "top_destination_countries['%'] = round(top_destination_countries['quantity']*100 / top_destination_countries['quantity'].sum(),2)\n",
    "top_destination_countries"
   ]
  },
  {
   "cell_type": "markdown",
   "metadata": {},
   "source": [
    "*Note: In the next module, we will see how the Cargo Time Series endpoint offers another approach to this same kind of analysis*"
   ]
  },
  {
   "cell_type": "markdown",
   "metadata": {},
   "source": [
    "### Exercise\n",
    "\n",
    "Make a pivoted table showing how exports to each of the top 5 desination countries varied over the 7 weeks. "
   ]
  },
  {
   "cell_type": "code",
   "execution_count": null,
   "metadata": {},
   "outputs": [],
   "source": []
  }
 ],
 "metadata": {
  "kernelspec": {
   "display_name": "Python 3",
   "language": "python",
   "name": "python3"
  },
  "language_info": {
   "codemirror_mode": {
    "name": "ipython",
    "version": 3
   },
   "file_extension": ".py",
   "mimetype": "text/x-python",
   "name": "python",
   "nbconvert_exporter": "python",
   "pygments_lexer": "ipython3",
   "version": "3.7.6"
  }
 },
 "nbformat": 4,
 "nbformat_minor": 4
}
