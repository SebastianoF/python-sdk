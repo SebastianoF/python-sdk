{
 "cells": [
  {
   "cell_type": "code",
   "execution_count": 1,
   "metadata": {},
   "outputs": [],
   "source": [
    "from vortexasdk import Products, CargoTimeSeries, Geographies\n",
    "from datetime import datetime\n",
    "import pandas as pd\n",
    "import matplotlib.pyplot as plt"
   ]
  },
  {
   "cell_type": "markdown",
   "metadata": {},
   "source": [
    "# Products tutorial"
   ]
  },
  {
   "cell_type": "markdown",
   "metadata": {},
   "source": [
    "First Im going to show you how to get the Vortexa ID for a product you are intestested in studying. There are many ways of doing this, and today Im going to show you one options I have used."
   ]
  },
  {
   "cell_type": "markdown",
   "metadata": {},
   "source": [
    "From the examples in the docs found here: https://vortechsa.github.io/python-sdk/endpoints/products/. We can see an example line of code which shows us how to look in for different products in a list"
   ]
  },
  {
   "cell_type": "code",
   "execution_count": 2,
   "metadata": {},
   "outputs": [
    {
     "name": "stdout",
     "output_type": "stream",
     "text": [
      "2020-06-28 08:42:27,150 vortexasdk.operations — INFO — Searching Products\n",
      "2020-06-28 08:42:27,151 vortexasdk.client — INFO — Creating new VortexaClient\n",
      "2020-06-28 08:42:27,370 vortexasdk.client — INFO — Payload: {'term': ['diesel', 'fuel oil', 'grane'], 'allowTopLevelProducts': True}\n",
      "2020-06-28 08:42:27,656 vortexasdk.client — INFO — 71 Results to retrieve. Sending 1 post requests in parallel using 6 threads.\n"
     ]
    }
   ],
   "source": [
    "df = Products().search(term=['diesel', 'fuel oil', 'grane']).to_df()"
   ]
  },
  {
   "cell_type": "code",
   "execution_count": 3,
   "metadata": {},
   "outputs": [
    {
     "data": {
      "text/html": [
       "<div>\n",
       "<style scoped>\n",
       "    .dataframe tbody tr th:only-of-type {\n",
       "        vertical-align: middle;\n",
       "    }\n",
       "\n",
       "    .dataframe tbody tr th {\n",
       "        vertical-align: top;\n",
       "    }\n",
       "\n",
       "    .dataframe thead th {\n",
       "        text-align: right;\n",
       "    }\n",
       "</style>\n",
       "<table border=\"1\" class=\"dataframe\">\n",
       "  <thead>\n",
       "    <tr style=\"text-align: right;\">\n",
       "      <th></th>\n",
       "      <th>id</th>\n",
       "      <th>name</th>\n",
       "      <th>layer.0</th>\n",
       "      <th>parent.0.name</th>\n",
       "    </tr>\n",
       "  </thead>\n",
       "  <tbody>\n",
       "    <tr>\n",
       "      <th>0</th>\n",
       "      <td>1c107b4317bc2c85fb6c13cd7b28e8e0a02ec7fecc68af...</td>\n",
       "      <td>Fuel Oil</td>\n",
       "      <td>group_product</td>\n",
       "      <td>Dirty Petroleum Products</td>\n",
       "    </tr>\n",
       "    <tr>\n",
       "      <th>1</th>\n",
       "      <td>e6e879021c45470d84ee2f182a42a13537b489ae730640...</td>\n",
       "      <td>Other Fuel Oils</td>\n",
       "      <td>grade</td>\n",
       "      <td>High Sulphur Fuel Oil</td>\n",
       "    </tr>\n",
       "    <tr>\n",
       "      <th>2</th>\n",
       "      <td>da9e67b1dd201a1ad3ae251e6dce8fad404ce50d53adba...</td>\n",
       "      <td>RMD Fuel Oil</td>\n",
       "      <td>grade</td>\n",
       "      <td>High Sulphur Fuel Oil</td>\n",
       "    </tr>\n",
       "    <tr>\n",
       "      <th>3</th>\n",
       "      <td>0dd7857f328177189e20a54af1dc599c8b7e04e79e61cd...</td>\n",
       "      <td>Fuel Oil Cut</td>\n",
       "      <td>grade</td>\n",
       "      <td>High Sulphur Fuel Oil</td>\n",
       "    </tr>\n",
       "    <tr>\n",
       "      <th>4</th>\n",
       "      <td>bd8990f0ee38a4282bb212fdd52690309b7f416a496e13...</td>\n",
       "      <td>Bunker Fuel Oil</td>\n",
       "      <td>grade</td>\n",
       "      <td>High Sulphur Fuel Oil</td>\n",
       "    </tr>\n",
       "  </tbody>\n",
       "</table>\n",
       "</div>"
      ],
      "text/plain": [
       "                                                  id             name  \\\n",
       "0  1c107b4317bc2c85fb6c13cd7b28e8e0a02ec7fecc68af...         Fuel Oil   \n",
       "1  e6e879021c45470d84ee2f182a42a13537b489ae730640...  Other Fuel Oils   \n",
       "2  da9e67b1dd201a1ad3ae251e6dce8fad404ce50d53adba...     RMD Fuel Oil   \n",
       "3  0dd7857f328177189e20a54af1dc599c8b7e04e79e61cd...     Fuel Oil Cut   \n",
       "4  bd8990f0ee38a4282bb212fdd52690309b7f416a496e13...  Bunker Fuel Oil   \n",
       "\n",
       "         layer.0             parent.0.name  \n",
       "0  group_product  Dirty Petroleum Products  \n",
       "1          grade     High Sulphur Fuel Oil  \n",
       "2          grade     High Sulphur Fuel Oil  \n",
       "3          grade     High Sulphur Fuel Oil  \n",
       "4          grade     High Sulphur Fuel Oil  "
      ]
     },
     "execution_count": 3,
     "metadata": {},
     "output_type": "execute_result"
    }
   ],
   "source": [
    "df.head()"
   ]
  },
  {
   "cell_type": "markdown",
   "metadata": {},
   "source": [
    "For my study I want to focus on crude so I am going to modify the list which contains oil product names like this: "
   ]
  },
  {
   "cell_type": "code",
   "execution_count": 4,
   "metadata": {
    "scrolled": true
   },
   "outputs": [
    {
     "name": "stdout",
     "output_type": "stream",
     "text": [
      "2020-06-28 08:42:27,975 vortexasdk.operations — INFO — Searching Products\n",
      "2020-06-28 08:42:27,976 vortexasdk.client — INFO — Payload: {'term': ['crude'], 'allowTopLevelProducts': True}\n",
      "2020-06-28 08:42:28,177 vortexasdk.client — INFO — 18 Results to retrieve. Sending 1 post requests in parallel using 6 threads.\n"
     ]
    }
   ],
   "source": [
    "crude_search_df = Products().search(term=['crude']).to_df()"
   ]
  },
  {
   "cell_type": "code",
   "execution_count": 5,
   "metadata": {},
   "outputs": [
    {
     "data": {
      "text/html": [
       "<div>\n",
       "<style scoped>\n",
       "    .dataframe tbody tr th:only-of-type {\n",
       "        vertical-align: middle;\n",
       "    }\n",
       "\n",
       "    .dataframe tbody tr th {\n",
       "        vertical-align: top;\n",
       "    }\n",
       "\n",
       "    .dataframe thead th {\n",
       "        text-align: right;\n",
       "    }\n",
       "</style>\n",
       "<table border=\"1\" class=\"dataframe\">\n",
       "  <thead>\n",
       "    <tr style=\"text-align: right;\">\n",
       "      <th></th>\n",
       "      <th>id</th>\n",
       "      <th>name</th>\n",
       "      <th>layer.0</th>\n",
       "      <th>parent.0.name</th>\n",
       "    </tr>\n",
       "  </thead>\n",
       "  <tbody>\n",
       "    <tr>\n",
       "      <th>0</th>\n",
       "      <td>6f11b0724c9a4e85ffa7f1445bc768f054af755a090118...</td>\n",
       "      <td>Crude</td>\n",
       "      <td>group_product</td>\n",
       "      <td>Crude/Condensates</td>\n",
       "    </tr>\n",
       "    <tr>\n",
       "      <th>1</th>\n",
       "      <td>e1b3d075a9340969322024a35b8c720e5065d8c95a91b6...</td>\n",
       "      <td>Crude Vegoil</td>\n",
       "      <td>grade</td>\n",
       "      <td>Biodiesel Feedstock</td>\n",
       "    </tr>\n",
       "    <tr>\n",
       "      <th>2</th>\n",
       "      <td>4fe046d7478c4072b9ecbaa2c03d3b977bbfec5077ee44...</td>\n",
       "      <td>Crude Butadiene</td>\n",
       "      <td>grade</td>\n",
       "      <td>Olefins/Other Chemicals</td>\n",
       "    </tr>\n",
       "    <tr>\n",
       "      <th>3</th>\n",
       "      <td>54af755a090118dcf9b0724c9a4e9f14745c26165385ff...</td>\n",
       "      <td>Crude/Condensates</td>\n",
       "      <td>group</td>\n",
       "      <td>NaN</td>\n",
       "    </tr>\n",
       "    <tr>\n",
       "      <th>4</th>\n",
       "      <td>9fda040ee8844e47b5239051e322d06dd9d2b96f0c3249...</td>\n",
       "      <td>TPAO crude</td>\n",
       "      <td>grade</td>\n",
       "      <td>Medium-Sour</td>\n",
       "    </tr>\n",
       "  </tbody>\n",
       "</table>\n",
       "</div>"
      ],
      "text/plain": [
       "                                                  id               name  \\\n",
       "0  6f11b0724c9a4e85ffa7f1445bc768f054af755a090118...              Crude   \n",
       "1  e1b3d075a9340969322024a35b8c720e5065d8c95a91b6...       Crude Vegoil   \n",
       "2  4fe046d7478c4072b9ecbaa2c03d3b977bbfec5077ee44...    Crude Butadiene   \n",
       "3  54af755a090118dcf9b0724c9a4e9f14745c26165385ff...  Crude/Condensates   \n",
       "4  9fda040ee8844e47b5239051e322d06dd9d2b96f0c3249...         TPAO crude   \n",
       "\n",
       "         layer.0            parent.0.name  \n",
       "0  group_product        Crude/Condensates  \n",
       "1          grade      Biodiesel Feedstock  \n",
       "2          grade  Olefins/Other Chemicals  \n",
       "3          group                      NaN  \n",
       "4          grade              Medium-Sour  "
      ]
     },
     "execution_count": 5,
     "metadata": {},
     "output_type": "execute_result"
    }
   ],
   "source": [
    "crude_search_df.head()"
   ]
  },
  {
   "cell_type": "markdown",
   "metadata": {},
   "source": [
    "Here we can see that there are 18 rows and we only want the first one. So what we can do here is take a mask of the DataFrame where the name column equals crude like this: "
   ]
  },
  {
   "cell_type": "markdown",
   "metadata": {},
   "source": [
    "This mask can be applied to the dataframe to get only records which the condition above is true like this:"
   ]
  },
  {
   "cell_type": "code",
   "execution_count": 6,
   "metadata": {},
   "outputs": [],
   "source": [
    "crude_condenstates_only_mask = crude_search_df['name'] == 'Crude/Condensates'"
   ]
  },
  {
   "cell_type": "code",
   "execution_count": 7,
   "metadata": {},
   "outputs": [],
   "source": [
    "crude_condenstates_only_df = crude_search_df.loc[crude_condenstates_only_mask]"
   ]
  },
  {
   "cell_type": "code",
   "execution_count": 8,
   "metadata": {},
   "outputs": [
    {
     "data": {
      "text/html": [
       "<div>\n",
       "<style scoped>\n",
       "    .dataframe tbody tr th:only-of-type {\n",
       "        vertical-align: middle;\n",
       "    }\n",
       "\n",
       "    .dataframe tbody tr th {\n",
       "        vertical-align: top;\n",
       "    }\n",
       "\n",
       "    .dataframe thead th {\n",
       "        text-align: right;\n",
       "    }\n",
       "</style>\n",
       "<table border=\"1\" class=\"dataframe\">\n",
       "  <thead>\n",
       "    <tr style=\"text-align: right;\">\n",
       "      <th></th>\n",
       "      <th>id</th>\n",
       "      <th>name</th>\n",
       "      <th>layer.0</th>\n",
       "      <th>parent.0.name</th>\n",
       "    </tr>\n",
       "  </thead>\n",
       "  <tbody>\n",
       "    <tr>\n",
       "      <th>3</th>\n",
       "      <td>54af755a090118dcf9b0724c9a4e9f14745c26165385ff...</td>\n",
       "      <td>Crude/Condensates</td>\n",
       "      <td>group</td>\n",
       "      <td>NaN</td>\n",
       "    </tr>\n",
       "  </tbody>\n",
       "</table>\n",
       "</div>"
      ],
      "text/plain": [
       "                                                  id               name  \\\n",
       "3  54af755a090118dcf9b0724c9a4e9f14745c26165385ff...  Crude/Condensates   \n",
       "\n",
       "  layer.0 parent.0.name  \n",
       "3   group           NaN  "
      ]
     },
     "execution_count": 8,
     "metadata": {},
     "output_type": "execute_result"
    }
   ],
   "source": [
    "crude_condenstates_only_df"
   ]
  },
  {
   "cell_type": "markdown",
   "metadata": {},
   "source": [
    "Here im going to show you a little tip to look at the value for one row in a data frame.  if we do the following : `df.iloc[x,y]` you get the value which is in that location in the DataFrame. To get just the product ID which we will be using later we can use `crude_condenstates_only_df.iloc[0,0]` because the value is situated in the first column and the first row. "
   ]
  },
  {
   "cell_type": "code",
   "execution_count": 9,
   "metadata": {},
   "outputs": [
    {
     "data": {
      "text/plain": [
       "'54af755a090118dcf9b0724c9a4e9f14745c26165385ffa7f1445bc768f06f11'"
      ]
     },
     "execution_count": 9,
     "metadata": {},
     "output_type": "execute_result"
    }
   ],
   "source": [
    "crude_condenstates_only_df.iloc[0,0]"
   ]
  },
  {
   "cell_type": "markdown",
   "metadata": {},
   "source": [
    "So now we've got the product ID we want to look at lets find the area we want to conduct our research in."
   ]
  },
  {
   "cell_type": "markdown",
   "metadata": {},
   "source": [
    "# Geographies "
   ]
  },
  {
   "cell_type": "markdown",
   "metadata": {},
   "source": [
    "Just like before we are going to use one of the examples from the documentation and slightly tweak it to what we need for our study. Docs found here: https://vortechsa.github.io/python-sdk/endpoints/geographies/."
   ]
  },
  {
   "cell_type": "code",
   "execution_count": 10,
   "metadata": {
    "scrolled": true
   },
   "outputs": [
    {
     "name": "stdout",
     "output_type": "stream",
     "text": [
      "2020-06-28 08:42:29,340 vortexasdk.operations — INFO — Searching Geographies\n",
      "2020-06-28 08:42:29,341 vortexasdk.client — INFO — Payload: {'term': ['Liverpool', 'Southampton']}\n",
      "2020-06-28 08:42:29,552 vortexasdk.client — INFO — 4 Results to retrieve. Sending 1 post requests in parallel using 6 threads.\n"
     ]
    }
   ],
   "source": [
    "df = Geographies().search(term=[\"Liverpool\", \"Southampton\"]).to_df()"
   ]
  },
  {
   "cell_type": "code",
   "execution_count": 11,
   "metadata": {
    "scrolled": true
   },
   "outputs": [
    {
     "data": {
      "text/html": [
       "<div>\n",
       "<style scoped>\n",
       "    .dataframe tbody tr th:only-of-type {\n",
       "        vertical-align: middle;\n",
       "    }\n",
       "\n",
       "    .dataframe tbody tr th {\n",
       "        vertical-align: top;\n",
       "    }\n",
       "\n",
       "    .dataframe thead th {\n",
       "        text-align: right;\n",
       "    }\n",
       "</style>\n",
       "<table border=\"1\" class=\"dataframe\">\n",
       "  <thead>\n",
       "    <tr style=\"text-align: right;\">\n",
       "      <th></th>\n",
       "      <th>id</th>\n",
       "      <th>name</th>\n",
       "      <th>layer</th>\n",
       "    </tr>\n",
       "  </thead>\n",
       "  <tbody>\n",
       "    <tr>\n",
       "      <th>0</th>\n",
       "      <td>b600e4f54cbdef578b2c6bdd7f508212ee4fb9552991d8...</td>\n",
       "      <td>Liverpool [GB]</td>\n",
       "      <td>[port]</td>\n",
       "    </tr>\n",
       "    <tr>\n",
       "      <th>1</th>\n",
       "      <td>0c69b0aaf2d110e102dd3b3f05d5540b8e5346d27f344a...</td>\n",
       "      <td>Southampton [GB]</td>\n",
       "      <td>[port]</td>\n",
       "    </tr>\n",
       "    <tr>\n",
       "      <th>2</th>\n",
       "      <td>8baf08eff90bf9a1677ca0e55aae7e139bfaf155563b1e...</td>\n",
       "      <td>Liverpool Docks</td>\n",
       "      <td>[terminal]</td>\n",
       "    </tr>\n",
       "    <tr>\n",
       "      <th>3</th>\n",
       "      <td>98db74d66fac18f2b0d8488f46af96fec3fc6edb7bc267...</td>\n",
       "      <td>Liverpool Bulk Liquids</td>\n",
       "      <td>[terminal]</td>\n",
       "    </tr>\n",
       "  </tbody>\n",
       "</table>\n",
       "</div>"
      ],
      "text/plain": [
       "                                                  id                    name  \\\n",
       "0  b600e4f54cbdef578b2c6bdd7f508212ee4fb9552991d8...          Liverpool [GB]   \n",
       "1  0c69b0aaf2d110e102dd3b3f05d5540b8e5346d27f344a...        Southampton [GB]   \n",
       "2  8baf08eff90bf9a1677ca0e55aae7e139bfaf155563b1e...         Liverpool Docks   \n",
       "3  98db74d66fac18f2b0d8488f46af96fec3fc6edb7bc267...  Liverpool Bulk Liquids   \n",
       "\n",
       "        layer  \n",
       "0      [port]  \n",
       "1      [port]  \n",
       "2  [terminal]  \n",
       "3  [terminal]  "
      ]
     },
     "execution_count": 11,
     "metadata": {},
     "output_type": "execute_result"
    }
   ],
   "source": [
    "df"
   ]
  },
  {
   "cell_type": "code",
   "execution_count": 12,
   "metadata": {
    "scrolled": false
   },
   "outputs": [
    {
     "name": "stdout",
     "output_type": "stream",
     "text": [
      "2020-06-28 08:42:29,909 vortexasdk.operations — INFO — Searching Geographies\n",
      "2020-06-28 08:42:29,910 vortexasdk.client — INFO — Payload: {'term': ['China']}\n",
      "2020-06-28 08:42:30,185 vortexasdk.client — INFO — 13 Results to retrieve. Sending 1 post requests in parallel using 6 threads.\n"
     ]
    }
   ],
   "source": [
    "china_search_df = Geographies().search(term=[\"China\"]).to_df()"
   ]
  },
  {
   "cell_type": "code",
   "execution_count": 13,
   "metadata": {
    "scrolled": true
   },
   "outputs": [
    {
     "data": {
      "text/html": [
       "<div>\n",
       "<style scoped>\n",
       "    .dataframe tbody tr th:only-of-type {\n",
       "        vertical-align: middle;\n",
       "    }\n",
       "\n",
       "    .dataframe tbody tr th {\n",
       "        vertical-align: top;\n",
       "    }\n",
       "\n",
       "    .dataframe thead th {\n",
       "        text-align: right;\n",
       "    }\n",
       "</style>\n",
       "<table border=\"1\" class=\"dataframe\">\n",
       "  <thead>\n",
       "    <tr style=\"text-align: right;\">\n",
       "      <th></th>\n",
       "      <th>id</th>\n",
       "      <th>name</th>\n",
       "      <th>layer</th>\n",
       "    </tr>\n",
       "  </thead>\n",
       "  <tbody>\n",
       "    <tr>\n",
       "      <th>0</th>\n",
       "      <td>934c47f36c16a58d68ef5e007e62a23f5f036ee3f3d1f5...</td>\n",
       "      <td>China</td>\n",
       "      <td>[country]</td>\n",
       "    </tr>\n",
       "    <tr>\n",
       "      <th>1</th>\n",
       "      <td>781cacc7033f877caa4b4106d096b74afe006a96391bf5...</td>\n",
       "      <td>South China</td>\n",
       "      <td>[shipping_region]</td>\n",
       "    </tr>\n",
       "    <tr>\n",
       "      <th>2</th>\n",
       "      <td>a63890260e29d859390fd1a23c690181afd4bd152943a0...</td>\n",
       "      <td>North China</td>\n",
       "      <td>[shipping_region]</td>\n",
       "    </tr>\n",
       "    <tr>\n",
       "      <th>3</th>\n",
       "      <td>b5fafce6e20de2dc307fb7e0b89978ee91a49a7b6ec6f5...</td>\n",
       "      <td>China (excl. HK &amp; Macau)</td>\n",
       "      <td>[shipping_region]</td>\n",
       "    </tr>\n",
       "    <tr>\n",
       "      <th>4</th>\n",
       "      <td>9a021f43c397b175ddfff7a91d46ee6e6e16d37e9f9d52...</td>\n",
       "      <td>China Steel Chemical</td>\n",
       "      <td>[terminal]</td>\n",
       "    </tr>\n",
       "  </tbody>\n",
       "</table>\n",
       "</div>"
      ],
      "text/plain": [
       "                                                  id  \\\n",
       "0  934c47f36c16a58d68ef5e007e62a23f5f036ee3f3d1f5...   \n",
       "1  781cacc7033f877caa4b4106d096b74afe006a96391bf5...   \n",
       "2  a63890260e29d859390fd1a23c690181afd4bd152943a0...   \n",
       "3  b5fafce6e20de2dc307fb7e0b89978ee91a49a7b6ec6f5...   \n",
       "4  9a021f43c397b175ddfff7a91d46ee6e6e16d37e9f9d52...   \n",
       "\n",
       "                       name              layer  \n",
       "0                     China          [country]  \n",
       "1               South China  [shipping_region]  \n",
       "2               North China  [shipping_region]  \n",
       "3  China (excl. HK & Macau)  [shipping_region]  \n",
       "4      China Steel Chemical         [terminal]  "
      ]
     },
     "execution_count": 13,
     "metadata": {},
     "output_type": "execute_result"
    }
   ],
   "source": [
    "china_search_df.head(5)"
   ]
  },
  {
   "cell_type": "markdown",
   "metadata": {},
   "source": [
    "Just as before lets make a mask and apply it to the inital DataFrame and get just the Geography we are interested in. \n",
    "\n",
    "This time rather than defining the mask as its own variable we can just write the mask code inside the square brackets. Either way of applying a mask gets the same result it just comes down the personal preference. "
   ]
  },
  {
   "cell_type": "code",
   "execution_count": 14,
   "metadata": {},
   "outputs": [],
   "source": [
    "china_only_df = china_search_df.loc[china_search_df['name']=='China']"
   ]
  },
  {
   "cell_type": "code",
   "execution_count": 15,
   "metadata": {
    "scrolled": false
   },
   "outputs": [
    {
     "data": {
      "text/html": [
       "<div>\n",
       "<style scoped>\n",
       "    .dataframe tbody tr th:only-of-type {\n",
       "        vertical-align: middle;\n",
       "    }\n",
       "\n",
       "    .dataframe tbody tr th {\n",
       "        vertical-align: top;\n",
       "    }\n",
       "\n",
       "    .dataframe thead th {\n",
       "        text-align: right;\n",
       "    }\n",
       "</style>\n",
       "<table border=\"1\" class=\"dataframe\">\n",
       "  <thead>\n",
       "    <tr style=\"text-align: right;\">\n",
       "      <th></th>\n",
       "      <th>id</th>\n",
       "      <th>name</th>\n",
       "      <th>layer</th>\n",
       "    </tr>\n",
       "  </thead>\n",
       "  <tbody>\n",
       "    <tr>\n",
       "      <th>0</th>\n",
       "      <td>934c47f36c16a58d68ef5e007e62a23f5f036ee3f3d1f5...</td>\n",
       "      <td>China</td>\n",
       "      <td>[country]</td>\n",
       "    </tr>\n",
       "  </tbody>\n",
       "</table>\n",
       "</div>"
      ],
      "text/plain": [
       "                                                  id   name      layer\n",
       "0  934c47f36c16a58d68ef5e007e62a23f5f036ee3f3d1f5...  China  [country]"
      ]
     },
     "execution_count": 15,
     "metadata": {},
     "output_type": "execute_result"
    }
   ],
   "source": [
    "china_only_df"
   ]
  },
  {
   "cell_type": "markdown",
   "metadata": {},
   "source": [
    "Just as before we could use `df.iloc[x,y]` to get the geography id from this Dataframe, however there is another option which is to increase the column width settings using this line of code `pd.set_option('max_colwidth', 75)`. Either works and its just down to personal preference. "
   ]
  },
  {
   "cell_type": "code",
   "execution_count": 16,
   "metadata": {},
   "outputs": [
    {
     "data": {
      "text/html": [
       "<div>\n",
       "<style scoped>\n",
       "    .dataframe tbody tr th:only-of-type {\n",
       "        vertical-align: middle;\n",
       "    }\n",
       "\n",
       "    .dataframe tbody tr th {\n",
       "        vertical-align: top;\n",
       "    }\n",
       "\n",
       "    .dataframe thead th {\n",
       "        text-align: right;\n",
       "    }\n",
       "</style>\n",
       "<table border=\"1\" class=\"dataframe\">\n",
       "  <thead>\n",
       "    <tr style=\"text-align: right;\">\n",
       "      <th></th>\n",
       "      <th>id</th>\n",
       "      <th>name</th>\n",
       "      <th>layer</th>\n",
       "    </tr>\n",
       "  </thead>\n",
       "  <tbody>\n",
       "    <tr>\n",
       "      <th>0</th>\n",
       "      <td>934c47f36c16a58d68ef5e007e62a23f5f036ee3f3d1f5f85a48c572b90ad8b2</td>\n",
       "      <td>China</td>\n",
       "      <td>[country]</td>\n",
       "    </tr>\n",
       "  </tbody>\n",
       "</table>\n",
       "</div>"
      ],
      "text/plain": [
       "                                                                 id   name  \\\n",
       "0  934c47f36c16a58d68ef5e007e62a23f5f036ee3f3d1f5f85a48c572b90ad8b2  China   \n",
       "\n",
       "       layer  \n",
       "0  [country]  "
      ]
     },
     "execution_count": 16,
     "metadata": {},
     "output_type": "execute_result"
    }
   ],
   "source": [
    "pd.set_option('max_colwidth', 75)\n",
    "china_only_df"
   ]
  },
  {
   "cell_type": "code",
   "execution_count": 17,
   "metadata": {},
   "outputs": [
    {
     "data": {
      "text/plain": [
       "'934c47f36c16a58d68ef5e007e62a23f5f036ee3f3d1f5f85a48c572b90ad8b2'"
      ]
     },
     "execution_count": 17,
     "metadata": {},
     "output_type": "execute_result"
    }
   ],
   "source": [
    "china_only_df.iloc[0,0]"
   ]
  },
  {
   "cell_type": "markdown",
   "metadata": {},
   "source": [
    "# My floating storage study\n",
    "\n",
    "For my study I want to look at Crude and condensates in currently in floating storage sitated in China and how this has changed over in 2020. So once again Im going to take the code which is provided in the documentation and change it to my specific needs."
   ]
  },
  {
   "cell_type": "code",
   "execution_count": 18,
   "metadata": {
    "scrolled": false
   },
   "outputs": [
    {
     "name": "stdout",
     "output_type": "stream",
     "text": [
      "2020-06-28 08:42:33,408 vortexasdk.operations — INFO — Searching Geographies\n",
      "2020-06-28 08:42:33,409 vortexasdk.client — INFO — Payload: {'term': ['rotterdam']}\n",
      "2020-06-28 08:42:33,637 vortexasdk.client — INFO — 11 Results to retrieve. Sending 1 post requests in parallel using 6 threads.\n",
      "2020-06-28 08:42:35,109 vortexasdk.operations — INFO — Searching Products\n",
      "2020-06-28 08:42:35,111 vortexasdk.client — INFO — Payload: {'term': ['crude'], 'allowTopLevelProducts': True}\n",
      "2020-06-28 08:42:35,300 vortexasdk.client — INFO — 18 Results to retrieve. Sending 1 post requests in parallel using 6 threads.\n",
      "2020-06-28 08:42:36,745 vortexasdk.operations — INFO — Searching CargoTimeSeries\n",
      "2020-06-28 08:42:36,746 vortexasdk.client — INFO — Payload: {'filter_activity': 'loading_state', 'filter_time_min': '2018-01-01T00:00:00.000Z', 'filter_time_max': '2018-12-31T00:00:00.000Z', 'filter_products': ['6f11b0724c9a4e85ffa7f1445bc768f054af755a090118dcf99f14745c261653'], 'filter_origins': ['68faf65af1345067f11dc6723b8da32f00e304a6f33c000118fccd81947deb4e'], 'timeseries_frequency': 'month', 'timeseries_unit': 'bpd', 'timeseries_activity': 'loading_state', 'size': 500}\n"
     ]
    }
   ],
   "source": [
    "rotterdam = [g.id for g in Geographies().search(\"rotterdam\").to_list() if \"port\" in g.layer]\n",
    "crude = [p.id for p in Products().search(\"crude\").to_list() if \"Crude\" == p.name]\n",
    "search_result = CargoTimeSeries().search(\n",
    "    timeseries_unit='bpd',\n",
    "    timeseries_frequency='month',\n",
    "    filter_origins=rotterdam,\n",
    "    filter_products=crude,\n",
    "    filter_activity='loading_state',\n",
    "    filter_time_min=datetime(2018, 1, 1),\n",
    "    filter_time_max=datetime(2018, 12, 31))\n",
    "df = search_result.to_df()"
   ]
  },
  {
   "cell_type": "markdown",
   "metadata": {},
   "source": [
    "Lets break the query above down line by line.\n",
    "\n",
    "1) The first line finds the ID for Rotterdam using the geographies endpoint.\n",
    "\n",
    "2) Then the ID for crude using the products endpoint. \n",
    "\n",
    "3) Then it calls the CargoTimeSeries endpoint\n",
    "\n",
    "4) The unit is set to barrels\n",
    "\n",
    "5) The timeseries frequency is set to a month\n",
    "\n",
    "6) The origin is set to Rotteredams ID which was found in line 1\n",
    "\n",
    "7) The product is crude which was found in line 2\n",
    "\n",
    "8) The filter activity is set to loading state\n",
    "\n",
    "9) The start time for the query is set to the beggining of 2018\n",
    "\n",
    "10) The end time for the query is set to the end of 2018\n",
    "\n",
    "11) The search result is turned into a DataFrame"
   ]
  },
  {
   "cell_type": "markdown",
   "metadata": {},
   "source": [
    "So how can we change that query to get Crude/condestates in floating storage sitatued in China? As we already have the IDs for our geography and product we dont need to call those endpoints in our first 2 lines, instead we can just assign them to variables called `crude_condesates_id` and `china_id`. \n",
    "\n",
    "The we can use the same 3rd line as before as we are calling the same endpoint. For our 4th line I prefer to think of things in termes of tonnes so Im going to change the `timeseries_unit` to be `t`. As id also prefer to look at the time in terms of days rather that months so im going to change the 5th line to say `day` rather than `month`. \n",
    "\n",
    "For the 6th line we are going to change this one slightly, as Im not concered where the crude/ condensates has come from im going to remove the `filter_origins` arguement and replace it which `filter_storage_locations`, and set it to `china_id` which we have defined in the first line.\n",
    "\n",
    "For the 7th line Im going to set the `filter_products` arguement to `crude_condesates_id` which we have defined in the 2nd line.\n",
    "\n",
    "This time for the 8th line Im going to set the `filter_activity` to `'storing_state'`.\n",
    "\n",
    "For the 9th and 10th lines im going to update the dates to the start of this year and todays date.\n",
    "\n",
    "Finally im going to keep the 11th line the same. Lets see what happens"
   ]
  },
  {
   "cell_type": "code",
   "execution_count": 19,
   "metadata": {
    "scrolled": true
   },
   "outputs": [
    {
     "name": "stdout",
     "output_type": "stream",
     "text": [
      "2020-06-28 08:42:39,159 vortexasdk.operations — INFO — Searching CargoTimeSeries\n",
      "2020-06-28 08:42:39,160 vortexasdk.client — INFO — Payload: {'filter_activity': 'storing_state', 'filter_time_min': '2020-01-01T00:00:00.000Z', 'filter_time_max': '2020-06-27T00:00:00.000Z', 'filter_products': ['54af755a090118dcf9b0724c9a4e9f14745c26165385ffa7f1445bc768f06f11'], 'filter_storage_locations': ['934c47f36c16a58d68ef5e007e62a23f5f036ee3f3d1f5f85a48c572b90ad8b2'], 'timeseries_frequency': 'day', 'timeseries_unit': 't', 'timeseries_activity': 'storing_state', 'size': 500}\n"
     ]
    }
   ],
   "source": [
    "china_id = '934c47f36c16a58d68ef5e007e62a23f5f036ee3f3d1f5f85a48c572b90ad8b2'\n",
    "crude_condesates_id = '54af755a090118dcf9b0724c9a4e9f14745c26165385ffa7f1445bc768f06f11'\n",
    "search_result = CargoTimeSeries().search(\n",
    "    timeseries_unit='t',\n",
    "    timeseries_frequency='day',\n",
    "    filter_storage_locations=china_id,\n",
    "    filter_products=crude_condesates_id,\n",
    "    filter_activity='storing_state',\n",
    "    filter_time_min=datetime(2020, 1, 1),\n",
    "    filter_time_max=datetime(2020, 6, 27))\n",
    "df_fs = search_result.to_df()"
   ]
  },
  {
   "cell_type": "code",
   "execution_count": null,
   "metadata": {},
   "outputs": [],
   "source": []
  },
  {
   "cell_type": "code",
   "execution_count": null,
   "metadata": {},
   "outputs": [],
   "source": []
  },
  {
   "cell_type": "code",
   "execution_count": null,
   "metadata": {},
   "outputs": [],
   "source": []
  },
  {
   "cell_type": "markdown",
   "metadata": {},
   "source": [
    "# Ignore down here for understanding this is just to check if the graph is right"
   ]
  },
  {
   "cell_type": "code",
   "execution_count": 20,
   "metadata": {},
   "outputs": [],
   "source": [
    "\n",
    "\n",
    "# rename columns\n",
    "df_fs = df_fs.rename(columns={'key': 'date',\n",
    "                              'value': 't',\n",
    "                              'count': 'number_of_cargo_movements'})\n",
    "\n",
    "# remove time zone from timestamp\n",
    "df_fs['date'] = pd.to_datetime(df_fs['date']).dt.tz_localize(None)"
   ]
  },
  {
   "cell_type": "code",
   "execution_count": 21,
   "metadata": {
    "scrolled": true
   },
   "outputs": [
    {
     "data": {
      "image/png": "[encoded data removed]",
      "text/plain": [
       "<Figure size 432x288 with 1 Axes>"
      ]
     },
     "metadata": {
      "needs_background": "light"
     },
     "output_type": "display_data"
    }
   ],
   "source": [
    "floating_storage = df_fs.set_index('date')['t'] / 1000\n",
    "floating_storage.plot(title='Chinese crude oil floating storage', grid=True)\n",
    "plt.xlabel('date')\n",
    "plt.ylabel('kt');"
   ]
  },
  {
   "cell_type": "code",
   "execution_count": null,
   "metadata": {},
   "outputs": [],
   "source": []
  },
  {
   "cell_type": "code",
   "execution_count": null,
   "metadata": {},
   "outputs": [],
   "source": []
  }
 ],
 "metadata": {
  "kernelspec": {
   "display_name": "python-sdk",
   "language": "python",
   "name": "python-sdk"
  },
  "language_info": {
   "codemirror_mode": {
    "name": "ipython",
    "version": 3
   },
   "file_extension": ".py",
   "mimetype": "text/x-python",
   "name": "python",
   "nbconvert_exporter": "python",
   "pygments_lexer": "ipython3",
   "version": "3.8.2"
  }
 },
 "nbformat": 4,
 "nbformat_minor": 4
}
