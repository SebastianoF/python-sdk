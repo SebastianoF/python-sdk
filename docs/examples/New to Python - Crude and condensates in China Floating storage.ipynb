{
 "cells": [
  {
   "cell_type": "markdown",
   "metadata": {},
   "source": [
    "This notebook was generated on 14 April 2020. Vortexa is constantly improving the quality of our data and models, and consequently some historical data points may change causing future runs of the notebook to yield different results.\n",
    "\n",
    "Note that this notebook fetches and analyses public data from the website of U.S. Energy Information Admistration (EIA, www.eia.gov). Vortexa is not responsible for any third-party content.\n",
    "\n",
    "The version of Vortexa SDK used to generate this notebook was:\n",
    "\n",
    "vortexasdk-0.21.1\n",
    "\n",
    "The following packages were installed to run this notebook:\n",
    "\n",
    "pandas==1.2.0\n",
    "matplotlib==3.2.1\n",
    "\n",
    "\n",
    "This notebook has been written using Vortexa Pyt"
   ]
  },
  {
   "cell_type": "code",
   "execution_count": 2,
   "metadata": {},
   "outputs": [
    {
     "name": "stdout",
     "output_type": "stream",
     "text": [
      "apiclient==1.0.4\n",
      "appnope==0.1.0\n",
      "attrs==19.3.0\n",
      "backcall==0.1.0\n",
      "bcrypt==3.1.7\n",
      "beautifulsoup4==4.9.1\n",
      "bleach==3.1.3\n",
      "boto3==1.12.21\n",
      "botocore==1.15.21\n",
      "cachetools==4.1.0\n",
      "certifi==2019.11.28\n",
      "cffi==1.14.0\n",
      "chardet==3.0.4\n",
      "click==7.1.1\n",
      "click-plugins==1.1.1\n",
      "cligj==0.5.0\n",
      "cryptography==2.9.2\n",
      "cycler==0.10.0\n",
      "decorator==4.4.2\n",
      "defusedxml==0.6.0\n",
      "docutils==0.15.2\n",
      "entrypoints==0.3\n",
      "Fiona==1.8.13.post1\n",
      "flatten-dict==0.2.0\n",
      "fsspec==0.7.3\n",
      "geopandas==0.7.0\n",
      "google==2.0.3\n",
      "google-api-core==1.21.0\n",
      "google-api-python-client==1.9.3\n",
      "google-auth==1.18.0\n",
      "google-auth-httplib2==0.0.3\n",
      "google-search-results==1.8.3\n",
      "googleapis-common-protos==1.52.0\n",
      "googlemaps==4.3.1\n",
      "httplib2==0.18.1\n",
      "idna==2.8\n",
      "ipykernel==5.2.0\n",
      "ipython==7.13.0\n",
      "ipython-genutils==0.2.0\n",
      "ipywidgets==7.5.1\n",
      "jedi==0.16.0\n",
      "Jinja2==2.11.1\n",
      "jmespath==0.9.5\n",
      "jsons==1.0.0\n",
      "jsonschema==3.2.0\n",
      "jupyter==1.0.0\n",
      "jupyter-client==6.1.0\n",
      "jupyter-console==6.1.0\n",
      "jupyter-core==4.6.3\n",
      "kiwisolver==1.2.0\n",
      "logzero==1.5.0\n",
      "MarkupSafe==1.1.1\n",
      "matplotlib==3.2.2\n",
      "mistune==0.8.4\n",
      "munch==2.5.0\n",
      "nbconvert==5.6.1\n",
      "nbformat==5.0.4\n",
      "notebook==6.0.3\n",
      "numexpr==2.7.1\n",
      "numpy==1.18.1\n",
      "pandas==0.25.2\n",
      "pandocfilters==1.4.2\n",
      "paramiko==2.7.1\n",
      "parso==0.6.2\n",
      "pathlib2==2.3.5\n",
      "pexpect==4.8.0\n",
      "pgeocode==0.2.1\n",
      "pickleshare==0.7.5\n",
      "prometheus-client==0.7.1\n",
      "prompt-toolkit==3.0.4\n",
      "protobuf==3.12.2\n",
      "psycopg2-binary==2.8.4\n",
      "ptyprocess==0.6.0\n",
      "pyarrow==0.17.0\n",
      "pyasn1==0.4.8\n",
      "pyasn1-modules==0.2.8\n",
      "pycparser==2.20\n",
      "pycryptodomex==3.9.7\n",
      "Pygments==2.6.1\n",
      "PyNaCl==1.4.0\n",
      "pyparsing==2.4.7\n",
      "pyproj==2.5.0\n",
      "pyrsistent==0.15.7\n",
      "pysftp==0.2.9\n",
      "python-dateutil==2.8.1\n",
      "pytz==2019.3\n",
      "pyzmq==19.0.0\n",
      "qtconsole==4.7.1\n",
      "QtPy==1.9.0\n",
      "requests==2.22.0\n",
      "rsa==4.6\n",
      "Rtree==0.9.4\n",
      "s3fs==0.4.2\n",
      "s3transfer==0.3.3\n",
      "Send2Trash==1.5.0\n",
      "Shapely==1.7.0\n",
      "six==1.14.0\n",
      "soupsieve==2.0.1\n",
      "SQLAlchemy==1.3.15\n",
      "tables==3.6.1\n",
      "tabulate==0.8.5\n",
      "terminado==0.8.3\n",
      "testpath==0.4.4\n",
      "tornado==6.0.4\n",
      "tqdm==4.38.0\n",
      "traitlets==4.3.3\n",
      "typish==1.2.0\n",
      "uritemplate==3.0.1\n",
      "urllib3==1.25.8\n",
      "vortexa-utils-aws==1\n",
      "vortexa-utils-database==0.0.1\n",
      "vortexasdk==0.21.1\n",
      "wcwidth==0.1.9\n",
      "webencodings==0.5.1\n",
      "widgetsnbextension==3.5.1\n",
      "Note: you may need to restart the kernel to use updated packages.\n"
     ]
    }
   ],
   "source": [
    "pip freeze"
   ]
  },
  {
   "cell_type": "code",
   "execution_count": null,
   "metadata": {},
   "outputs": [],
   "source": [
    "import vortexasdk as v\n",
    "print(v.__version__)"
   ]
  },
  {
   "cell_type": "code",
   "execution_count": null,
   "metadata": {},
   "outputs": [],
   "source": [
    "from vortexasdk import Products, CargoTimeSeries, Geographies\n",
    "from datetime import datetime\n",
    "import pandas as pd\n",
    "import matplotlib.pyplot as plt"
   ]
  },
  {
   "cell_type": "markdown",
   "metadata": {},
   "source": [
    "# Products tutorial"
   ]
  },
  {
   "cell_type": "markdown",
   "metadata": {},
   "source": [
    "First I’m going to show you how to get the Vortexa ID for a product you are interested in studying. There are many ways of doing this, and today I’m going to show you one option I have used."
   ]
  },
  {
   "cell_type": "markdown",
   "metadata": {},
   "source": [
    "From the examples in the docs found here: https://vortechsa.github.io/python-sdk/endpoints/products/. We can see an example line of code which shows us how to look in for different products in a list"
   ]
  },
  {
   "cell_type": "code",
   "execution_count": null,
   "metadata": {},
   "outputs": [],
   "source": [
    "df = Products().search(term=['diesel', 'fuel oil', 'grane']).to_df()"
   ]
  },
  {
   "cell_type": "code",
   "execution_count": null,
   "metadata": {},
   "outputs": [],
   "source": [
    "df.head()"
   ]
  },
  {
   "cell_type": "markdown",
   "metadata": {},
   "source": [
    "For my study I want to focus on crude/condensates so I am going to modify the list which contains oil product names like this: "
   ]
  },
  {
   "cell_type": "code",
   "execution_count": null,
   "metadata": {
    "scrolled": false
   },
   "outputs": [],
   "source": [
    "crude_search_df = Products().search(term=['crude']).to_df()"
   ]
  },
  {
   "cell_type": "code",
   "execution_count": null,
   "metadata": {
    "scrolled": true
   },
   "outputs": [],
   "source": [
    "crude_search_df"
   ]
  },
  {
   "cell_type": "markdown",
   "metadata": {},
   "source": [
    "Here we can see that there are 18 rows and we only want the id where the name column is equal to `Crude/Condensates\t`. So we can query the DataFrame like this to get just row of the DataFrame we are interested in. "
   ]
  },
  {
   "cell_type": "code",
   "execution_count": null,
   "metadata": {
    "scrolled": true
   },
   "outputs": [],
   "source": [
    "crude_search_df.query(\"name=='Crude/Condensates'\")"
   ]
  },
  {
   "cell_type": "markdown",
   "metadata": {},
   "source": [
    "If you look at the end of the id you can see it finishes with `...` this suggests that we cant see the full legnth of the column. If we increase the width options of the row like this `pd.set_option('max_colwidth', 75)` and run the same query of the dataframe we can see the full id. The rest of the notebook will have the column width settings we have defined here so we will not need to do it again. "
   ]
  },
  {
   "cell_type": "code",
   "execution_count": null,
   "metadata": {},
   "outputs": [],
   "source": [
    "pd.set_option('max_colwidth', 75)\n",
    "crude_search_df.query(\"name=='Crude/Condensates'\")"
   ]
  },
  {
   "cell_type": "markdown",
   "metadata": {},
   "source": [
    "# Geographies "
   ]
  },
  {
   "cell_type": "markdown",
   "metadata": {},
   "source": [
    "Just like before we are going to use one of the examples from the documentation and slightly tweak it to what we need for our study. Docs found here: https://vortechsa.github.io/python-sdk/endpoints/geographies/."
   ]
  },
  {
   "cell_type": "code",
   "execution_count": null,
   "metadata": {
    "scrolled": true
   },
   "outputs": [],
   "source": [
    "df = Geographies().search(term=[\"Liverpool\", \"Southampton\"]).to_df()"
   ]
  },
  {
   "cell_type": "code",
   "execution_count": null,
   "metadata": {
    "scrolled": true
   },
   "outputs": [],
   "source": [
    "df"
   ]
  },
  {
   "cell_type": "code",
   "execution_count": null,
   "metadata": {
    "scrolled": false
   },
   "outputs": [],
   "source": [
    "china_search_df = Geographies().search(term=[\"China\"]).to_df()"
   ]
  },
  {
   "cell_type": "code",
   "execution_count": null,
   "metadata": {
    "scrolled": false
   },
   "outputs": [],
   "source": [
    "china_search_df.head(5)"
   ]
  },
  {
   "cell_type": "code",
   "execution_count": null,
   "metadata": {},
   "outputs": [],
   "source": [
    "china_search_df.query(\"name=='China'\")"
   ]
  },
  {
   "cell_type": "markdown",
   "metadata": {},
   "source": [
    "# Chinese floating storage study\n",
    "\n",
    "For my study I want to look at Crude and condensates in currently in floating storage sitated in China and how this has changed over in 2020. So once again Im going to take the code which is provided in the documentation and change it to my specific needs."
   ]
  },
  {
   "cell_type": "markdown",
   "metadata": {},
   "source": [
    "Lets break down the query bellow line by line.\n",
    "\n",
    "Together lets break this down line by line to understand whats going on. \n",
    "\n",
    "1) The first line finds the ID for Rotterdam using the geographies endpoint and assigns it to a variable called `rotterdam`\n",
    "\n",
    "2) Then the ID for crude using the products endpoint and assigns it to a variable called `crude`\n",
    "\n",
    "3) Then it calls the CargoTimeSeries endpoint\n",
    "\n",
    "4) The `timeseries_unit` arguement is set to `bpd` which means the unit is set to barrels\n",
    "\n",
    "5) The `timeseries_frequency` arguement is set to `month` which means the time scale is set the months\n",
    "\n",
    "6) The `filter_origins` arguement is set to `rotterdam` the variable defined in the 1st line\n",
    "\n",
    "7) The `filter_products` arguement is set to `crude` which was defined in the 2nd line\n",
    "\n",
    "8) The `filter_activity` argument is set to `loading_state`. \n",
    "\n",
    "9) The `filter_time_min`, the start time for the query is set to the beginning of 2018\n",
    "\n",
    "10) The `filter_time_max`, the end time for the query is set to the end of 2018\n",
    "\n",
    "11) The search result is turned into a DataFrame\n"
   ]
  },
  {
   "cell_type": "code",
   "execution_count": null,
   "metadata": {
    "scrolled": false
   },
   "outputs": [],
   "source": [
    "rotterdam = [g.id for g in Geographies().search(\"rotterdam\").to_list() if \"port\" in g.layer]\n",
    "crude = [p.id for p in Products().search(\"crude\").to_list() if \"Crude\" == p.name]\n",
    "search_result = CargoTimeSeries().search(\n",
    "    timeseries_unit='bpd',\n",
    "    timeseries_frequency='month',\n",
    "    filter_origins=rotterdam,\n",
    "    filter_products=crude,\n",
    "    filter_activity='loading_state',\n",
    "    filter_time_min=datetime(2018, 1, 1),\n",
    "    filter_time_max=datetime(2018, 12, 31))\n",
    "df = search_result.to_df()"
   ]
  },
  {
   "cell_type": "markdown",
   "metadata": {},
   "source": [
    "So how can we change that query to get Crude/condestates in floating storage sitatued in China? \n",
    "As we already have the IDs for our geography and product we dont need to call those endpoints in our first 2 lines.\n",
    "\n",
    "1) We can assign the ID for China to a variable called `china_id` using the ID we found earlier in the notebook\n",
    "\n",
    "2) Assign the ID for the Crude/Condensates to a variable called `crude_condesates_id`\n",
    "\n",
    "3) We keep this the same as before as we are calling the same endpoint.\n",
    "\n",
    "4) For our 4th line, I prefer to think of things in terms of tonnes so I’m going to change the timeseries_unit to be `t`.\n",
    "\n",
    "5) For the 5th line, I’m going to change `month` to `day` as I'd like to see the change on a daily basis\n",
    "\n",
    "6) Here I’m going to change this one slightly, as I’m not concerned where the crude/ condensates have come from I’m going to remove the `filter_origins` argument and replace it which `filter_storage_locations`, and set it to `china_id` which we have defined in the first line.\n",
    "\n",
    "7) Set the `filter_products` argument to `crude_condesates_id` which we have defined in the 2nd line.\n",
    "\n",
    "8) This time for the 8th line I’m going to set the `filter_activity` to `'storing_state'`.\n",
    "\n",
    "9) Here I have changed the date to be at the start of this year\n",
    "\n",
    "10) Using `datetime.today().date()` we get today’s date\n",
    "\n",
    "11) Finally, I’m going to keep the 11th line the same. As I would like the results to be a DataFrame just like in the first query\n",
    "\n",
    "\n",
    "Lets see what happens"
   ]
  },
  {
   "cell_type": "code",
   "execution_count": null,
   "metadata": {
    "scrolled": false
   },
   "outputs": [],
   "source": [
    "china_id = '934c47f36c16a58d68ef5e007e62a23f5f036ee3f3d1f5f85a48c572b90ad8b2'\n",
    "crude_condesates_id = '54af755a090118dcf9b0724c9a4e9f14745c26165385ffa7f1445bc768f06f11'\n",
    "search_result = CargoTimeSeries().search(\n",
    "    timeseries_unit='t',\n",
    "    timeseries_frequency='day',\n",
    "    filter_storage_locations=china_id,\n",
    "    filter_products=crude_condesates_id,\n",
    "    filter_activity='storing_state',\n",
    "    filter_time_min=datetime(2020, 1, 1),\n",
    "    filter_time_max=datetime.today().date())\n",
    "df_fs = search_result.to_df()"
   ]
  },
  {
   "cell_type": "code",
   "execution_count": null,
   "metadata": {},
   "outputs": [],
   "source": [
    "df_fs"
   ]
  },
  {
   "cell_type": "markdown",
   "metadata": {},
   "source": [
    "# Displaying this data in a graph"
   ]
  },
  {
   "cell_type": "markdown",
   "metadata": {},
   "source": [
    "So here Im to show you how to display the graph in a notebook but first I'm going to show you how to export the data as a CSV so you can look at the data in Excel or Google Sheets.\n",
    "\n",
    "To export the DataFrame to your desktop as a CSV add `.to_csv('~/Desktop/chinese_floating_storage.csv')` to the DataFrame in a cell.\n",
    "\n",
    "Like this: "
   ]
  },
  {
   "cell_type": "code",
   "execution_count": null,
   "metadata": {},
   "outputs": [],
   "source": [
    "df_fs.to_csv('~/Desktop/chinese_floating_storage.csv')"
   ]
  },
  {
   "cell_type": "markdown",
   "metadata": {},
   "source": [
    "Now if you look on your desktop there should be a file called `chinese_floating_storage.csv`, and you'll be able to open this file in excel. "
   ]
  },
  {
   "cell_type": "markdown",
   "metadata": {},
   "source": [
    "Using a python library called matplotlib that we imported at the top of this notebook you can also display the results of the query like this: "
   ]
  },
  {
   "cell_type": "code",
   "execution_count": null,
   "metadata": {},
   "outputs": [],
   "source": [
    "# rename columns\n",
    "df_fs = df_fs.rename(columns={'key': 'date',\n",
    "                              'value': 't',\n",
    "                              'count': 'number_of_cargo_movements'})\n",
    "\n",
    "# remove time zone from timestamp\n",
    "df_fs['date'] = pd.to_datetime(df_fs['date']).dt.tz_localize(None)"
   ]
  },
  {
   "cell_type": "code",
   "execution_count": null,
   "metadata": {
    "scrolled": true
   },
   "outputs": [],
   "source": [
    "floating_storage = df_fs.set_index('date')['t'] / 1000\n",
    "floating_storage.plot(title='Chinese crude oil floating storage', grid=True)\n",
    "plt.xlabel('date')\n",
    "plt.ylabel('kt');"
   ]
  },
  {
   "cell_type": "code",
   "execution_count": null,
   "metadata": {},
   "outputs": [],
   "source": []
  }
 ],
 "metadata": {
  "kernelspec": {
   "display_name": "python-sdk",
   "language": "python",
   "name": "python-sdk"
  },
  "language_info": {
   "codemirror_mode": {
    "name": "ipython",
    "version": 3
   },
   "file_extension": ".py",
   "mimetype": "text/x-python",
   "name": "python",
   "nbconvert_exporter": "python",
   "pygments_lexer": "ipython3",
   "version": "3.8.2"
  }
 },
 "nbformat": 4,
 "nbformat_minor": 4
}
