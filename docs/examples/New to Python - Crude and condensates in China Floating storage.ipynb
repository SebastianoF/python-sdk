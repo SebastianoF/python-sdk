{
 "cells": [
  {
   "cell_type": "raw",
   "metadata": {},
   "source": [
    "This notebook was generated on 14 July 2020. Vortexa is constantly improving the quality of our data and models, and consequently some historical data points may change causing future runs of the notebook to yield different results.\n",
    "\n",
    "The version of Vortexa SDK used to generate this notebook was:\n",
    "\n",
    "vortexasdk-0.21.1\n",
    "\n",
    "The following packages were installed to run this notebook:\n",
    "\n",
    "pandas==0.25.2\n",
    "matplotlib==3.2.2"
   ]
  },
  {
   "cell_type": "code",
   "execution_count": null,
   "metadata": {},
   "outputs": [],
   "source": [
    "from vortexasdk import Products, CargoTimeSeries, Geographies\n",
    "from datetime import datetime\n",
    "import pandas as pd\n",
    "import matplotlib.pyplot as plt"
   ]
  },
  {
   "cell_type": "markdown",
   "metadata": {},
   "source": [
    "# Products tutorial"
   ]
  },
  {
   "cell_type": "markdown",
   "metadata": {},
   "source": [
    "First I’m going to show you how to get the Vortexa ID for a product you are interested in studying. There are many ways of doing this, and today I’m going to show you one option I have used."
   ]
  },
  {
   "cell_type": "markdown",
   "metadata": {},
   "source": [
    "From the examples in the docs found here: https://vortechsa.github.io/python-sdk/endpoints/products/. We can see an example line of code which shows us how to look in for different products in a list"
   ]
  },
  {
   "cell_type": "code",
   "execution_count": null,
   "metadata": {},
   "outputs": [],
   "source": [
    "df = Products().search(term=['diesel', 'fuel oil', 'grane']).to_df()"
   ]
  },
  {
   "cell_type": "code",
   "execution_count": null,
   "metadata": {},
   "outputs": [],
   "source": [
    "df.head()"
   ]
  },
  {
   "cell_type": "markdown",
   "metadata": {},
   "source": [
    "For my study I want to focus on crude/condensates so I am going to modify the list which contains oil product names like this: "
   ]
  },
  {
   "cell_type": "code",
   "execution_count": null,
   "metadata": {
    "scrolled": false
   },
   "outputs": [],
   "source": [
    "crude_search_df = Products().search(term=['crude']).to_df()"
   ]
  },
  {
   "cell_type": "code",
   "execution_count": null,
   "metadata": {
    "scrolled": true
   },
   "outputs": [],
   "source": [
    "crude_search_df"
   ]
  },
  {
   "cell_type": "markdown",
   "metadata": {},
   "source": [
    "Here we can see that there are 18 rows and we only want the id where the name column is equal to `Crude/Condensates\t`. So we can query the DataFrame like this to get just row of the DataFrame we are interested in. "
   ]
  },
  {
   "cell_type": "code",
   "execution_count": null,
   "metadata": {
    "scrolled": true
   },
   "outputs": [],
   "source": [
    "crude_search_df.query(\"name=='Crude/Condensates'\")"
   ]
  },
  {
   "cell_type": "markdown",
   "metadata": {},
   "source": [
    "If you look at the end of the id you can see it finishes with `...` this suggests that we cant see the full legnth of the column. If we increase the width options of the row like this `pd.set_option('max_colwidth', 75)` and run the same query of the dataframe we can see the full id. The rest of the notebook will have the column width settings we have defined here so we will not need to do it again. "
   ]
  },
  {
   "cell_type": "code",
   "execution_count": null,
   "metadata": {},
   "outputs": [],
   "source": [
    "pd.set_option('max_colwidth', 75)\n",
    "crude_search_df.query(\"name=='Crude/Condensates'\")"
   ]
  },
  {
   "cell_type": "markdown",
   "metadata": {},
   "source": [
    "# Geographies "
   ]
  },
  {
   "cell_type": "markdown",
   "metadata": {},
   "source": [
    "Just like before we are going to use one of the examples from the documentation and slightly tweak it to what we need for our study. Docs found here: https://vortechsa.github.io/python-sdk/endpoints/geographies/."
   ]
  },
  {
   "cell_type": "code",
   "execution_count": null,
   "metadata": {
    "scrolled": true
   },
   "outputs": [],
   "source": [
    "df = Geographies().search(term=[\"Liverpool\", \"Southampton\"]).to_df()"
   ]
  },
  {
   "cell_type": "code",
   "execution_count": null,
   "metadata": {
    "scrolled": true
   },
   "outputs": [],
   "source": [
    "df"
   ]
  },
  {
   "cell_type": "code",
   "execution_count": null,
   "metadata": {
    "scrolled": false
   },
   "outputs": [],
   "source": [
    "china_search_df = Geographies().search(term=[\"China\"]).to_df()"
   ]
  },
  {
   "cell_type": "code",
   "execution_count": null,
   "metadata": {
    "scrolled": false
   },
   "outputs": [],
   "source": [
    "china_search_df.head(5)"
   ]
  },
  {
   "cell_type": "code",
   "execution_count": null,
   "metadata": {},
   "outputs": [],
   "source": [
    "china_search_df.query(\"name=='China'\")"
   ]
  },
  {
   "cell_type": "markdown",
   "metadata": {},
   "source": [
    "# Chinese floating storage study\n",
    "\n",
    "For my study I want to look at Crude and condensates in currently in floating storage sitated in China and how this has changed over in 2020. So once again Im going to take the code which is provided in the documentation and change it to my specific needs."
   ]
  },
  {
   "cell_type": "markdown",
   "metadata": {},
   "source": [
    "Lets break down the query bellow line by line.\n",
    "\n",
    "Together lets break this down line by line to understand whats going on. \n",
    "\n",
    "1) The first line finds the ID for Rotterdam using the geographies endpoint and assigns it to a variable called `rotterdam`\n",
    "\n",
    "2) Then the ID for crude using the products endpoint and assigns it to a variable called `crude`\n",
    "\n",
    "3) Then it calls the CargoTimeSeries endpoint\n",
    "\n",
    "4) The `timeseries_unit` arguement is set to `bpd` which means the unit is set to barrels\n",
    "\n",
    "5) The `timeseries_frequency` arguement is set to `month` which means the time scale is set the months\n",
    "\n",
    "6) The `filter_origins` arguement is set to `rotterdam` the variable defined in the 1st line\n",
    "\n",
    "7) The `filter_products` arguement is set to `crude` which was defined in the 2nd line\n",
    "\n",
    "8) The `filter_activity` argument is set to `loading_state`. \n",
    "\n",
    "9) The `filter_time_min`, the start time for the query is set to the beginning of 2018\n",
    "\n",
    "10) The `filter_time_max`, the end time for the query is set to the end of 2018\n",
    "\n",
    "11) The search result is turned into a DataFrame\n"
   ]
  },
  {
   "cell_type": "code",
   "execution_count": null,
   "metadata": {
    "scrolled": false
   },
   "outputs": [],
   "source": [
    "rotterdam = [g.id for g in Geographies().search(\"rotterdam\").to_list() if \"port\" in g.layer]\n",
    "crude = [p.id for p in Products().search(\"crude\").to_list() if \"Crude\" == p.name]\n",
    "search_result = CargoTimeSeries().search(\n",
    "    timeseries_unit='bpd',\n",
    "    timeseries_frequency='month',\n",
    "    filter_origins=rotterdam,\n",
    "    filter_products=crude,\n",
    "    filter_activity='loading_state',\n",
    "    filter_time_min=datetime(2018, 1, 1),\n",
    "    filter_time_max=datetime(2018, 12, 31))\n",
    "df = search_result.to_df()"
   ]
  },
  {
   "cell_type": "markdown",
   "metadata": {},
   "source": [
    "So how can we change that query to get Crude/condestates in floating storage sitatued in China? \n",
    "As we already have the IDs for our geography and product we dont need to call those endpoints in our first 2 lines.\n",
    "\n",
    "1) We can assign the ID for China to a variable called `china_id` using the ID we found earlier in the notebook\n",
    "\n",
    "2) Assign the ID for the Crude/Condensates to a variable called `crude_condesates_id`\n",
    "\n",
    "3) We keep this the same as before as we are calling the same endpoint.\n",
    "\n",
    "4) For our 4th line, I prefer to think of things in terms of tonnes so I’m going to change the timeseries_unit to be `t`.\n",
    "\n",
    "5) For the 5th line, I’m going to change `month` to `day` as I'd like to see the change on a daily basis\n",
    "\n",
    "6) Here I’m going to change this one slightly, as I’m not concerned where the crude/ condensates have come from I’m going to remove the `filter_origins` argument and replace it which `filter_storage_locations`, and set it to `china_id` which we have defined in the first line.\n",
    "\n",
    "7) Set the `filter_products` argument to `crude_condesates_id` which we have defined in the 2nd line.\n",
    "\n",
    "8) This time for the 8th line I’m going to set the `filter_activity` to `'storing_state'`.\n",
    "\n",
    "9) Here I have changed the date to be at the start of this year\n",
    "\n",
    "10) Using `datetime.today().date()` we get today’s date\n",
    "\n",
    "11) Finally, I’m going to keep the 11th line the same. As I would like the results to be a DataFrame just like in the first query\n",
    "\n",
    "\n",
    "Lets see what happens"
   ]
  },
  {
   "cell_type": "code",
   "execution_count": null,
   "metadata": {
    "scrolled": false
   },
   "outputs": [],
   "source": [
    "china_id = '934c47f36c16a58d68ef5e007e62a23f5f036ee3f3d1f5f85a48c572b90ad8b2'\n",
    "crude_condesates_id = '54af755a090118dcf9b0724c9a4e9f14745c26165385ffa7f1445bc768f06f11'\n",
    "search_result = CargoTimeSeries().search(\n",
    "    timeseries_unit='t',\n",
    "    timeseries_frequency='day',\n",
    "    filter_storage_locations=china_id,\n",
    "    filter_products=crude_condesates_id,\n",
    "    filter_activity='storing_state',\n",
    "    filter_time_min=datetime(2020, 1, 1),\n",
    "    filter_time_max=datetime.today().date())\n",
    "df_fs = search_result.to_df()"
   ]
  },
  {
   "cell_type": "code",
   "execution_count": null,
   "metadata": {},
   "outputs": [],
   "source": [
    "df_fs"
   ]
  },
  {
   "cell_type": "markdown",
   "metadata": {},
   "source": [
    "# Displaying this data in a graph"
   ]
  },
  {
   "cell_type": "markdown",
   "metadata": {},
   "source": [
    "So here Im to show you how to display the graph in a notebook but first I'm going to show you how to export the data as a CSV so you can look at the data in Excel or Google Sheets.\n",
    "\n",
    "To export the DataFrame to your desktop as a CSV add `.to_csv('~/Desktop/chinese_floating_storage.csv')` to the DataFrame in a cell.\n",
    "\n",
    "Like this: "
   ]
  },
  {
   "cell_type": "code",
   "execution_count": null,
   "metadata": {},
   "outputs": [],
   "source": [
    "df_fs.to_csv('~/Desktop/chinese_floating_storage.csv')"
   ]
  },
  {
   "cell_type": "markdown",
   "metadata": {},
   "source": [
    "Now if you look on your desktop there should be a file called `chinese_floating_storage.csv`, and you'll be able to open this file in excel. "
   ]
  },
  {
   "cell_type": "markdown",
   "metadata": {},
   "source": [
    "Using a python library called matplotlib that we imported at the top of this notebook you can also display the results of the query like this: "
   ]
  },
  {
   "cell_type": "code",
   "execution_count": null,
   "metadata": {},
   "outputs": [],
   "source": [
    "# rename columns\n",
    "df_fs = df_fs.rename(columns={'key': 'date',\n",
    "                              'value': 't',\n",
    "                              'count': 'number_of_cargo_movements'})\n",
    "\n",
    "# remove time zone from timestamp\n",
    "df_fs['date'] = pd.to_datetime(df_fs['date']).dt.tz_localize(None)"
   ]
  },
  {
   "cell_type": "code",
   "execution_count": null,
   "metadata": {
    "scrolled": true
   },
   "outputs": [],
   "source": [
    "floating_storage = df_fs.set_index('date')['t'] / 1000\n",
    "floating_storage.plot(title='Chinese crude oil floating storage', grid=True)\n",
    "plt.xlabel('date')\n",
    "plt.ylabel('kt');"
   ]
  },
  {
   "cell_type": "code",
   "execution_count": null,
   "metadata": {},
   "outputs": [],
   "source": []
  }
 ],
 "metadata": {
  "kernelspec": {
   "display_name": "python-sdk",
   "language": "python",
   "name": "python-sdk"
  },
  "language_info": {
   "codemirror_mode": {
    "name": "ipython",
    "version": 3
   },
   "file_extension": ".py",
   "mimetype": "text/x-python",
   "name": "python",
   "nbconvert_exporter": "python",
   "pygments_lexer": "ipython3",
   "version": "3.8.2"
  }
 },
 "nbformat": 4,
 "nbformat_minor": 4
}
