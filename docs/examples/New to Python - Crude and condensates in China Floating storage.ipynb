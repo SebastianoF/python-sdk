{
 "cells": [
  {
   "cell_type": "markdown",
   "metadata": {},
   "source": [
    "Contributing Jupyter Notebooks\n",
    "Please include the version of the SDK and any other packages used to generate the Jupyter Notebook at the start of the notebook. This helps others to reproduce your results in the future."
   ]
  },
  {
   "cell_type": "code",
   "execution_count": 1,
   "metadata": {},
   "outputs": [],
   "source": [
    "from vortexasdk import Products, CargoTimeSeries, Geographies\n",
    "from datetime import datetime\n",
    "import pandas as pd\n",
    "import matplotlib.pyplot as plt"
   ]
  },
  {
   "cell_type": "markdown",
   "metadata": {},
   "source": [
    "# Products tutorial"
   ]
  },
  {
   "cell_type": "markdown",
   "metadata": {},
   "source": [
    "First I’m going to show you how to get the Vortexa ID for a product you are interested in studying. There are many ways of doing this, and today I’m going to show you one option I have used."
   ]
  },
  {
   "cell_type": "markdown",
   "metadata": {},
   "source": [
    "From the examples in the docs found here: https://vortechsa.github.io/python-sdk/endpoints/products/. We can see an example line of code which shows us how to look in for different products in a list"
   ]
  },
  {
   "cell_type": "code",
   "execution_count": 2,
   "metadata": {},
   "outputs": [
    {
     "name": "stdout",
     "output_type": "stream",
     "text": [
      "2020-07-14 08:48:20,377 vortexasdk.operations — INFO — Searching Products\n",
      "2020-07-14 08:48:20,379 vortexasdk.client — INFO — Creating new VortexaClient\n",
      "2020-07-14 08:48:20,656 vortexasdk.client — WARNING — You are using vortexasdk version 0.21.1, however version 0.23.0 is available.\n",
      "You should consider upgrading via the 'pip install vortexasdk --upgrade' command.\n",
      "2020-07-14 08:48:20,657 vortexasdk.client — INFO — Payload: {'term': ['diesel', 'fuel oil', 'grane'], 'allowTopLevelProducts': True}\n",
      "2020-07-14 08:48:23,196 vortexasdk.client — INFO — 71 Results to retrieve. Sending 1 post requests in parallel using 6 threads.\n"
     ]
    }
   ],
   "source": [
    "df = Products().search(term=['diesel', 'fuel oil', 'grane']).to_df()"
   ]
  },
  {
   "cell_type": "code",
   "execution_count": 3,
   "metadata": {},
   "outputs": [
    {
     "data": {
      "text/html": [
       "<div>\n",
       "<style scoped>\n",
       "    .dataframe tbody tr th:only-of-type {\n",
       "        vertical-align: middle;\n",
       "    }\n",
       "\n",
       "    .dataframe tbody tr th {\n",
       "        vertical-align: top;\n",
       "    }\n",
       "\n",
       "    .dataframe thead th {\n",
       "        text-align: right;\n",
       "    }\n",
       "</style>\n",
       "<table border=\"1\" class=\"dataframe\">\n",
       "  <thead>\n",
       "    <tr style=\"text-align: right;\">\n",
       "      <th></th>\n",
       "      <th>id</th>\n",
       "      <th>name</th>\n",
       "      <th>layer.0</th>\n",
       "      <th>parent.0.name</th>\n",
       "    </tr>\n",
       "  </thead>\n",
       "  <tbody>\n",
       "    <tr>\n",
       "      <th>0</th>\n",
       "      <td>1c107b4317bc2c85fb6c13cd7b28e8e0a02ec7fecc68af...</td>\n",
       "      <td>Fuel Oil</td>\n",
       "      <td>group_product</td>\n",
       "      <td>Dirty Petroleum Products</td>\n",
       "    </tr>\n",
       "    <tr>\n",
       "      <th>1</th>\n",
       "      <td>da9e67b1dd201a1ad3ae251e6dce8fad404ce50d53adba...</td>\n",
       "      <td>RMD Fuel Oil</td>\n",
       "      <td>grade</td>\n",
       "      <td>High Sulphur Fuel Oil</td>\n",
       "    </tr>\n",
       "    <tr>\n",
       "      <th>2</th>\n",
       "      <td>e6e879021c45470d84ee2f182a42a13537b489ae730640...</td>\n",
       "      <td>Other Fuel Oils</td>\n",
       "      <td>grade</td>\n",
       "      <td>High Sulphur Fuel Oil</td>\n",
       "    </tr>\n",
       "    <tr>\n",
       "      <th>3</th>\n",
       "      <td>06e1a5edb6519714720803884d565fd830854cffb7f0a1...</td>\n",
       "      <td>Fuel Oil Bunkers</td>\n",
       "      <td>grade</td>\n",
       "      <td>High Sulphur Fuel Oil</td>\n",
       "    </tr>\n",
       "    <tr>\n",
       "      <th>4</th>\n",
       "      <td>0dd7857f328177189e20a54af1dc599c8b7e04e79e61cd...</td>\n",
       "      <td>Fuel Oil Cut</td>\n",
       "      <td>grade</td>\n",
       "      <td>High Sulphur Fuel Oil</td>\n",
       "    </tr>\n",
       "  </tbody>\n",
       "</table>\n",
       "</div>"
      ],
      "text/plain": [
       "                                                  id              name  \\\n",
       "0  1c107b4317bc2c85fb6c13cd7b28e8e0a02ec7fecc68af...          Fuel Oil   \n",
       "1  da9e67b1dd201a1ad3ae251e6dce8fad404ce50d53adba...      RMD Fuel Oil   \n",
       "2  e6e879021c45470d84ee2f182a42a13537b489ae730640...   Other Fuel Oils   \n",
       "3  06e1a5edb6519714720803884d565fd830854cffb7f0a1...  Fuel Oil Bunkers   \n",
       "4  0dd7857f328177189e20a54af1dc599c8b7e04e79e61cd...      Fuel Oil Cut   \n",
       "\n",
       "         layer.0             parent.0.name  \n",
       "0  group_product  Dirty Petroleum Products  \n",
       "1          grade     High Sulphur Fuel Oil  \n",
       "2          grade     High Sulphur Fuel Oil  \n",
       "3          grade     High Sulphur Fuel Oil  \n",
       "4          grade     High Sulphur Fuel Oil  "
      ]
     },
     "execution_count": 3,
     "metadata": {},
     "output_type": "execute_result"
    }
   ],
   "source": [
    "df.head()"
   ]
  },
  {
   "cell_type": "markdown",
   "metadata": {},
   "source": [
    "For my study I want to focus on crude/condensates so I am going to modify the list which contains oil product names like this: "
   ]
  },
  {
   "cell_type": "code",
   "execution_count": 4,
   "metadata": {
    "scrolled": false
   },
   "outputs": [
    {
     "name": "stdout",
     "output_type": "stream",
     "text": [
      "2020-07-14 08:48:24,921 vortexasdk.operations — INFO — Searching Products\n",
      "2020-07-14 08:48:24,922 vortexasdk.client — INFO — Payload: {'term': ['crude'], 'allowTopLevelProducts': True}\n",
      "2020-07-14 08:48:25,518 vortexasdk.client — INFO — 18 Results to retrieve. Sending 1 post requests in parallel using 6 threads.\n"
     ]
    }
   ],
   "source": [
    "crude_search_df = Products().search(term=['crude']).to_df()"
   ]
  },
  {
   "cell_type": "code",
   "execution_count": 5,
   "metadata": {
    "scrolled": true
   },
   "outputs": [
    {
     "data": {
      "text/html": [
       "<div>\n",
       "<style scoped>\n",
       "    .dataframe tbody tr th:only-of-type {\n",
       "        vertical-align: middle;\n",
       "    }\n",
       "\n",
       "    .dataframe tbody tr th {\n",
       "        vertical-align: top;\n",
       "    }\n",
       "\n",
       "    .dataframe thead th {\n",
       "        text-align: right;\n",
       "    }\n",
       "</style>\n",
       "<table border=\"1\" class=\"dataframe\">\n",
       "  <thead>\n",
       "    <tr style=\"text-align: right;\">\n",
       "      <th></th>\n",
       "      <th>id</th>\n",
       "      <th>name</th>\n",
       "      <th>layer.0</th>\n",
       "      <th>parent.0.name</th>\n",
       "    </tr>\n",
       "  </thead>\n",
       "  <tbody>\n",
       "    <tr>\n",
       "      <th>0</th>\n",
       "      <td>6f11b0724c9a4e85ffa7f1445bc768f054af755a090118...</td>\n",
       "      <td>Crude</td>\n",
       "      <td>group_product</td>\n",
       "      <td>Crude/Condensates</td>\n",
       "    </tr>\n",
       "    <tr>\n",
       "      <th>1</th>\n",
       "      <td>e1b3d075a9340969322024a35b8c720e5065d8c95a91b6...</td>\n",
       "      <td>Crude Vegoil</td>\n",
       "      <td>grade</td>\n",
       "      <td>Biodiesel Feedstock</td>\n",
       "    </tr>\n",
       "    <tr>\n",
       "      <th>2</th>\n",
       "      <td>4fe046d7478c4072b9ecbaa2c03d3b977bbfec5077ee44...</td>\n",
       "      <td>Crude Butadiene</td>\n",
       "      <td>grade</td>\n",
       "      <td>Olefins/Other Chemicals</td>\n",
       "    </tr>\n",
       "    <tr>\n",
       "      <th>3</th>\n",
       "      <td>54af755a090118dcf9b0724c9a4e9f14745c26165385ff...</td>\n",
       "      <td>Crude/Condensates</td>\n",
       "      <td>group</td>\n",
       "      <td>NaN</td>\n",
       "    </tr>\n",
       "    <tr>\n",
       "      <th>4</th>\n",
       "      <td>9fda040ee8844e47b5239051e322d06dd9d2b96f0c3249...</td>\n",
       "      <td>TPAO crude</td>\n",
       "      <td>grade</td>\n",
       "      <td>Medium-Sour</td>\n",
       "    </tr>\n",
       "    <tr>\n",
       "      <th>5</th>\n",
       "      <td>2b76490350005604507ca64567101df7d3db80a973f462...</td>\n",
       "      <td>Crude Vegetable Oil</td>\n",
       "      <td>grade</td>\n",
       "      <td>Biodiesel Feedstock</td>\n",
       "    </tr>\n",
       "    <tr>\n",
       "      <th>6</th>\n",
       "      <td>f26cd12252b0bb23b4ab4ab590eaee11037d78a7ac5cc6...</td>\n",
       "      <td>Crude Benzene</td>\n",
       "      <td>grade</td>\n",
       "      <td>Chemicals</td>\n",
       "    </tr>\n",
       "    <tr>\n",
       "      <th>7</th>\n",
       "      <td>e9d1031a9167fff80ef089f2d5591deb1833ee34f1d028...</td>\n",
       "      <td>Crude Palm Oil</td>\n",
       "      <td>grade</td>\n",
       "      <td>Biodiesel Feedstock</td>\n",
       "    </tr>\n",
       "    <tr>\n",
       "      <th>8</th>\n",
       "      <td>c2aa8895d3d176868cbb0519f2bb5318a74a2a66ac9034...</td>\n",
       "      <td>Eagle Ford crude</td>\n",
       "      <td>grade</td>\n",
       "      <td>Light-Sweet</td>\n",
       "    </tr>\n",
       "    <tr>\n",
       "      <th>9</th>\n",
       "      <td>164a4a510343458bbf949a79964ce3bb8efa8d14276c48...</td>\n",
       "      <td>US Shale Crude</td>\n",
       "      <td>grade</td>\n",
       "      <td>Light-Sweet</td>\n",
       "    </tr>\n",
       "    <tr>\n",
       "      <th>10</th>\n",
       "      <td>4ff810b966104a658d22e7155596c11bedcd1e3e81594e...</td>\n",
       "      <td>Yuri Korchagin Crude</td>\n",
       "      <td>grade</td>\n",
       "      <td>Light-Sweet</td>\n",
       "    </tr>\n",
       "    <tr>\n",
       "      <th>11</th>\n",
       "      <td>6fd8a34225de493ab9bff7f95880d96a3e34737db24849...</td>\n",
       "      <td>Domestic Sweet Crude (DSW)</td>\n",
       "      <td>grade</td>\n",
       "      <td>Light-Sour</td>\n",
       "    </tr>\n",
       "    <tr>\n",
       "      <th>12</th>\n",
       "      <td>c49a65c1651913a1cb3b185760ab952827b5b9ddc03e1e...</td>\n",
       "      <td>Crude Soybean Oil (CSBO)</td>\n",
       "      <td>grade</td>\n",
       "      <td>Biodiesel Feedstock</td>\n",
       "    </tr>\n",
       "    <tr>\n",
       "      <th>13</th>\n",
       "      <td>c7bee2499ebba9677e11930891fdd067c293b8536efe53...</td>\n",
       "      <td>Crude Sunflower Oil (CSFO)</td>\n",
       "      <td>grade</td>\n",
       "      <td>Biodiesel Feedstock</td>\n",
       "    </tr>\n",
       "    <tr>\n",
       "      <th>14</th>\n",
       "      <td>c4ad8221d48642b2adc7b363c68a3d729b3ef7f2d9aa42...</td>\n",
       "      <td>Diluted Crude Oil (DCO)</td>\n",
       "      <td>grade</td>\n",
       "      <td>Heavy-Sour</td>\n",
       "    </tr>\n",
       "    <tr>\n",
       "      <th>15</th>\n",
       "      <td>bc9deabd28d74b5985056195dcbcd33ccae7c616e2584a...</td>\n",
       "      <td>Reconstituted Crude Oil (Recon)</td>\n",
       "      <td>grade</td>\n",
       "      <td>Dirty Condensates</td>\n",
       "    </tr>\n",
       "    <tr>\n",
       "      <th>16</th>\n",
       "      <td>98fa8034b122632b13564878dd75d902faa735b822cac9...</td>\n",
       "      <td>Crude Degummed Soybean Oil</td>\n",
       "      <td>grade</td>\n",
       "      <td>Biodiesel Feedstock</td>\n",
       "    </tr>\n",
       "    <tr>\n",
       "      <th>17</th>\n",
       "      <td>ca15a14cae72539854f53413a0f8668bcca2ec90053722...</td>\n",
       "      <td>Crude Blendstock for Oxygenate Blending</td>\n",
       "      <td>grade</td>\n",
       "      <td>Blending Components</td>\n",
       "    </tr>\n",
       "  </tbody>\n",
       "</table>\n",
       "</div>"
      ],
      "text/plain": [
       "                                                   id  \\\n",
       "0   6f11b0724c9a4e85ffa7f1445bc768f054af755a090118...   \n",
       "1   e1b3d075a9340969322024a35b8c720e5065d8c95a91b6...   \n",
       "2   4fe046d7478c4072b9ecbaa2c03d3b977bbfec5077ee44...   \n",
       "3   54af755a090118dcf9b0724c9a4e9f14745c26165385ff...   \n",
       "4   9fda040ee8844e47b5239051e322d06dd9d2b96f0c3249...   \n",
       "5   2b76490350005604507ca64567101df7d3db80a973f462...   \n",
       "6   f26cd12252b0bb23b4ab4ab590eaee11037d78a7ac5cc6...   \n",
       "7   e9d1031a9167fff80ef089f2d5591deb1833ee34f1d028...   \n",
       "8   c2aa8895d3d176868cbb0519f2bb5318a74a2a66ac9034...   \n",
       "9   164a4a510343458bbf949a79964ce3bb8efa8d14276c48...   \n",
       "10  4ff810b966104a658d22e7155596c11bedcd1e3e81594e...   \n",
       "11  6fd8a34225de493ab9bff7f95880d96a3e34737db24849...   \n",
       "12  c49a65c1651913a1cb3b185760ab952827b5b9ddc03e1e...   \n",
       "13  c7bee2499ebba9677e11930891fdd067c293b8536efe53...   \n",
       "14  c4ad8221d48642b2adc7b363c68a3d729b3ef7f2d9aa42...   \n",
       "15  bc9deabd28d74b5985056195dcbcd33ccae7c616e2584a...   \n",
       "16  98fa8034b122632b13564878dd75d902faa735b822cac9...   \n",
       "17  ca15a14cae72539854f53413a0f8668bcca2ec90053722...   \n",
       "\n",
       "                                       name        layer.0  \\\n",
       "0                                     Crude  group_product   \n",
       "1                              Crude Vegoil          grade   \n",
       "2                           Crude Butadiene          grade   \n",
       "3                         Crude/Condensates          group   \n",
       "4                                TPAO crude          grade   \n",
       "5                       Crude Vegetable Oil          grade   \n",
       "6                             Crude Benzene          grade   \n",
       "7                            Crude Palm Oil          grade   \n",
       "8                          Eagle Ford crude          grade   \n",
       "9                            US Shale Crude          grade   \n",
       "10                     Yuri Korchagin Crude          grade   \n",
       "11               Domestic Sweet Crude (DSW)          grade   \n",
       "12                 Crude Soybean Oil (CSBO)          grade   \n",
       "13               Crude Sunflower Oil (CSFO)          grade   \n",
       "14                  Diluted Crude Oil (DCO)          grade   \n",
       "15          Reconstituted Crude Oil (Recon)          grade   \n",
       "16               Crude Degummed Soybean Oil          grade   \n",
       "17  Crude Blendstock for Oxygenate Blending          grade   \n",
       "\n",
       "              parent.0.name  \n",
       "0         Crude/Condensates  \n",
       "1       Biodiesel Feedstock  \n",
       "2   Olefins/Other Chemicals  \n",
       "3                       NaN  \n",
       "4               Medium-Sour  \n",
       "5       Biodiesel Feedstock  \n",
       "6                 Chemicals  \n",
       "7       Biodiesel Feedstock  \n",
       "8               Light-Sweet  \n",
       "9               Light-Sweet  \n",
       "10              Light-Sweet  \n",
       "11               Light-Sour  \n",
       "12      Biodiesel Feedstock  \n",
       "13      Biodiesel Feedstock  \n",
       "14               Heavy-Sour  \n",
       "15        Dirty Condensates  \n",
       "16      Biodiesel Feedstock  \n",
       "17      Blending Components  "
      ]
     },
     "execution_count": 5,
     "metadata": {},
     "output_type": "execute_result"
    }
   ],
   "source": [
    "crude_search_df"
   ]
  },
  {
   "cell_type": "markdown",
   "metadata": {},
   "source": [
    "Here we can see that there are 18 rows and we only want the id where the name column is equal to `Crude/Condensates\t`. So we can query the DataFrame like this to get just row of the DataFrame we are interested in. "
   ]
  },
  {
   "cell_type": "code",
   "execution_count": 13,
   "metadata": {
    "scrolled": true
   },
   "outputs": [
    {
     "data": {
      "text/html": [
       "<div>\n",
       "<style scoped>\n",
       "    .dataframe tbody tr th:only-of-type {\n",
       "        vertical-align: middle;\n",
       "    }\n",
       "\n",
       "    .dataframe tbody tr th {\n",
       "        vertical-align: top;\n",
       "    }\n",
       "\n",
       "    .dataframe thead th {\n",
       "        text-align: right;\n",
       "    }\n",
       "</style>\n",
       "<table border=\"1\" class=\"dataframe\">\n",
       "  <thead>\n",
       "    <tr style=\"text-align: right;\">\n",
       "      <th></th>\n",
       "      <th>id</th>\n",
       "      <th>name</th>\n",
       "      <th>layer.0</th>\n",
       "      <th>parent.0.name</th>\n",
       "    </tr>\n",
       "  </thead>\n",
       "  <tbody>\n",
       "    <tr>\n",
       "      <th>3</th>\n",
       "      <td>54af755a090118dcf9b0724c9a4e9f14745c26165385ffa7f1445bc768f06f11</td>\n",
       "      <td>Crude/Condensates</td>\n",
       "      <td>group</td>\n",
       "      <td>NaN</td>\n",
       "    </tr>\n",
       "  </tbody>\n",
       "</table>\n",
       "</div>"
      ],
      "text/plain": [
       "                                                                 id  \\\n",
       "3  54af755a090118dcf9b0724c9a4e9f14745c26165385ffa7f1445bc768f06f11   \n",
       "\n",
       "                name layer.0 parent.0.name  \n",
       "3  Crude/Condensates   group           NaN  "
      ]
     },
     "execution_count": 13,
     "metadata": {},
     "output_type": "execute_result"
    }
   ],
   "source": [
    "crude_search_df.query(\"name=='Crude/Condensates'\")"
   ]
  },
  {
   "cell_type": "markdown",
   "metadata": {},
   "source": [
    "If you look at the end of the id you can see it finishes with `...` this suggests that we cant see the full legnth of the column. If we increase the width options of the row like this `pd.set_option('max_colwidth', 75)` and run the same query of the dataframe we can see the full id. The rest of the notebook will have the column width settings we have defined here so we will not need to do it again. "
   ]
  },
  {
   "cell_type": "code",
   "execution_count": 15,
   "metadata": {},
   "outputs": [
    {
     "data": {
      "text/html": [
       "<div>\n",
       "<style scoped>\n",
       "    .dataframe tbody tr th:only-of-type {\n",
       "        vertical-align: middle;\n",
       "    }\n",
       "\n",
       "    .dataframe tbody tr th {\n",
       "        vertical-align: top;\n",
       "    }\n",
       "\n",
       "    .dataframe thead th {\n",
       "        text-align: right;\n",
       "    }\n",
       "</style>\n",
       "<table border=\"1\" class=\"dataframe\">\n",
       "  <thead>\n",
       "    <tr style=\"text-align: right;\">\n",
       "      <th></th>\n",
       "      <th>id</th>\n",
       "      <th>name</th>\n",
       "      <th>layer.0</th>\n",
       "      <th>parent.0.name</th>\n",
       "    </tr>\n",
       "  </thead>\n",
       "  <tbody>\n",
       "    <tr>\n",
       "      <th>3</th>\n",
       "      <td>54af755a090118dcf9b0724c9a4e9f14745c26165385ffa7f1445bc768f06f11</td>\n",
       "      <td>Crude/Condensates</td>\n",
       "      <td>group</td>\n",
       "      <td>NaN</td>\n",
       "    </tr>\n",
       "  </tbody>\n",
       "</table>\n",
       "</div>"
      ],
      "text/plain": [
       "                                                                 id  \\\n",
       "3  54af755a090118dcf9b0724c9a4e9f14745c26165385ffa7f1445bc768f06f11   \n",
       "\n",
       "                name layer.0 parent.0.name  \n",
       "3  Crude/Condensates   group           NaN  "
      ]
     },
     "execution_count": 15,
     "metadata": {},
     "output_type": "execute_result"
    }
   ],
   "source": [
    "pd.set_option('max_colwidth', 75)\n",
    "crude_search_df.query(\"name=='Crude/Condensates'\")"
   ]
  },
  {
   "cell_type": "markdown",
   "metadata": {},
   "source": [
    "# Geographies "
   ]
  },
  {
   "cell_type": "markdown",
   "metadata": {},
   "source": [
    "Just like before we are going to use one of the examples from the documentation and slightly tweak it to what we need for our study. Docs found here: https://vortechsa.github.io/python-sdk/endpoints/geographies/."
   ]
  },
  {
   "cell_type": "code",
   "execution_count": 16,
   "metadata": {
    "scrolled": true
   },
   "outputs": [
    {
     "name": "stdout",
     "output_type": "stream",
     "text": [
      "2020-07-14 08:55:11,229 vortexasdk.operations — INFO — Searching Geographies\n",
      "2020-07-14 08:55:11,229 vortexasdk.client — INFO — Payload: {'term': ['Liverpool', 'Southampton']}\n",
      "2020-07-14 08:55:16,342 vortexasdk.client — INFO — 4 Results to retrieve. Sending 1 post requests in parallel using 6 threads.\n"
     ]
    }
   ],
   "source": [
    "df = Geographies().search(term=[\"Liverpool\", \"Southampton\"]).to_df()"
   ]
  },
  {
   "cell_type": "code",
   "execution_count": 9,
   "metadata": {
    "scrolled": true
   },
   "outputs": [
    {
     "data": {
      "text/html": [
       "<div>\n",
       "<style scoped>\n",
       "    .dataframe tbody tr th:only-of-type {\n",
       "        vertical-align: middle;\n",
       "    }\n",
       "\n",
       "    .dataframe tbody tr th {\n",
       "        vertical-align: top;\n",
       "    }\n",
       "\n",
       "    .dataframe thead th {\n",
       "        text-align: right;\n",
       "    }\n",
       "</style>\n",
       "<table border=\"1\" class=\"dataframe\">\n",
       "  <thead>\n",
       "    <tr style=\"text-align: right;\">\n",
       "      <th></th>\n",
       "      <th>id</th>\n",
       "      <th>name</th>\n",
       "      <th>layer</th>\n",
       "    </tr>\n",
       "  </thead>\n",
       "  <tbody>\n",
       "    <tr>\n",
       "      <th>0</th>\n",
       "      <td>b600e4f54cbdef578b2c6bdd7f508212ee4fb9552991d82e180a3d8f625669fd</td>\n",
       "      <td>Liverpool [GB]</td>\n",
       "      <td>[port]</td>\n",
       "    </tr>\n",
       "    <tr>\n",
       "      <th>1</th>\n",
       "      <td>0c69b0aaf2d110e102dd3b3f05d5540b8e5346d27f344a71983ab7d4566de0f2</td>\n",
       "      <td>Southampton [GB]</td>\n",
       "      <td>[port]</td>\n",
       "    </tr>\n",
       "    <tr>\n",
       "      <th>2</th>\n",
       "      <td>8baf08eff90bf9a1677ca0e55aae7e139bfaf155563b1ee1e0824273e3181f2d</td>\n",
       "      <td>Liverpool Docks</td>\n",
       "      <td>[terminal]</td>\n",
       "    </tr>\n",
       "    <tr>\n",
       "      <th>3</th>\n",
       "      <td>98db74d66fac18f2b0d8488f46af96fec3fc6edb7bc267cf75a1c50b0d2ee2b1</td>\n",
       "      <td>Liverpool Bulk Liquids</td>\n",
       "      <td>[terminal]</td>\n",
       "    </tr>\n",
       "  </tbody>\n",
       "</table>\n",
       "</div>"
      ],
      "text/plain": [
       "                                                                 id  \\\n",
       "0  b600e4f54cbdef578b2c6bdd7f508212ee4fb9552991d82e180a3d8f625669fd   \n",
       "1  0c69b0aaf2d110e102dd3b3f05d5540b8e5346d27f344a71983ab7d4566de0f2   \n",
       "2  8baf08eff90bf9a1677ca0e55aae7e139bfaf155563b1ee1e0824273e3181f2d   \n",
       "3  98db74d66fac18f2b0d8488f46af96fec3fc6edb7bc267cf75a1c50b0d2ee2b1   \n",
       "\n",
       "                     name       layer  \n",
       "0          Liverpool [GB]      [port]  \n",
       "1        Southampton [GB]      [port]  \n",
       "2         Liverpool Docks  [terminal]  \n",
       "3  Liverpool Bulk Liquids  [terminal]  "
      ]
     },
     "execution_count": 9,
     "metadata": {},
     "output_type": "execute_result"
    }
   ],
   "source": [
    "df"
   ]
  },
  {
   "cell_type": "code",
   "execution_count": 10,
   "metadata": {
    "scrolled": false
   },
   "outputs": [
    {
     "name": "stdout",
     "output_type": "stream",
     "text": [
      "2020-07-14 08:51:17,244 vortexasdk.operations — INFO — Searching Geographies\n",
      "2020-07-14 08:51:17,245 vortexasdk.client — INFO — Payload: {'term': ['China']}\n",
      "2020-07-14 08:51:17,415 vortexasdk.client — INFO — 13 Results to retrieve. Sending 1 post requests in parallel using 6 threads.\n"
     ]
    }
   ],
   "source": [
    "china_search_df = Geographies().search(term=[\"China\"]).to_df()"
   ]
  },
  {
   "cell_type": "code",
   "execution_count": 11,
   "metadata": {
    "scrolled": false
   },
   "outputs": [
    {
     "data": {
      "text/html": [
       "<div>\n",
       "<style scoped>\n",
       "    .dataframe tbody tr th:only-of-type {\n",
       "        vertical-align: middle;\n",
       "    }\n",
       "\n",
       "    .dataframe tbody tr th {\n",
       "        vertical-align: top;\n",
       "    }\n",
       "\n",
       "    .dataframe thead th {\n",
       "        text-align: right;\n",
       "    }\n",
       "</style>\n",
       "<table border=\"1\" class=\"dataframe\">\n",
       "  <thead>\n",
       "    <tr style=\"text-align: right;\">\n",
       "      <th></th>\n",
       "      <th>id</th>\n",
       "      <th>name</th>\n",
       "      <th>layer</th>\n",
       "    </tr>\n",
       "  </thead>\n",
       "  <tbody>\n",
       "    <tr>\n",
       "      <th>0</th>\n",
       "      <td>934c47f36c16a58d68ef5e007e62a23f5f036ee3f3d1f5f85a48c572b90ad8b2</td>\n",
       "      <td>China</td>\n",
       "      <td>[country]</td>\n",
       "    </tr>\n",
       "    <tr>\n",
       "      <th>1</th>\n",
       "      <td>781cacc7033f877caa4b4106d096b74afe006a96391bf5a56a4f55b849359a42</td>\n",
       "      <td>South China</td>\n",
       "      <td>[shipping_region]</td>\n",
       "    </tr>\n",
       "    <tr>\n",
       "      <th>2</th>\n",
       "      <td>a63890260e29d859390fd1a23c690181afd4bd152943a04c00cd6a5ecf3f7d1e</td>\n",
       "      <td>North China</td>\n",
       "      <td>[shipping_region]</td>\n",
       "    </tr>\n",
       "    <tr>\n",
       "      <th>3</th>\n",
       "      <td>b5fafce6e20de2dc307fb7e0b89978ee91a49a7b6ec6f5461daf2633f3c56674</td>\n",
       "      <td>China (excl. HK &amp; Macau)</td>\n",
       "      <td>[shipping_region]</td>\n",
       "    </tr>\n",
       "    <tr>\n",
       "      <th>4</th>\n",
       "      <td>9a021f43c397b175ddfff7a91d46ee6e6e16d37e9f9d52398ac6895656109d86</td>\n",
       "      <td>China Steel Chemical</td>\n",
       "      <td>[terminal]</td>\n",
       "    </tr>\n",
       "  </tbody>\n",
       "</table>\n",
       "</div>"
      ],
      "text/plain": [
       "                                                                 id  \\\n",
       "0  934c47f36c16a58d68ef5e007e62a23f5f036ee3f3d1f5f85a48c572b90ad8b2   \n",
       "1  781cacc7033f877caa4b4106d096b74afe006a96391bf5a56a4f55b849359a42   \n",
       "2  a63890260e29d859390fd1a23c690181afd4bd152943a04c00cd6a5ecf3f7d1e   \n",
       "3  b5fafce6e20de2dc307fb7e0b89978ee91a49a7b6ec6f5461daf2633f3c56674   \n",
       "4  9a021f43c397b175ddfff7a91d46ee6e6e16d37e9f9d52398ac6895656109d86   \n",
       "\n",
       "                       name              layer  \n",
       "0                     China          [country]  \n",
       "1               South China  [shipping_region]  \n",
       "2               North China  [shipping_region]  \n",
       "3  China (excl. HK & Macau)  [shipping_region]  \n",
       "4      China Steel Chemical         [terminal]  "
      ]
     },
     "execution_count": 11,
     "metadata": {},
     "output_type": "execute_result"
    }
   ],
   "source": [
    "china_search_df.head(5)"
   ]
  },
  {
   "cell_type": "code",
   "execution_count": 12,
   "metadata": {},
   "outputs": [
    {
     "data": {
      "text/html": [
       "<div>\n",
       "<style scoped>\n",
       "    .dataframe tbody tr th:only-of-type {\n",
       "        vertical-align: middle;\n",
       "    }\n",
       "\n",
       "    .dataframe tbody tr th {\n",
       "        vertical-align: top;\n",
       "    }\n",
       "\n",
       "    .dataframe thead th {\n",
       "        text-align: right;\n",
       "    }\n",
       "</style>\n",
       "<table border=\"1\" class=\"dataframe\">\n",
       "  <thead>\n",
       "    <tr style=\"text-align: right;\">\n",
       "      <th></th>\n",
       "      <th>id</th>\n",
       "      <th>name</th>\n",
       "      <th>layer</th>\n",
       "    </tr>\n",
       "  </thead>\n",
       "  <tbody>\n",
       "    <tr>\n",
       "      <th>0</th>\n",
       "      <td>934c47f36c16a58d68ef5e007e62a23f5f036ee3f3d1f5f85a48c572b90ad8b2</td>\n",
       "      <td>China</td>\n",
       "      <td>[country]</td>\n",
       "    </tr>\n",
       "  </tbody>\n",
       "</table>\n",
       "</div>"
      ],
      "text/plain": [
       "                                                                 id   name  \\\n",
       "0  934c47f36c16a58d68ef5e007e62a23f5f036ee3f3d1f5f85a48c572b90ad8b2  China   \n",
       "\n",
       "       layer  \n",
       "0  [country]  "
      ]
     },
     "execution_count": 12,
     "metadata": {},
     "output_type": "execute_result"
    }
   ],
   "source": [
    "china_search_df.query(\"name=='China'\")"
   ]
  },
  {
   "cell_type": "markdown",
   "metadata": {},
   "source": [
    "# Chinese floating storage study\n",
    "\n",
    "For my study I want to look at Crude and condensates in currently in floating storage sitated in China and how this has changed over in 2020. So once again Im going to take the code which is provided in the documentation and change it to my specific needs."
   ]
  },
  {
   "cell_type": "markdown",
   "metadata": {},
   "source": [
    "Lets break down the query bellow line by line.\n",
    "\n",
    "Together lets break this down line by line to understand whats going on. \n",
    "\n",
    "1) The first line finds the ID for Rotterdam using the geographies endpoint and assigns it to a variable called `rotterdam`\n",
    "\n",
    "2) Then the ID for crude using the products endpoint and assigns it to a variable called `crude`\n",
    "\n",
    "3) Then it calls the CargoTimeSeries endpoint\n",
    "\n",
    "4) The `timeseries_unit` arguement is set to `bpd` which means the unit is set to barrels\n",
    "\n",
    "5) The `timeseries_frequency` arguement is set to `month` which means the time scale is set the months\n",
    "\n",
    "6) The `filter_origins` arguement is set to `rotterdam` the variable defined in the 1st line\n",
    "\n",
    "7) The `filter_products` arguement is set to `crude` which was defined in the 2nd line\n",
    "\n",
    "8) The `filter_activity` argument is set to `loading_state`. \n",
    "\n",
    "9) The `filter_time_min`, the start time for the query is set to the beginning of 2018\n",
    "\n",
    "10) The `filter_time_max`, the end time for the query is set to the end of 2018\n",
    "\n",
    "11) The search result is turned into a DataFrame\n"
   ]
  },
  {
   "cell_type": "code",
   "execution_count": 17,
   "metadata": {
    "scrolled": false
   },
   "outputs": [
    {
     "name": "stdout",
     "output_type": "stream",
     "text": [
      "2020-07-14 08:56:23,260 vortexasdk.operations — INFO — Searching Geographies\n",
      "2020-07-14 08:56:23,261 vortexasdk.client — INFO — Payload: {'term': ['rotterdam']}\n",
      "2020-07-14 08:56:26,383 vortexasdk.client — INFO — 11 Results to retrieve. Sending 1 post requests in parallel using 6 threads.\n",
      "2020-07-14 08:56:27,834 vortexasdk.operations — INFO — Searching Products\n",
      "2020-07-14 08:56:27,835 vortexasdk.client — INFO — Payload: {'term': ['crude'], 'allowTopLevelProducts': True}\n",
      "2020-07-14 08:56:29,146 vortexasdk.client — INFO — 18 Results to retrieve. Sending 1 post requests in parallel using 6 threads.\n",
      "2020-07-14 08:56:30,594 vortexasdk.operations — INFO — Searching CargoTimeSeries\n",
      "2020-07-14 08:56:30,596 vortexasdk.client — INFO — Payload: {'filter_activity': 'loading_state', 'filter_time_min': '2018-01-01T00:00:00.000Z', 'filter_time_max': '2018-12-31T00:00:00.000Z', 'filter_products': ['6f11b0724c9a4e85ffa7f1445bc768f054af755a090118dcf99f14745c261653'], 'filter_origins': ['68faf65af1345067f11dc6723b8da32f00e304a6f33c000118fccd81947deb4e'], 'timeseries_frequency': 'month', 'timeseries_unit': 'bpd', 'timeseries_activity': 'loading_state', 'size': 500}\n"
     ]
    }
   ],
   "source": [
    "rotterdam = [g.id for g in Geographies().search(\"rotterdam\").to_list() if \"port\" in g.layer]\n",
    "crude = [p.id for p in Products().search(\"crude\").to_list() if \"Crude\" == p.name]\n",
    "search_result = CargoTimeSeries().search(\n",
    "    timeseries_unit='bpd',\n",
    "    timeseries_frequency='month',\n",
    "    filter_origins=rotterdam,\n",
    "    filter_products=crude,\n",
    "    filter_activity='loading_state',\n",
    "    filter_time_min=datetime(2018, 1, 1),\n",
    "    filter_time_max=datetime(2018, 12, 31))\n",
    "df = search_result.to_df()"
   ]
  },
  {
   "cell_type": "markdown",
   "metadata": {},
   "source": [
    "So how can we change that query to get Crude/condestates in floating storage sitatued in China? \n",
    "As we already have the IDs for our geography and product we dont need to call those endpoints in our first 2 lines.\n",
    "\n",
    "1) We can assign the ID for China to a variable called `china_id` using the ID we found earlier in the notebook\n",
    "\n",
    "2) Assign the ID for the Crude/Condensates to a variable called `crude_condesates_id`\n",
    "\n",
    "3) We keep this the same as before as we are calling the same endpoint.\n",
    "\n",
    "4) For our 4th line, I prefer to think of things in terms of tonnes so I’m going to change the timeseries_unit to be `t`.\n",
    "\n",
    "5) For the 5th line, I’m going to change `month` to `day` as I'd like to see the change on a daily basis\n",
    "\n",
    "6) Here I’m going to change this one slightly, as I’m not concerned where the crude/ condensates have come from I’m going to remove the `filter_origins` argument and replace it which `filter_storage_locations`, and set it to `china_id` which we have defined in the first line.\n",
    "\n",
    "7) Set the `filter_products` argument to `crude_condesates_id` which we have defined in the 2nd line.\n",
    "\n",
    "8) This time for the 8th line I’m going to set the `filter_activity` to `'storing_state'`.\n",
    "\n",
    "9) Here I have changed the date to be at the start of this year\n",
    "\n",
    "10) Using `datetime.today().date()` we get today’s date\n",
    "\n",
    "11) Finally, I’m going to keep the 11th line the same. As I would like the results to be a DataFrame just like in the first query\n",
    "\n",
    "\n",
    "Lets see what happens"
   ]
  },
  {
   "cell_type": "code",
   "execution_count": 23,
   "metadata": {
    "scrolled": false
   },
   "outputs": [
    {
     "name": "stdout",
     "output_type": "stream",
     "text": [
      "2020-07-14 09:55:29,495 vortexasdk.operations — INFO — Searching CargoTimeSeries\n",
      "2020-07-14 09:55:29,496 vortexasdk.client — INFO — Payload: {'filter_activity': 'storing_state', 'filter_time_min': '2020-01-01T00:00:00.000Z', 'filter_time_max': '2020-07-14T00:00:00.000Z', 'filter_products': ['54af755a090118dcf9b0724c9a4e9f14745c26165385ffa7f1445bc768f06f11'], 'filter_storage_locations': ['934c47f36c16a58d68ef5e007e62a23f5f036ee3f3d1f5f85a48c572b90ad8b2'], 'timeseries_frequency': 'day', 'timeseries_unit': 't', 'timeseries_activity': 'storing_state', 'size': 500}\n"
     ]
    }
   ],
   "source": [
    "china_id = '934c47f36c16a58d68ef5e007e62a23f5f036ee3f3d1f5f85a48c572b90ad8b2'\n",
    "crude_condesates_id = '54af755a090118dcf9b0724c9a4e9f14745c26165385ffa7f1445bc768f06f11'\n",
    "search_result = CargoTimeSeries().search(\n",
    "    timeseries_unit='t',\n",
    "    timeseries_frequency='day',\n",
    "    filter_storage_locations=china_id,\n",
    "    filter_products=crude_condesates_id,\n",
    "    filter_activity='storing_state',\n",
    "    filter_time_min=datetime(2020, 1, 1),\n",
    "    filter_time_max=datetime.today().date())\n",
    "df_fs = search_result.to_df()"
   ]
  },
  {
   "cell_type": "code",
   "execution_count": 19,
   "metadata": {},
   "outputs": [
    {
     "data": {
      "text/html": [
       "<div>\n",
       "<style scoped>\n",
       "    .dataframe tbody tr th:only-of-type {\n",
       "        vertical-align: middle;\n",
       "    }\n",
       "\n",
       "    .dataframe tbody tr th {\n",
       "        vertical-align: top;\n",
       "    }\n",
       "\n",
       "    .dataframe thead th {\n",
       "        text-align: right;\n",
       "    }\n",
       "</style>\n",
       "<table border=\"1\" class=\"dataframe\">\n",
       "  <thead>\n",
       "    <tr style=\"text-align: right;\">\n",
       "      <th></th>\n",
       "      <th>key</th>\n",
       "      <th>value</th>\n",
       "      <th>count</th>\n",
       "    </tr>\n",
       "  </thead>\n",
       "  <tbody>\n",
       "    <tr>\n",
       "      <th>0</th>\n",
       "      <td>2020-01-01T00:00:00.000Z</td>\n",
       "      <td>1696002</td>\n",
       "      <td>25</td>\n",
       "    </tr>\n",
       "    <tr>\n",
       "      <th>1</th>\n",
       "      <td>2020-01-02T00:00:00.000Z</td>\n",
       "      <td>1390004</td>\n",
       "      <td>20</td>\n",
       "    </tr>\n",
       "    <tr>\n",
       "      <th>2</th>\n",
       "      <td>2020-01-03T00:00:00.000Z</td>\n",
       "      <td>1206009</td>\n",
       "      <td>20</td>\n",
       "    </tr>\n",
       "    <tr>\n",
       "      <th>3</th>\n",
       "      <td>2020-01-04T00:00:00.000Z</td>\n",
       "      <td>1687160</td>\n",
       "      <td>22</td>\n",
       "    </tr>\n",
       "    <tr>\n",
       "      <th>4</th>\n",
       "      <td>2020-01-05T00:00:00.000Z</td>\n",
       "      <td>2076389</td>\n",
       "      <td>22</td>\n",
       "    </tr>\n",
       "    <tr>\n",
       "      <th>...</th>\n",
       "      <td>...</td>\n",
       "      <td>...</td>\n",
       "      <td>...</td>\n",
       "    </tr>\n",
       "    <tr>\n",
       "      <th>191</th>\n",
       "      <td>2020-07-10T00:00:00.000Z</td>\n",
       "      <td>10605473</td>\n",
       "      <td>87</td>\n",
       "    </tr>\n",
       "    <tr>\n",
       "      <th>192</th>\n",
       "      <td>2020-07-11T00:00:00.000Z</td>\n",
       "      <td>10907096</td>\n",
       "      <td>84</td>\n",
       "    </tr>\n",
       "    <tr>\n",
       "      <th>193</th>\n",
       "      <td>2020-07-12T00:00:00.000Z</td>\n",
       "      <td>10962023</td>\n",
       "      <td>83</td>\n",
       "    </tr>\n",
       "    <tr>\n",
       "      <th>194</th>\n",
       "      <td>2020-07-13T00:00:00.000Z</td>\n",
       "      <td>11099311</td>\n",
       "      <td>82</td>\n",
       "    </tr>\n",
       "    <tr>\n",
       "      <th>195</th>\n",
       "      <td>2020-07-14T00:00:00.000Z</td>\n",
       "      <td>10436910</td>\n",
       "      <td>76</td>\n",
       "    </tr>\n",
       "  </tbody>\n",
       "</table>\n",
       "<p>196 rows × 3 columns</p>\n",
       "</div>"
      ],
      "text/plain": [
       "                          key     value  count\n",
       "0    2020-01-01T00:00:00.000Z   1696002     25\n",
       "1    2020-01-02T00:00:00.000Z   1390004     20\n",
       "2    2020-01-03T00:00:00.000Z   1206009     20\n",
       "3    2020-01-04T00:00:00.000Z   1687160     22\n",
       "4    2020-01-05T00:00:00.000Z   2076389     22\n",
       "..                        ...       ...    ...\n",
       "191  2020-07-10T00:00:00.000Z  10605473     87\n",
       "192  2020-07-11T00:00:00.000Z  10907096     84\n",
       "193  2020-07-12T00:00:00.000Z  10962023     83\n",
       "194  2020-07-13T00:00:00.000Z  11099311     82\n",
       "195  2020-07-14T00:00:00.000Z  10436910     76\n",
       "\n",
       "[196 rows x 3 columns]"
      ]
     },
     "execution_count": 19,
     "metadata": {},
     "output_type": "execute_result"
    }
   ],
   "source": [
    "df_fs"
   ]
  },
  {
   "cell_type": "markdown",
   "metadata": {},
   "source": [
    "# Displaying this data in a graph"
   ]
  },
  {
   "cell_type": "markdown",
   "metadata": {},
   "source": [
    "So here Im to show you how to display the graph in a notebook but first I'm going to show you how to export the data as a CSV so you can look at the data in Excel or Google Sheets.\n",
    "\n",
    "To export the DataFrame to your desktop as a CSV add `.to_csv('~/Desktop/chinese_floating_storage.csv')` to the DataFrame in a cell.\n",
    "\n",
    "Like this: "
   ]
  },
  {
   "cell_type": "code",
   "execution_count": 20,
   "metadata": {},
   "outputs": [],
   "source": [
    "df_fs.to_csv('~/Desktop/chinese_floating_storage.csv')"
   ]
  },
  {
   "cell_type": "markdown",
   "metadata": {},
   "source": [
    "Now if you look on your desktop there should be a file called `chinese_floating_storage.csv`, and you'll be able to open this file in excel. "
   ]
  },
  {
   "cell_type": "markdown",
   "metadata": {},
   "source": [
    "Using a python library called matplotlib that we imported at the top of this notebook you can also display the results of the query like this: "
   ]
  },
  {
   "cell_type": "code",
   "execution_count": 21,
   "metadata": {},
   "outputs": [],
   "source": [
    "# rename columns\n",
    "df_fs = df_fs.rename(columns={'key': 'date',\n",
    "                              'value': 't',\n",
    "                              'count': 'number_of_cargo_movements'})\n",
    "\n",
    "# remove time zone from timestamp\n",
    "df_fs['date'] = pd.to_datetime(df_fs['date']).dt.tz_localize(None)"
   ]
  },
  {
   "cell_type": "code",
   "execution_count": 22,
   "metadata": {
    "scrolled": true
   },
   "outputs": [
    {
     "data": {
      "image/png": "[encoded data removed]",
      "text/plain": [
       "<Figure size 432x288 with 1 Axes>"
      ]
     },
     "metadata": {
      "needs_background": "light"
     },
     "output_type": "display_data"
    }
   ],
   "source": [
    "floating_storage = df_fs.set_index('date')['t'] / 1000\n",
    "floating_storage.plot(title='Chinese crude oil floating storage', grid=True)\n",
    "plt.xlabel('date')\n",
    "plt.ylabel('kt');"
   ]
  },
  {
   "cell_type": "code",
   "execution_count": null,
   "metadata": {},
   "outputs": [],
   "source": []
  }
 ],
 "metadata": {
  "kernelspec": {
   "display_name": "python-sdk",
   "language": "python",
   "name": "python-sdk"
  },
  "language_info": {
   "codemirror_mode": {
    "name": "ipython",
    "version": 3
   },
   "file_extension": ".py",
   "mimetype": "text/x-python",
   "name": "python",
   "nbconvert_exporter": "python",
   "pygments_lexer": "ipython3",
   "version": "3.8.2"
  }
 },
 "nbformat": 4,
 "nbformat_minor": 4
}
