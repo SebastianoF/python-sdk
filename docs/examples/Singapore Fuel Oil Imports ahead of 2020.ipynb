{
 "cells": [
  {
   "cell_type": "code",
   "execution_count": null,
   "metadata": {},
   "outputs": [],
   "source": [
    "from datetime import datetime\n",
    "import matplotlib as plt\n",
    "from vortexasdk import CargoMovements, Geographies, Products"
   ]
  },
  {
   "cell_type": "code",
   "execution_count": null,
   "metadata": {},
   "outputs": [],
   "source": [
    "singapore = [g.id for g in Geographies().search(term='singapore').to_list() if 'port' in g.layer]"
   ]
  },
  {
   "cell_type": "code",
   "execution_count": null,
   "metadata": {},
   "outputs": [],
   "source": [
    "fuel_oil = [p.id for p in Products().search(term='fuel oil').to_list()]"
   ]
  },
  {
   "cell_type": "code",
   "execution_count": null,
   "metadata": {},
   "outputs": [],
   "source": [
    "df = CargoMovements()\\\n",
    "        .search(filter_activity='unloading_state',\n",
    "            filter_destinations=singapore,\n",
    "            filter_products=fuel_oil,\n",
    "            filter_time_min=datetime(2019, 1, 1),\n",
    "            filter_time_max=datetime(2019, 12, 31))\\\n",
    "        .to_df()\n",
    "\n",
    "timestamp_col = 'events.cargo_port_unload_event.0.start_timestamp'\n",
    "df['month'] = pd.to_datetime(df[timestamp_col]).dt.month"
   ]
  },
  {
   "cell_type": "code",
   "execution_count": null,
   "metadata": {},
   "outputs": [],
   "source": [
    "monthly_aggregate = df.groupby(by='month')['quantity'].sum()\n",
    "\n",
    "monthly_aggregate.plot(title='Singapore Fuel Oil Imports ahead of IMO 2020', ylim=(0, 3.5e7), figsize=(15, 5), )"
   ]
  }
 ],
 "metadata": {
  "kernelspec": {
   "display_name": "python-sdk",
   "language": "python",
   "name": "python-sdk"
  },
  "language_info": {
   "codemirror_mode": {
    "name": "ipython",
    "version": 3
   },
   "file_extension": ".py",
   "mimetype": "text/x-python",
   "name": "python",
   "nbconvert_exporter": "python",
   "pygments_lexer": "ipython3",
   "version": "3.7.5"
  }
 },
 "nbformat": 4,
 "nbformat_minor": 4
}
